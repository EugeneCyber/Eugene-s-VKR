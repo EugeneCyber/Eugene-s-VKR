{
 "cells": [
  {
   "cell_type": "markdown",
   "metadata": {
    "id": "eTHVrO-XDbv6",
    "jp-MarkdownHeadingCollapsed": true
   },
   "source": [
    "# **Парсер для LMS Moodle**"
   ]
  },
  {
   "cell_type": "markdown",
   "metadata": {
    "id": "Q3rpZws1QJBf",
    "jp-MarkdownHeadingCollapsed": true
   },
   "source": [
    "# Базовые функции и библиотеки"
   ]
  },
  {
   "cell_type": "code",
   "execution_count": 1,
   "metadata": {
    "id": "B1inMDi7QvMp"
   },
   "outputs": [],
   "source": [
    "import xml.etree.ElementTree as ET\n",
    "import psycopg2"
   ]
  },
  {
   "cell_type": "markdown",
   "metadata": {},
   "source": [
    "возврат путей xml файлов"
   ]
  },
  {
   "cell_type": "code",
   "execution_count": 2,
   "metadata": {
    "id": "pVdFzS18DCvo"
   },
   "outputs": [],
   "source": [
    "def activities_directories ():\n",
    "    file = \"backup/moodle_backup.xml\"\n",
    "    direct = []\n",
    "    directory = find_by_tag(file,\"directory\")\n",
    "    modulename = find_by_tag(file,\"modulename\")\n",
    "    for i in range( len(modulename) ):\n",
    "        text_dir = \"backup/\" + directory[i] + \"/\" + modulename[i] + \".xml\"\n",
    "        direct.insert(i, text_dir)\n",
    "    return direct"
   ]
  },
  {
   "cell_type": "markdown",
   "metadata": {},
   "source": [
    "возварт текста по тегу"
   ]
  },
  {
   "cell_type": "code",
   "execution_count": 3,
   "metadata": {},
   "outputs": [],
   "source": [
    "def find_by_tag (file, tag):\n",
    "    tree = ET.parse(file)\n",
    "    root = tree.getroot()\n",
    "    res = \"\"\n",
    "    for text_in_root in root.iter(tag):\n",
    "        res += str(text_in_root.text)\n",
    "        res += \"\\n\"\n",
    "    listRes = list(res.split(\"\\n\"))\n",
    "    listRes.pop( len(listRes)-1 )\n",
    "    return listRes"
   ]
  },
  {
   "cell_type": "markdown",
   "metadata": {},
   "source": [
    "возварт текста по тегу из конкретного вложенного тега"
   ]
  },
  {
   "cell_type": "code",
   "execution_count": 4,
   "metadata": {},
   "outputs": [],
   "source": [
    "def find_by_tag_from_tag (file, where, tag):\n",
    "    tree = ET.parse(file)\n",
    "    root = tree.getroot()\n",
    "    res = \"\"\n",
    "    for text_in_root in tree.findall(\".//\" + where + \"/\" + tag):\n",
    "        res += str(text_in_root.text)\n",
    "        res += \"\\n\"\n",
    "    listRes = list(res.split(\"\\n\"))\n",
    "    listRes.pop( len(listRes)-1 )\n",
    "    return listRes"
   ]
  },
  {
   "cell_type": "markdown",
   "metadata": {},
   "source": [
    "возварт аррибута по тегу"
   ]
  },
  {
   "cell_type": "code",
   "execution_count": 5,
   "metadata": {},
   "outputs": [],
   "source": [
    "def find_ID_attrib_by_tag (file, tag):\n",
    "    tree = ET.parse(file)\n",
    "    root = tree.getroot()\n",
    "    res = \"\"\n",
    "    for text_in_root in root.iter(tag):\n",
    "        symbols_to_remove = \"{}id:' \"\n",
    "        res += remove_symbols(symbols_to_remove, str( text_in_root.attrib ))\n",
    "        res += \"\\n\"\n",
    "    listRes = list(res.split(\"\\n\"))\n",
    "    listRes.pop( len(listRes)-1 )\n",
    "    return listRes"
   ]
  },
  {
   "cell_type": "markdown",
   "metadata": {},
   "source": [
    "возврат всего файла"
   ]
  },
  {
   "cell_type": "code",
   "execution_count": 6,
   "metadata": {},
   "outputs": [],
   "source": [
    "\"\"\"def read_all(file):\n",
    "    tree = ET.parse(file)\n",
    "    s = ET.dump(tree)\n",
    "    return s\"\"\"\n",
    "\n",
    "def read_all(file_path):\n",
    "    try:\n",
    "        with open(file_path, 'r', encoding='utf-8') as file:\n",
    "            data = file.read()\n",
    "            data = remove_symbols('\\n', data)\n",
    "        return data\n",
    "    except FileNotFoundError:\n",
    "        return \"File not found\""
   ]
  },
  {
   "cell_type": "markdown",
   "metadata": {},
   "source": [
    "замена конкретной последовательности символов"
   ]
  },
  {
   "cell_type": "code",
   "execution_count": 7,
   "metadata": {},
   "outputs": [],
   "source": [
    "def replace_symbols(text, old_word, new_word):\n",
    "    new_s = text.replace(old_word, new_word)\n",
    "    return new_s"
   ]
  },
  {
   "cell_type": "markdown",
   "metadata": {},
   "source": [
    "удаление конкретных символов"
   ]
  },
  {
   "cell_type": "code",
   "execution_count": 8,
   "metadata": {},
   "outputs": [],
   "source": [
    "def remove_symbols(symbols_to_remove, text):\n",
    "    for symbol in symbols_to_remove:\n",
    "        text = text.replace(symbol, \"\")\n",
    "    return text"
   ]
  },
  {
   "cell_type": "markdown",
   "metadata": {},
   "source": [
    "удаление последнего символа"
   ]
  },
  {
   "cell_type": "code",
   "execution_count": 9,
   "metadata": {},
   "outputs": [],
   "source": [
    "def remove_last_symbol(text):\n",
    "    result_string = \"\"\n",
    "    index = len(text)\n",
    "    for i in range(index-1):\n",
    "        result_string += text[i]\n",
    "    return result_string"
   ]
  },
  {
   "cell_type": "markdown",
   "metadata": {},
   "source": [
    "удаление символов sql"
   ]
  },
  {
   "cell_type": "code",
   "execution_count": 10,
   "metadata": {},
   "outputs": [],
   "source": [
    "def remove_sql_symbol(text_):\n",
    "    text = str(text_)\n",
    "    symbols_to_remove = \"(, )[]\"\n",
    "    for symbol in symbols_to_remove:\n",
    "        text = text.replace(symbol, \"\")\n",
    "    return text"
   ]
  },
  {
   "cell_type": "markdown",
   "metadata": {},
   "source": [
    "функция help"
   ]
  },
  {
   "cell_type": "code",
   "execution_count": 11,
   "metadata": {},
   "outputs": [],
   "source": [
    "def help():\n",
    "    stars = \"||||||||||||||||||||||||||||||||||||||||||||||||||||||||||||||||||||||||||||||||||||||||||||||||||||||||||||||||||||||||||||||||||||||||||||||||||||||||||||||\\n\"\n",
    "    res = stars\n",
    "    res += \"Функция all_files_read() считывает все данные файлов, помещенных в папку backup\\n\"\n",
    "    res += \"Общий массив имеет следующую структуру:\\n\"\n",
    "    \n",
    "    res += \"[\\n\"\n",
    "    res += \"  ['названия ресурсов'] в виде строк,\\n\"\n",
    "    res += \"  ['типы ресурсов'] в виде строк,\\n\"\n",
    "    res += \"  ['ссылки на ресурсы'] в виде строк,\\n\"\n",
    "    res += \"    [\\n\"\n",
    "    res += \"      [массив ресурса 1], [массив ресурса 2], [массив ресурса 3]... \\n\"\n",
    "    res += \"    ]\\n\"\n",
    "    res += \"]\\n\"\n",
    "\n",
    "    #res = \"\"\n",
    "    res += stars\n",
    "    res += \"Ресурс PAGE имеет следующую структуру массива:\\n\"\n",
    "    res += \"[\\n\"\n",
    "    res += \"  'название ресурса',\\n\"\n",
    "    res += \"  ['строка 1', 'строка 2', 'строка 3', 'строка 4'...]\\n\"\n",
    "    res += \"]\\n\"\n",
    "\n",
    "    #res = \"\"\n",
    "    res += stars\n",
    "    res += \"Ресурс CHOICE имеет следующую структуру массива:\\n\"\n",
    "    res += \"[\\n\"\n",
    "    res += \"  'название ресурса',\\n\"\n",
    "    res += \"  ['вопрос (строка) 1', 'вопрос 2', 'вопрос 3', 'вопрос 4'...],\\n\"\n",
    "    res += \"  ['ответ (число в виде строки) 1', 'ответ 2', 'ответ 3', 'ответ 4'...]\\n\"\n",
    "    res += \"]\\n\"\n",
    "\n",
    "    #res = \"\"\n",
    "    res += stars\n",
    "    res += \"Ресурс BOOK имеет следующую структуру массива:\\n\"\n",
    "    res += \"[\\n\"\n",
    "    res += \"  'название ресурса',\\n\"\n",
    "    res += \"  ['глава (строка) 1', 'глава 2', 'глава 3'...],\\n\"\n",
    "    res += \"  [\\n\"\n",
    "    res += \"    ['строка главы 1', 'строка главы 1', 'строка главы 1'...], \\n\"\n",
    "    res += \"    ['строка главы 2', 'строка главы 2', 'строка главы 2'...], \\n\"\n",
    "    res += \"    ['строка главы 3', 'строка главы 3', 'строка главы 3'...] \\n\"\n",
    "    res += \"  ]\\n\"\n",
    "    res += \"]\\n\"\n",
    "\n",
    "    #res = \"\"\n",
    "    res += stars\n",
    "    res += \"Ресурс FEEDBACK имеет следующую структуру массива:\\n\"\n",
    "    res += \"[\\n\"\n",
    "    res += \"  'название ресурса',\\n\"\n",
    "    res += \"  ['вопрос 1', 'вопрос 2', 'вопрос 3'...],\\n\"\n",
    "    res += \"  ['вариат ответа на ворос 1', 'вариат ответа на ворос 1', 'вариат ответа на ворос 1'...], \\n\"\n",
    "    res += \"  ['вариат ответа на ворос 2', 'вариат ответа на ворос 2', 'вариат ответа на ворос 2'...], \\n\"\n",
    "    res += \"  ['вариат ответа на ворос 3', 'вариат ответа на ворос 3', 'вариат ответа на ворос 3'...] \\n\"\n",
    "    res += \"]\\n\"\n",
    "\n",
    "    #res = \"\"\n",
    "    res += stars\n",
    "    res += \"Ресурс SURVEY имеет следующую структуру массива:\\n\"\n",
    "    res += \"[\\n\"\n",
    "    res += \"  'название ресурса',\\n\"\n",
    "    res += \"  ['номер вороса из банка вопросов', 'номер вороса из банка вопросов'...]\\n\"\n",
    "    res += \"]\\n\"\n",
    "\n",
    "    #res = \"\"\n",
    "    res += stars\n",
    "    res += \"Ресурс FORUM имеет следующую структуру массива:\\n\"\n",
    "    res += \"[\\n\"\n",
    "    res += \"  'название ресурса',\\n\"\n",
    "    res += \"  ['id комментария', 'id комментария, на который идет ответ', 'id пользователя, оставившего комментарий', 'текст комментария'],\\n\"\n",
    "    res += \"  ['id комментария', 'id комментария, на который идет ответ', 'id пользователя, оставившего комментарий', 'текст комментария']\\n\"\n",
    "    res += \"]\\n\"\n",
    "\n",
    "    #res = \"\"\n",
    "    res += stars\n",
    "    res += \"Ресурс SCHEDULER имеет следующую структуру массива:\\n\"\n",
    "    res += \"[\\n\"\n",
    "    res += \"  'название ресурса',\\n\"\n",
    "    res += \"  ['id записи', 'id учителя', 'время начала в Unixtime', 'продолжительность в минутах', 'заметки'],\\n\"\n",
    "    res += \"  ['id записи', 'id учителя', 'время начала в Unixtime', 'продолжительность в минутах', 'заметки']\\n\"\n",
    "    res += \"]\\n\"\n",
    "\n",
    "    #res = \"\"\n",
    "    res += stars\n",
    "    res += \"Ресурс QUIZ имеет следующую структуру массива:\\n\"\n",
    "    res += \"[\\n\"\n",
    "    res += \"  'название ресурса',\\n\"\n",
    "    res += \"  ['номер вороса в квизе', 'id вопроса из банка вопросов', 'баллы за правильный ответ'],\\n\"\n",
    "    res += \"  ['номер вороса в квизе', 'id вопроса из банка вопросов', 'баллы за правильный ответ']\\n\"\n",
    "    res += \"]\\n\"\n",
    "\n",
    "    res += stars\n",
    "    return res \n",
    "#print( help() )"
   ]
  },
  {
   "cell_type": "markdown",
   "metadata": {
    "jp-MarkdownHeadingCollapsed": true
   },
   "source": [
    "# Функции чтения отдельных XML файлов ресурсов"
   ]
  },
  {
   "cell_type": "markdown",
   "metadata": {},
   "source": [
    "чтение page"
   ]
  },
  {
   "cell_type": "code",
   "execution_count": 12,
   "metadata": {},
   "outputs": [],
   "source": [
    "def page_read (file):\n",
    "    all_content = []\n",
    "    \n",
    "    title = remove_symbols(\"[]'\", str(find_by_tag_from_tag(file, \"page\", \"name\")))\n",
    "    strings_arr = find_by_tag(file, \"content\")\n",
    "\n",
    "    #all_content.append( title )\n",
    "    all_content.append( strings_arr )\n",
    "\n",
    "    new_page = replace_symbols(remove_symbols(\"[]'\", str(all_content)), '>, <', '> <' )\n",
    "    \n",
    "    return new_page\n",
    "\n",
    "#page_read(\"backup/activities/page_3/page.xml\")"
   ]
  },
  {
   "cell_type": "markdown",
   "metadata": {},
   "source": [
    "чтение choice"
   ]
  },
  {
   "cell_type": "code",
   "execution_count": 13,
   "metadata": {},
   "outputs": [],
   "source": [
    "def choice_read (file):\n",
    "    all_content = []\n",
    "    \n",
    "    title = remove_symbols(\"[]'\", str(find_by_tag_from_tag(file, \"choice\", \"name\")))\n",
    "    text = find_by_tag(file, \"text\")\n",
    "    count = find_by_tag(file, \"maxanswers\")\n",
    "\n",
    "    #all_content.append( title )\n",
    "    #all_content.append( text )\n",
    "    #all_content.append( count )\n",
    "    new_choice = remove_symbols(\"[]'\", str(text))\n",
    "    return new_choice\n",
    "\n",
    "#choice_read(\"backup/activities/choice_4/choice.xml\")"
   ]
  },
  {
   "cell_type": "markdown",
   "metadata": {},
   "source": [
    "чтение book"
   ]
  },
  {
   "cell_type": "code",
   "execution_count": 14,
   "metadata": {},
   "outputs": [],
   "source": [
    "def book_read (file):\n",
    "    all_content = []\n",
    "    book_content = []\n",
    "    name = remove_symbols(\"'[]\", str( find_by_tag(file, \"name\") ) )\n",
    "    title = find_by_tag(file, \"title\")\n",
    "\n",
    "    for i in range( len(title) ):\n",
    "        chap = \"chapter[\" + str(i+1) + \"]\"\n",
    "        content = find_by_tag_from_tag(file, chap, \"content\")\n",
    "        book_content.append(content)\n",
    "    \n",
    "    #all_content.append(name)\n",
    "    all_content.append(title)\n",
    "    all_content.append(book_content)\n",
    "\n",
    "    new_content = \"\"\n",
    "    for index in range( len(title) ):\n",
    "        new_content += \"<h1>\"\n",
    "        new_content += str(all_content[0][index])\n",
    "        new_content += \"</h1>\"\n",
    "        new_content += remove_symbols(\"[]'\", str(all_content[1][index]))\n",
    "        \n",
    "    new_content = replace_symbols(new_content, '>, <', '> <' )\n",
    "    new_content = replace_symbols(new_content, '><', '> <' )\n",
    "    \n",
    "    return new_content\n",
    "    \n",
    "#book_read(\"backup/activities/book_9/book.xml\")"
   ]
  },
  {
   "cell_type": "markdown",
   "metadata": {},
   "source": [
    "чтение feedback"
   ]
  },
  {
   "cell_type": "code",
   "execution_count": 15,
   "metadata": {},
   "outputs": [],
   "source": [
    "def feedback_read (file):\n",
    "    all_content = []\n",
    "    new_parts = []\n",
    "    questions = find_by_tag_from_tag(file, \"item\", \"name\")\n",
    "    answers = []\n",
    "    title = remove_symbols(\"[]'\", str(find_by_tag_from_tag(file, \"feedback\", \"name\")))\n",
    "\n",
    "    arr_content = find_by_tag(file, \"presentation\")\n",
    "    str_content = ''.join(arr_content)\n",
    "    parts = str_content.rsplit('>>>>>')\n",
    "    parts.pop(0)\n",
    "\n",
    "    #all_content.append( title )\n",
    "\n",
    "    #убираем последний символ\n",
    "    for i in range ( len(parts) ):\n",
    "        if i != len(parts)-1:\n",
    "            new_parts.append( remove_last_symbol(parts[i]) )\n",
    "        else:\n",
    "            new_parts.append( parts[i] )\n",
    "\n",
    "    questions = replace_symbols(remove_symbols(\"[]'\", str(questions)), '>, <', '> <' )\n",
    "    all_content.append(questions)\n",
    "    \n",
    "    #разделяем строки по разделителям\n",
    "    for i in range ( len(parts) ):\n",
    "        new = new_parts[i].rsplit('|')\n",
    "\n",
    "        new = replace_symbols(remove_symbols(\"'\", str(new)), '>, <', '> <' )\n",
    "        \n",
    "        answers.append(new)\n",
    "\n",
    "    answers = replace_symbols(remove_symbols(\"'\", str(answers)), '>, <', '> <' )\n",
    "    answers = replace_symbols(answers, '[[', '[' )\n",
    "    answers = replace_symbols(answers, ']]', ']' )\n",
    "    all_content.append(answers)\n",
    "    \n",
    "    return all_content\n",
    "    \n",
    "#feedback_read(\"backup/activities/feedback_7/feedback.xml\")[1]"
   ]
  },
  {
   "cell_type": "markdown",
   "metadata": {},
   "source": [
    "чтение survey"
   ]
  },
  {
   "cell_type": "code",
   "execution_count": 16,
   "metadata": {},
   "outputs": [
    {
     "data": {
      "text/plain": [
       "'25, 26, 27, 28, 29, 30, 43, 44'"
      ]
     },
     "execution_count": 16,
     "metadata": {},
     "output_type": "execute_result"
    }
   ],
   "source": [
    "def survey_read (file):\n",
    "    all_content = []\n",
    "    \n",
    "    questions = find_by_tag(file, \"questions\")\n",
    "    str_content = ''.join(questions)\n",
    "    parts = str_content.rsplit(',')\n",
    "    name = remove_symbols(\"[]'\", str(find_by_tag_from_tag(file, \"survey\", \"name\")))\n",
    "\n",
    "    #all_content.append(name)\n",
    "    all_content.append(parts)\n",
    "\n",
    "    new_survey = remove_symbols(\"[]'\", str(all_content))\n",
    "    \n",
    "    return new_survey\n",
    "survey_read(\"backup/activities/survey_8/survey.xml\")"
   ]
  },
  {
   "cell_type": "markdown",
   "metadata": {},
   "source": [
    "чтение forum"
   ]
  },
  {
   "cell_type": "code",
   "execution_count": 17,
   "metadata": {},
   "outputs": [],
   "source": [
    "def forum_read (file):\n",
    "    all_content = []\n",
    "    comment = []\n",
    "\n",
    "    forum_title = remove_symbols(\"[]'\", str(find_by_tag_from_tag(file, \"discussion\", \"name\")))\n",
    "\n",
    "    comment_id = find_ID_attrib_by_tag(file, \"post\")\n",
    "    parent = find_by_tag(file, \"parent\")\n",
    "    userid = find_by_tag(file, \"userid\")\n",
    "    message = find_by_tag(file, \"message\")\n",
    "\n",
    "    #all_content.append( forum_title )\n",
    "    \n",
    "    for i in range ( len(find_by_tag(file, \"parent\")) ):\n",
    "        #id комментария // id комментария, на который идет ответ // id пользователя, оставившего комментарий // текст комментария\n",
    "        comment = []\n",
    "        comment.append( comment_id[i] )\n",
    "        comment.append( parent[i] )\n",
    "        comment.append( userid[i] )\n",
    "        comment.append( message[i] )\n",
    "        all_content.append( comment )\n",
    "    \n",
    "    return all_content\n",
    "#forum_read(\"backup/activities/forum_1/forum.xml\")"
   ]
  },
  {
   "cell_type": "markdown",
   "metadata": {},
   "source": [
    "чтение scheduler"
   ]
  },
  {
   "cell_type": "code",
   "execution_count": 18,
   "metadata": {},
   "outputs": [],
   "source": [
    "def scheduler_read (file):\n",
    "    all_content = []\n",
    "    slot = []\n",
    "\n",
    "    name = remove_symbols(\"[]'\", str(find_by_tag_from_tag(file, \"scheduler\", \"name\")))\n",
    "    slot_id = find_ID_attrib_by_tag(file, \"slot\")\n",
    "    teacherid = find_by_tag(file, \"teacherid\")\n",
    "    start_time = find_by_tag(file, \"starttime\")\n",
    "    duration = find_by_tag(file, \"duration\")\n",
    "    notes = find_by_tag(file, \"notes\")\n",
    "\n",
    "    #all_content.append( name )\n",
    "\n",
    "    for i in range( len(slot_id) ):\n",
    "        #id записи // id учителя // время начала в Unixtime  // продолжительность в минутах // заметки\n",
    "        slot = []\n",
    "        slot.append( slot_id[i] )\n",
    "        slot.append( teacherid[i] )\n",
    "        slot.append( start_time[i] )\n",
    "        slot.append( duration[i] )\n",
    "        slot.append( notes[i] )\n",
    "\n",
    "        all_content.append( slot )\n",
    "\n",
    "    new_scheduler = replace_symbols(remove_symbols(\"[]'\", str(all_content)), '>, <', '> <' )\n",
    "    \n",
    "    return new_scheduler\n",
    "#scheduler_read(\"backup/activities/scheduler_5/scheduler.xml\")"
   ]
  },
  {
   "cell_type": "markdown",
   "metadata": {},
   "source": [
    "чтение quiz"
   ]
  },
  {
   "cell_type": "code",
   "execution_count": 19,
   "metadata": {},
   "outputs": [],
   "source": [
    "def quiz_read (file):\n",
    "    all_content = []\n",
    "    slot = []\n",
    "\n",
    "    name = remove_symbols(\"[]'\", str(find_by_tag_from_tag(file, \"quiz\", \"name\")))\n",
    "    question_instance = find_ID_attrib_by_tag(file, \"question_instance\")\n",
    "    questionbankentryid = find_by_tag(file, \"questionbankentryid\")\n",
    "    maxmark = find_by_tag(file, \"maxmark\")\n",
    "\n",
    "    #all_content.append( name )\n",
    "    \n",
    "    for i in range( len(question_instance) ):\n",
    "        #номер вороса в квизе // id вопроса из банка вопросов // баллы за правильный ответ\n",
    "        slot = []\n",
    "        #slot.append( question_instance[i] )\n",
    "        slot.append( questionbankentryid[i] )\n",
    "        #slot.append( maxmark[i] )\n",
    "\n",
    "        all_content.append( slot )\n",
    "\n",
    "        new_quiz = remove_symbols(\"[]'\", str(all_content))\n",
    "    \n",
    "    return new_quiz\n",
    "#quiz_read(\"backup/activities/quiz_12/quiz.xml\")"
   ]
  },
  {
   "cell_type": "markdown",
   "metadata": {},
   "source": [
    "чтение банка воросов"
   ]
  },
  {
   "cell_type": "code",
   "execution_count": 20,
   "metadata": {},
   "outputs": [
    {
     "data": {
      "text/plain": [
       "'\\n# чтение банка воросов\\ndef bank_questions_read (file):\\n    all_conntant = []\\n    name = find_by_tag_from_tag(file, \"question\", \"name\")\\n    questiontext = find_by_tag_from_tag(file, \"question\", \"questiontext\")\\n    question_id = find_ID_attrib_by_tag(file, \"question\")\\n\\n    for i in range( len(name) ):\\n        content = []\\n        content.append(question_id[i])\\n        content.append(name[i])\\n        content.append(questiontext[i])\\n        all_conntant.append(content)\\n    \\n    return all_conntant\\n\\n#bank_questions_read(\"backup/questions.xml\\n'"
      ]
     },
     "execution_count": 20,
     "metadata": {},
     "output_type": "execute_result"
    }
   ],
   "source": [
    "\"\"\"\n",
    "# чтение банка воросов\n",
    "def bank_questions_read (file):\n",
    "    all_conntant = []\n",
    "    name = find_by_tag_from_tag(file, \"question\", \"name\")\n",
    "    questiontext = find_by_tag_from_tag(file, \"question\", \"questiontext\")\n",
    "    question_id = find_ID_attrib_by_tag(file, \"question\")\n",
    "\n",
    "    for i in range( len(name) ):\n",
    "        content = []\n",
    "        content.append(question_id[i])\n",
    "        content.append(name[i])\n",
    "        content.append(questiontext[i])\n",
    "        all_conntant.append(content)\n",
    "    \n",
    "    return all_conntant\n",
    "\n",
    "#bank_questions_read(\"backup/questions.xml\n",
    "\"\"\""
   ]
  },
  {
   "cell_type": "markdown",
   "metadata": {
    "jp-MarkdownHeadingCollapsed": true
   },
   "source": [
    "# Функции чтения всех файлов"
   ]
  },
  {
   "cell_type": "markdown",
   "metadata": {},
   "source": [
    "чтение всех видов файлов"
   ]
  },
  {
   "cell_type": "code",
   "execution_count": 21,
   "metadata": {},
   "outputs": [],
   "source": [
    "def read_file (file):\n",
    "    s = file\n",
    "    parts = s.rsplit('/')\n",
    "    res = parts[3]\n",
    "    \n",
    "    if res == \"page.xml\" :\n",
    "        return page_read (file)\n",
    "    elif res == \"choice.xml\" :\n",
    "        return choice_read (file)\n",
    "    elif res == \"book.xml\" :\n",
    "        return book_read (file)\n",
    "    elif res == \"feedback.xml\" :\n",
    "        return feedback_read (file)\n",
    "    elif res == \"survey.xml\" :\n",
    "        return survey_read (file)\n",
    "    elif res == \"forum.xml\" :\n",
    "        return forum_read (file)\n",
    "    elif res == \"scheduler.xml\" :\n",
    "        return scheduler_read (file)\n",
    "    elif res == \"quiz.xml\" :\n",
    "        return quiz_read (file)"
   ]
  },
  {
   "cell_type": "markdown",
   "metadata": {},
   "source": [
    "чтение всего backup файла"
   ]
  },
  {
   "cell_type": "code",
   "execution_count": 22,
   "metadata": {},
   "outputs": [],
   "source": [
    "def all_files_read ():\n",
    "    all_content = []\n",
    "    titles = find_by_tag_from_tag(\"backup/moodle_backup.xml\", \"activity\", \"title\")\n",
    "    types = find_by_tag(\"backup/moodle_backup.xml\", \"modulename\")\n",
    "    ids = find_by_tag(\"backup/moodle_backup.xml\", \"moduleid\")\n",
    "    #urls = []\n",
    "    #contents = []\n",
    "    dirs = activities_directories()\n",
    "    \n",
    "    for i in range ( len(dirs) ):\n",
    "        file = []\n",
    "        urls = \"\"\n",
    "        \n",
    "        contents = read_file(dirs[i])\n",
    "        orig_url = str( find_by_tag(\"backup/moodle_backup.xml\", \"original_wwwroot\") )\n",
    "\n",
    "        #формирование ссылки\n",
    "        symbols_to_remove = \" '[] \"\n",
    "        orig_url = remove_symbols(symbols_to_remove, orig_url)\n",
    "        urls = orig_url + \"/mod/\" + types[i] + \"/view.php\" +  \"?id=\" + ids[i]\n",
    "\n",
    "        file.append( urls )\n",
    "        file.append( dirs[i] )\n",
    "        file.append( types[i] )\n",
    "        file.append( titles[i] )\n",
    "        file.append( contents )\n",
    "        all_content.append( file )\n",
    "\n",
    "    #all_content.append(titles)\n",
    "    #all_content.append(types)\n",
    "    #all_content.append(urls)\n",
    "    #all_content.append(contents)\n",
    "    return all_content\n",
    "\n",
    "#all_files_read()"
   ]
  },
  {
   "cell_type": "markdown",
   "metadata": {
    "jp-MarkdownHeadingCollapsed": true
   },
   "source": [
    "# Базовые функции для работы с БД"
   ]
  },
  {
   "cell_type": "markdown",
   "metadata": {},
   "source": [
    "данные для авторизации в БД"
   ]
  },
  {
   "cell_type": "code",
   "execution_count": 23,
   "metadata": {},
   "outputs": [],
   "source": [
    "#from config import host, user, password, db_name\n",
    "host = \"127.0.0.1\"\n",
    "user = \"postgres\"\n",
    "password = \"qwerty\"\n",
    "db_name = \"test\""
   ]
  },
  {
   "cell_type": "markdown",
   "metadata": {},
   "source": [
    "функция для SQL запросов"
   ]
  },
  {
   "cell_type": "code",
   "execution_count": 24,
   "metadata": {},
   "outputs": [],
   "source": [
    "#функция для SQL запросов\n",
    "def sql(SQL_text):\n",
    "    try:\n",
    "        # connect to exist database\n",
    "        connection = psycopg2.connect(\n",
    "            host=host,\n",
    "            user=user,\n",
    "            password=password,\n",
    "            database=db_name    \n",
    "        )\n",
    "        connection.autocommit = True\n",
    "        \n",
    "        # the cursor for perfoming database operations\n",
    "        # cursor = connection.cursor()\n",
    "        \n",
    "        with connection.cursor() as cursor:\n",
    "            cursor.execute(\n",
    "                \"SELECT version();\"\n",
    "            )\n",
    "            #print(f\"Server version: {cursor.fetchone()}\")\n",
    "            res = cursor.fetchall()\n",
    "            \n",
    "        # create a new table\n",
    "        with connection.cursor() as cursor:\n",
    "             cursor.execute( SQL_text )\n",
    "             res = cursor.fetchall()\n",
    "            \n",
    "             #connection.commit()\n",
    "             #print(\"[INFO] Successfully\")\n",
    "        \n",
    "    except Exception as _ex:\n",
    "        #Error while working with PostgreSQL\n",
    "        print(\"[INFO] \", _ex)\n",
    "    finally:\n",
    "        if connection:\n",
    "            # cursor.close()\n",
    "            connection.close()\n",
    "            #print(\"[INFO] PostgreSQL connection closed\")\n",
    "    return res"
   ]
  },
  {
   "cell_type": "markdown",
   "metadata": {},
   "source": [
    "функция для просмотра содержимого таблиц"
   ]
  },
  {
   "cell_type": "code",
   "execution_count": 25,
   "metadata": {},
   "outputs": [],
   "source": [
    "def show_tables(host, user, password, db_name):\n",
    "    conn = psycopg2.connect(\n",
    "        host=host,\n",
    "        user=user,\n",
    "        password=password,\n",
    "        dbname=db_name\n",
    "    )\n",
    "    cur = conn.cursor()\n",
    "\n",
    "    cur.execute(\"SELECT table_name FROM information_schema.tables WHERE table_schema='public';\")\n",
    "    tables = cur.fetchall()\n",
    "\n",
    "    for table in tables:\n",
    "        table_name = table[0]\n",
    "        print(f\"Table: {table_name}\")\n",
    "        cur.execute(f\"SELECT * FROM {table_name};\")\n",
    "        rows = cur.fetchall()\n",
    "        for row in rows:\n",
    "            print(row)\n",
    "\n",
    "        print('\\n')\n",
    "\n",
    "    conn.close()\n",
    "    \n",
    "#show_tables(host, user, password, db_name)"
   ]
  },
  {
   "cell_type": "markdown",
   "metadata": {
    "jp-MarkdownHeadingCollapsed": true
   },
   "source": [
    "# Создание таблиц"
   ]
  },
  {
   "cell_type": "code",
   "execution_count": 26,
   "metadata": {},
   "outputs": [],
   "source": [
    "def creation_main_tables( create_or_drop ):\n",
    "    \n",
    "    create = \"\"\"\n",
    "    -- edu.file_type определение\n",
    "    \n",
    "    -- Drop table\n",
    "    \n",
    "    -- DROP TABLE file_type;\n",
    "    \n",
    "    CREATE TABLE file_type (\n",
    "    \tid serial4 NOT NULL,\n",
    "    \t\"name\" varchar NULL,\n",
    "    \t\"extension\" varchar NULL,\n",
    "    \tCONSTRAINT file_type_pk PRIMARY KEY (id)\n",
    "    );\n",
    "    \n",
    "    \n",
    "    -- edu.lms определение\n",
    "    \n",
    "    -- Drop table\n",
    "    \n",
    "    -- DROP TABLE lms;\n",
    "    \n",
    "    CREATE TABLE lms (\n",
    "    \tid serial4 NOT NULL,\n",
    "    \t\"name\" varchar NOT NULL,\n",
    "    \tCONSTRAINT lms_pk PRIMARY KEY (id)\n",
    "    );\n",
    "    \n",
    "    \n",
    "    -- edu.lms_resource_type определение\n",
    "    \n",
    "    -- Drop table\n",
    "    \n",
    "    -- DROP TABLE lms_resource_type;\n",
    "    \n",
    "    CREATE TABLE lms_resource_type (\n",
    "    \tid serial4 NOT NULL,\n",
    "    \t\"name\" varchar NOT NULL,\n",
    "    \tCONSTRAINT lms_resource_type_pk PRIMARY KEY (id)\n",
    "    );\n",
    "    \n",
    "    \n",
    "    -- edu.resource определение\n",
    "    \n",
    "    -- Drop table\n",
    "    \n",
    "    -- DROP TABLE resource;\n",
    "    \n",
    "    CREATE TABLE resource (\n",
    "    \tid bigserial NOT NULL,\n",
    "    \turl varchar NULL,\n",
    "    \t\"name\" varchar NULL,\n",
    "    \tdescription text NULL,\n",
    "    \ttags json NULL,\n",
    "    \tCONSTRAINT edu_resource_pk PRIMARY KEY (id)\n",
    "    );\n",
    "    \n",
    "    \n",
    "    -- edu.edu_announcment определение\n",
    "    \n",
    "    -- Drop table\n",
    "    \n",
    "    -- DROP TABLE edu_announcment;\n",
    "    \n",
    "    CREATE TABLE edu_announcment (\n",
    "    \tid bigserial NOT NULL,\n",
    "    \t\"name\" varchar NULL,\n",
    "    \tresource_id int8 NOT NULL,\n",
    "    \tCONSTRAINT edu_announcment_pk PRIMARY KEY (id),\n",
    "    \tCONSTRAINT edu_announcment_fk FOREIGN KEY (resource_id) REFERENCES resource(id) ON DELETE CASCADE ON UPDATE CASCADE\n",
    "    );\n",
    "    \n",
    "    \n",
    "    -- edu.edu_lab_report определение\n",
    "    \n",
    "    -- Drop table\n",
    "    \n",
    "    -- DROP TABLE edu_lab_report;\n",
    "    \n",
    "    CREATE TABLE edu_lab_report (\n",
    "    \tid bigserial NOT NULL,\n",
    "    \tresource_id int8 NOT NULL,\n",
    "    \tCONSTRAINT edu_lab_report_pk PRIMARY KEY (id),\n",
    "    \tCONSTRAINT edu_lab_report_fk FOREIGN KEY (resource_id) REFERENCES resource(id) ON DELETE CASCADE ON UPDATE CASCADE\n",
    "    );\n",
    "    \n",
    "    \n",
    "    -- edu.edu_resource_lecture определение\n",
    "    \n",
    "    -- Drop table\n",
    "    \n",
    "    -- DROP TABLE edu_resource_lecture;\n",
    "    \n",
    "    CREATE TABLE edu_resource_lecture (\n",
    "    \tid bigserial NOT NULL,\n",
    "    \t\"name\" text NULL,\n",
    "    \tresource_id int8 NOT NULL,\n",
    "    \tsummary text NULL,\n",
    "    \tCONSTRAINT edu_resource_lecture_pk PRIMARY KEY (id),\n",
    "    \tCONSTRAINT edu_resource_lecture_fk FOREIGN KEY (resource_id) REFERENCES resource(id) ON DELETE CASCADE ON UPDATE CASCADE\n",
    "    );\n",
    "    \n",
    "    \n",
    "    -- edu.edu_term определение\n",
    "    \n",
    "    -- Drop table\n",
    "    \n",
    "    -- DROP TABLE edu_term;\n",
    "    \n",
    "    CREATE TABLE edu_term (\n",
    "    \tid bigserial NOT NULL,\n",
    "    \t\"name\" varchar NULL,\n",
    "    \t\"text\" text NULL,\n",
    "    \tresource_id int8 NOT NULL,\n",
    "    \tCONSTRAINT edu_term_pk PRIMARY KEY (id),\n",
    "    \tCONSTRAINT edu_term_fk FOREIGN KEY (resource_id) REFERENCES resource(id) ON DELETE CASCADE ON UPDATE CASCADE\n",
    "    );\n",
    "    \n",
    "    \n",
    "    -- edu.edu_theme определение\n",
    "    \n",
    "    -- Drop table\n",
    "    \n",
    "    -- DROP TABLE edu_theme;\n",
    "    \n",
    "    CREATE TABLE edu_theme (\n",
    "    \tid bigserial NOT NULL,\n",
    "    \tresource_id int8 NOT NULL,\n",
    "    \t\"name\" text NULL,\n",
    "    \tCONSTRAINT edu_theme_pk PRIMARY KEY (id),\n",
    "    \tCONSTRAINT edu_theme_fk FOREIGN KEY (resource_id) REFERENCES resource(id) ON DELETE CASCADE ON UPDATE CASCADE\n",
    "    );\n",
    "    \n",
    "    \n",
    "    -- edu.file_resource_description определение\n",
    "    \n",
    "    -- Drop table\n",
    "    \n",
    "    -- DROP TABLE file_resource_description;\n",
    "    \n",
    "    CREATE TABLE file_resource_description (\n",
    "    \tid bigserial NOT NULL,\n",
    "    \ttype_id int4 NULL,\n",
    "    \t\"name\" varchar NOT NULL,\n",
    "    \tresource_id int8 NULL,\n",
    "    \tCONSTRAINT file_resource_description_pk PRIMARY KEY (id),\n",
    "    \tCONSTRAINT file_resource_description_fk FOREIGN KEY (type_id) REFERENCES file_type(id) ON DELETE RESTRICT ON UPDATE CASCADE,\n",
    "    \tCONSTRAINT file_resource_description_fk_2 FOREIGN KEY (resource_id) REFERENCES resource(id) ON DELETE CASCADE ON UPDATE CASCADE\n",
    "    );\n",
    "    \n",
    "    \n",
    "    -- edu.html_resource определение\n",
    "    \n",
    "    -- Drop table\n",
    "    \n",
    "    -- DROP TABLE html_resource;\n",
    "    \n",
    "    CREATE TABLE html_resource (\n",
    "    \tid bigserial NOT NULL,\n",
    "    \thtml text NULL,\n",
    "    \tresource_id int8 NOT NULL,\n",
    "    \tCONSTRAINT html_resource1_pk PRIMARY KEY (id),\n",
    "    \tCONSTRAINT html_resource_resource_fk FOREIGN KEY (resource_id) REFERENCES resource(id) ON DELETE RESTRICT ON UPDATE RESTRICT\n",
    "    );\n",
    "    \n",
    "    \n",
    "    -- edu.lms_resource определение\n",
    "    \n",
    "    -- Drop table\n",
    "    \n",
    "    -- DROP TABLE lms_resource;\n",
    "    \n",
    "    CREATE TABLE lms_resource (\n",
    "    \tid bigserial NOT NULL,\n",
    "    \taccess_rights xml NULL,\n",
    "    \tmodule_config xml NULL,\n",
    "    \tview_config xml NULL,\n",
    "    \tresource_id int8 NOT NULL,\n",
    "    \tCONSTRAINT lms_resource_pk PRIMARY KEY (id),\n",
    "    \tCONSTRAINT lms_resource_fk FOREIGN KEY (resource_id) REFERENCES resource(id) ON DELETE CASCADE ON UPDATE CASCADE\n",
    "    );\n",
    "    \n",
    "    \n",
    "    -- edu.original_lms_resource определение\n",
    "    \n",
    "    -- Drop table\n",
    "    \n",
    "    -- DROP TABLE original_lms_resource;\n",
    "    \n",
    "    CREATE TABLE original_lms_resource (\n",
    "    \tid bigserial NOT NULL,\n",
    "    \ttype_id int8 NULL,\n",
    "    \tplatform_id int8 NULL,\n",
    "    \t\"content\" text NULL,\n",
    "    \tresource_id int8 NULL,\n",
    "    \tCONSTRAINT original_lms_resource_pk PRIMARY KEY (id),\n",
    "    \tCONSTRAINT original_lms_resource_lms_fk FOREIGN KEY (platform_id) REFERENCES lms(id) ON DELETE RESTRICT ON UPDATE CASCADE,\n",
    "    \tCONSTRAINT original_lms_resource_lms_resource_type_fk FOREIGN KEY (type_id) REFERENCES lms_resource_type(id) ON DELETE RESTRICT ON UPDATE CASCADE,\n",
    "    \tCONSTRAINT original_lms_resource_resource_fk FOREIGN KEY (resource_id) REFERENCES resource(id) ON DELETE RESTRICT ON UPDATE CASCADE\n",
    "    );\n",
    "    \n",
    "    \n",
    "    -- edu.resource_relations определение\n",
    "    \n",
    "    -- Drop table\n",
    "    \n",
    "    -- DROP TABLE resource_relations;\n",
    "    \n",
    "    CREATE TABLE resource_relations (\n",
    "    \tid bigserial NOT NULL,\n",
    "    \tresource_one_id int8 NOT NULL,\n",
    "    \tresource_two_id int8 NOT NULL,\n",
    "    \tCONSTRAINT resource_relations_pk PRIMARY KEY (id),\n",
    "    \tCONSTRAINT resource_relations_fk FOREIGN KEY (resource_one_id) REFERENCES resource(id) ON DELETE RESTRICT ON UPDATE CASCADE,\n",
    "    \tCONSTRAINT resource_relations_fk_1 FOREIGN KEY (resource_two_id) REFERENCES resource(id) ON DELETE RESTRICT ON UPDATE CASCADE\n",
    "    );\n",
    "    \n",
    "    \n",
    "    -- edu.video_resource_description определение\n",
    "    \n",
    "    -- Drop table\n",
    "    \n",
    "    -- DROP TABLE video_resource_description;\n",
    "    \n",
    "    CREATE TABLE video_resource_description (\n",
    "    \tid bigserial NOT NULL,\n",
    "    \t\"name\" varchar NULL,\n",
    "    \turl varchar NULL,\n",
    "    \tduration int8 NULL,\n",
    "    \tresource_id int8 NULL,\n",
    "    \tauthor varchar NULL,\n",
    "    \tCONSTRAINT video_resource_description_pk PRIMARY KEY (id),\n",
    "    \tCONSTRAINT video_resource_description_resource_fk FOREIGN KEY (resource_id) REFERENCES resource(id) ON DELETE RESTRICT ON UPDATE CASCADE\n",
    "    );\n",
    "    \n",
    "    \n",
    "    -- edu.questions_resource определение\n",
    "    \n",
    "    -- Drop table\n",
    "    \n",
    "    -- DROP TABLE questions_resource;\n",
    "    \n",
    "    CREATE TABLE questions_resource (\n",
    "    \tid bigserial NOT NULL,\n",
    "    \tquestions text NULL,\n",
    "    \tanswers text NULL,\n",
    "    \tresource_id int8 NOT NULL,\n",
    "    \tCONSTRAINT questions_resource_pk PRIMARY KEY (id),\n",
    "    \tCONSTRAINT questions_resource_resource_fk FOREIGN KEY (resource_id) REFERENCES resource(id) ON DELETE RESTRICT ON UPDATE CASCADE\n",
    "    );\n",
    "    \n",
    "    \n",
    "    -- edu.edu_survey определение\n",
    "    \n",
    "    -- Drop table\n",
    "    \n",
    "    -- DROP TABLE edu_survey;\n",
    "    \n",
    "    CREATE TABLE edu_survey (\n",
    "    \tid bigserial NOT NULL,\n",
    "    \t\"name\" varchar NULL,\n",
    "    \tresource_id int8 NOT NULL,\n",
    "    \tCONSTRAINT edu_survey_pk PRIMARY KEY (id),\n",
    "    \tCONSTRAINT edu_survey_resource_fk FOREIGN KEY (resource_id) REFERENCES resource(id) ON DELETE RESTRICT ON UPDATE CASCADE\n",
    "    );\n",
    "    \n",
    "    \n",
    "    -- edu.edu_test определение\n",
    "    \n",
    "    -- Drop table\n",
    "    \n",
    "    -- DROP TABLE edu_test;\n",
    "    \n",
    "    CREATE TABLE edu_test (\n",
    "    \tid bigserial NOT NULL,\n",
    "    \t\"name\" varchar NULL,\n",
    "    \tresource_id int8 NOT NULL,\n",
    "    \tCONSTRAINT edu_text_pk PRIMARY KEY (id),\n",
    "    \tCONSTRAINT edu_text_resource_fk FOREIGN KEY (resource_id) REFERENCES resource(id) ON DELETE RESTRICT ON UPDATE CASCADE\n",
    "    );\n",
    "    \n",
    "    \n",
    "    -- edu.comment_resource определение\n",
    "    \n",
    "    -- Drop table\n",
    "    \n",
    "    -- DROP TABLE comment_resource;\n",
    "    \n",
    "    CREATE TABLE comment_resource (\n",
    "    \tid bigserial NOT NULL,\n",
    "    \treplied_comment_id int8 NULL,\n",
    "    \tuser_id int8 NOT NULL,\n",
    "    \t\"text\" text NULL,\n",
    "    \tresource_id int8 NOT NULL,\n",
    "    \tCONSTRAINT comment_resource_pk PRIMARY KEY (id),\n",
    "    \tCONSTRAINT comment_resource_resource_fk FOREIGN KEY (resource_id) REFERENCES resource(id) ON DELETE RESTRICT ON UPDATE CASCADE\n",
    "    );\n",
    "    \n",
    "    \n",
    "    -- edu.edu_discussion определение\n",
    "    \n",
    "    -- Drop table\n",
    "    \n",
    "    -- DROP TABLE edu_discussion;\n",
    "    \n",
    "    CREATE TABLE edu_discussion (\n",
    "    \tid bigserial NOT NULL,\n",
    "    \t\"name\" varchar NULL,\n",
    "    \tresource_id int8 NOT NULL,\n",
    "    \tCONSTRAINT edu_discussion_pk PRIMARY KEY (id),\n",
    "    \tCONSTRAINT edu_discussion_resource_fk FOREIGN KEY (resource_id) REFERENCES resource(id) ON DELETE RESTRICT ON UPDATE CASCADE\n",
    "    );\n",
    "    \"\"\"\n",
    "    \n",
    "    drop = \"\"\"\n",
    "    DROP TABLE file_type CASCADE;\n",
    "    DROP TABLE lms CASCADE;\n",
    "    DROP TABLE lms_resource_type CASCADE;\n",
    "    DROP TABLE resource CASCADE;\n",
    "    DROP TABLE edu_announcment CASCADE;\n",
    "    DROP TABLE edu_lab_report CASCADE;\n",
    "    DROP TABLE edu_resource_lecture CASCADE;\n",
    "    DROP TABLE edu_term CASCADE;\n",
    "    DROP TABLE edu_theme CASCADE;\n",
    "    DROP TABLE file_resource_description CASCADE;\n",
    "    DROP TABLE html_resource CASCADE;\n",
    "    DROP TABLE lms_resource CASCADE;\n",
    "    DROP TABLE original_lms_resource CASCADE;\n",
    "    DROP TABLE resource_relations CASCADE;\n",
    "    DROP TABLE video_resource_description CASCADE;\n",
    "\n",
    "    DROP TABLE edu_discussion CASCADE;\n",
    "    DROP TABLE comment_resource CASCADE;\n",
    "    DROP TABLE edu_test CASCADE;\n",
    "    DROP TABLE edu_survey CASCADE;\n",
    "    DROP TABLE questions_resource CASCADE;\n",
    "    \"\"\"\n",
    "    if create_or_drop == \"create\":\n",
    "        return create\n",
    "    elif create_or_drop == \"drop\":\n",
    "        return drop\n",
    "\n",
    "\n",
    "#sql( creation_main_tables(\"drop\") )\n",
    "#sql( creation_main_tables(\"create\") )"
   ]
  },
  {
   "cell_type": "markdown",
   "metadata": {},
   "source": [
    "Перезагрузка БД"
   ]
  },
  {
   "cell_type": "code",
   "execution_count": 27,
   "metadata": {},
   "outputs": [
    {
     "name": "stdout",
     "output_type": "stream",
     "text": [
      "[INFO]  no results to fetch\n",
      "[INFO]  no results to fetch\n"
     ]
    }
   ],
   "source": [
    "################################################################################################################################\n",
    "#### Перезагрузка БД\n",
    "\n",
    "def tables_reload():\n",
    "    sql( creation_main_tables(\"drop\") )\n",
    "    sql( creation_main_tables(\"create\") )\n",
    "\n",
    "tables_reload()\n",
    "################################################################################################################################"
   ]
  },
  {
   "cell_type": "markdown",
   "metadata": {
    "jp-MarkdownHeadingCollapsed": true
   },
   "source": [
    "# Добавление в БД original_lms_resource SELECT"
   ]
  },
  {
   "cell_type": "markdown",
   "metadata": {},
   "source": [
    "select ID recource by URL"
   ]
  },
  {
   "cell_type": "code",
   "execution_count": 28,
   "metadata": {},
   "outputs": [],
   "source": [
    "def select_resource_BY_URL(url):\n",
    "    return remove_sql_symbol( sql( f\"SELECT id FROM resource WHERE url = '{url}' \" ) )\n",
    "\n",
    "#select_resource_BY_URL('http://51.250.4.123/moodle/my/courses.php')"
   ]
  },
  {
   "cell_type": "markdown",
   "metadata": {},
   "source": [
    "select ID original_lms_resource by RESOURCE_URL"
   ]
  },
  {
   "cell_type": "code",
   "execution_count": 29,
   "metadata": {},
   "outputs": [],
   "source": [
    "def select_original_lms_resource_BY_RESOURCE_URL(resource_url):\n",
    "    resource_id = select_resource_BY_URL(resource_url)\n",
    "    if resource_id != \"\":\n",
    "        return remove_sql_symbol( sql( f\"SELECT id FROM original_lms_resource WHERE resource_id = {resource_id} \" ) )\n",
    "\n",
    "#select_original_lms_resource_BY_RESOURCE_URL('http://51.250.4.123/moodle/my/courses.php')\n",
    "#sql( f\"SELECT id FROM original_lms_resource WHERE resource_id = '2' \" )"
   ]
  },
  {
   "cell_type": "markdown",
   "metadata": {},
   "source": [
    "select ID lms by NAME"
   ]
  },
  {
   "cell_type": "code",
   "execution_count": 30,
   "metadata": {},
   "outputs": [],
   "source": [
    "def select_lms_BY_NAME(name):\n",
    "    return remove_sql_symbol( sql( f\"SELECT id FROM lms WHERE name = '{name}' \" ) )\n",
    "\n",
    "#select_lms_BY_NAME('lms')"
   ]
  },
  {
   "cell_type": "markdown",
   "metadata": {},
   "source": [
    "select ID lms_resource_type by NAME"
   ]
  },
  {
   "cell_type": "code",
   "execution_count": 31,
   "metadata": {},
   "outputs": [],
   "source": [
    "def select_lms_resource_type_BY_NAME(name):\n",
    "    return remove_sql_symbol( sql( f\"SELECT id FROM lms_resource_type WHERE name = '{name}' \" ) )\n",
    "\n",
    "#select_lms_resource_type_BY_NAME('url')"
   ]
  },
  {
   "cell_type": "markdown",
   "metadata": {
    "jp-MarkdownHeadingCollapsed": true
   },
   "source": [
    "# Добавление в БД original_lms_resource INSERT"
   ]
  },
  {
   "cell_type": "markdown",
   "metadata": {},
   "source": [
    "insert resource"
   ]
  },
  {
   "cell_type": "code",
   "execution_count": 32,
   "metadata": {},
   "outputs": [],
   "source": [
    "def insert_resource(url, name, description):\n",
    "    if select_resource_BY_URL(url) == '':\n",
    "        sql( f\"INSERT INTO resource(url, name, description) VALUES('{url}', '{name}', '{description}')\" )\n",
    "        return \"Элемент добавлен (insert_resource)\"\n",
    "    else:\n",
    "        return \"Такой элемент уже cуществует (insert_resource)\"\n",
    "\n",
    "#insert_resource('url', 'name', 'description')"
   ]
  },
  {
   "cell_type": "markdown",
   "metadata": {},
   "source": [
    "insert original_lms_resource"
   ]
  },
  {
   "cell_type": "code",
   "execution_count": 33,
   "metadata": {},
   "outputs": [],
   "source": [
    "def insert_original_lms_resource(resource_type, platform, content, resource_url):\n",
    "    resource_type_id = select_lms_resource_type_BY_NAME (resource_type)\n",
    "    platform_id = select_lms_BY_NAME (platform)\n",
    "    resource_id = select_resource_BY_URL (resource_url)\n",
    "    is_elem_exist = select_original_lms_resource_BY_RESOURCE_URL (resource_url)\n",
    "    \n",
    "    if (is_elem_exist == \"\") or (is_elem_exist == None):\n",
    "        \n",
    "        if (resource_type_id != \"\") and (platform_id != \"\") and (resource_id != \"\"):\n",
    "            sql( f\"INSERT INTO original_lms_resource(type_id, platform_id, content, resource_id) VALUES({resource_type_id}, {platform_id}, '{content}', {resource_id})\" )\n",
    "            return \"Успешно добавлено (insert_original_lms_resource)\"\n",
    "        elif (resource_type_id == ''):\n",
    "            return \"Ошибка resource_type_id == '' (insert_original_lms_resource)\"\n",
    "        elif (platform_id == ''):\n",
    "            return \"Ошибка platform_id == '' (insert_original_lms_resource)\"\n",
    "        elif (resource_id == ''):\n",
    "            return \"Ошибка resource_id =='' (insert_original_lms_resource)\"\n",
    "        \n",
    "        else:\n",
    "            return \"Ошибка добавления (insert_original_lms_resource)\"\n",
    "    else:\n",
    "        return \"Такой элемент уже существует (insert_original_lms_resource)\"\n",
    "    \n",
    "#insert_original_lms_resource('page', 'Moodle', 'content', 'http://51.250.4.123/moodle/my/courses.php')\n",
    "#print( select_original_lms_resource_BY_RESOURCE_URL ('http://51.250.4.123/moodle/my/courses.php') )"
   ]
  },
  {
   "cell_type": "markdown",
   "metadata": {},
   "source": [
    "insert lms"
   ]
  },
  {
   "cell_type": "code",
   "execution_count": 34,
   "metadata": {},
   "outputs": [],
   "source": [
    "def insert_lms(name):\n",
    "    if select_lms_BY_NAME(name) == '':\n",
    "        sql( f\"INSERT INTO lms(name) VALUES('{name}')\" )\n",
    "        return \"Элемент добавлен (insert_lms)\"\n",
    "    else:\n",
    "        return \"Такой элемент уже cуществует (insert_lms)\"\n",
    "\n",
    "#insert_lms(\"lms\")"
   ]
  },
  {
   "cell_type": "markdown",
   "metadata": {},
   "source": [
    "insert lms_resource_type"
   ]
  },
  {
   "cell_type": "code",
   "execution_count": 35,
   "metadata": {},
   "outputs": [],
   "source": [
    "def insert_lms_resource_type(name):\n",
    "    if select_lms_resource_type_BY_NAME(name) == '':\n",
    "        sql( f\"INSERT INTO lms_resource_type(name) VALUES('{name}')\" )\n",
    "        return \"Элемент добавлен (insert_lms_resource_type)\"\n",
    "    else:\n",
    "        return \"Такой элемент уже cуществует (insert_lms_resource_type)\"\n",
    "\n",
    "#insert_lms_resource_type('page')"
   ]
  },
  {
   "cell_type": "markdown",
   "metadata": {},
   "source": [
    "insert FULL_original_resource"
   ]
  },
  {
   "cell_type": "code",
   "execution_count": 36,
   "metadata": {},
   "outputs": [],
   "source": [
    "def insert_FULL_original_resource(resource_name, resource_url, resource_description, lms_resource_type_name, lms_name, content):\n",
    "    res_1 = insert_resource(resource_url, resource_name, resource_description)\n",
    "    res_2 = insert_lms(lms_name)\n",
    "    res_3 = insert_lms_resource_type(lms_resource_type_name)\n",
    "    res_4 = insert_original_lms_resource(lms_resource_type_name, lms_name, content, resource_url)\n",
    "\n",
    "    return f\"{res_1} || {res_2} || {res_3} || {res_4}\"\n",
    "\n",
    "#insert_FULL_original_resource('Ресурс 1', 'http://51.250.4.123/moodle/my/courses.php', 'Описание', 'page', 'Moodle', 'content')"
   ]
  },
  {
   "cell_type": "code",
   "execution_count": 37,
   "metadata": {},
   "outputs": [],
   "source": [
    "# Остатки от работы\n",
    "\n",
    "#insert_resource('http://51.250.4.123/moodle/my/courses.php', 'Ресурс 1', 'Описание')\n",
    "#insert_lms('Moodle')\n",
    "#insert_lms_resource_type('page')\n",
    "#insert_original_lms_resource('page', 'Moodle', 'content', 'http://51.250.4.123/moodle/my/courses.php')\n",
    "\n",
    "#insert_resource(resource_url, resource_name, resource_description)\n",
    "#insert_lms(lms_name)\n",
    "#insert_lms_resource_type(lms_resource_type_name)\n",
    "#insert_original_lms_resource(lms_resource_type_name, lms_name, content, resource_url)\n",
    "\n",
    "#resource_name = 'Ресурс 1'\n",
    "#resource_url = 'http://51.250.4.123/moodle/my/courses.php'\n",
    "#resource_description = 'Описание'\n",
    "#lms_resource_type_name = 'page'\n",
    "#lms_name = 'Moodle'\n",
    "#content = 'content'\n",
    "#insert_FULL_original_resource(resource_name, resource_url, resource_description, lms_resource_type_name, lms_name, content)"
   ]
  },
  {
   "cell_type": "markdown",
   "metadata": {
    "jp-MarkdownHeadingCollapsed": true
   },
   "source": [
    "# Добавление в БД edu SELECT"
   ]
  },
  {
   "cell_type": "markdown",
   "metadata": {},
   "source": [
    "select_edu_theme_BY_RESOURCE_ID"
   ]
  },
  {
   "cell_type": "code",
   "execution_count": 38,
   "metadata": {},
   "outputs": [],
   "source": [
    "def select_edu_theme_BY_RESOURCE_ID(resource_id):\n",
    "    return remove_sql_symbol( sql( f\"SELECT id FROM edu_theme WHERE resource_id = {resource_id} \" ) )\n",
    "\n",
    "#select_edu_theme_BY_RESOURCE_ID(1)"
   ]
  },
  {
   "cell_type": "markdown",
   "metadata": {},
   "source": [
    "select_edu_announcment_BY_RESOURCE_ID"
   ]
  },
  {
   "cell_type": "code",
   "execution_count": 39,
   "metadata": {},
   "outputs": [],
   "source": [
    "def select_edu_announcment_BY_RESOURCE_ID(resource_id):\n",
    "    return remove_sql_symbol( sql( f\"SELECT name FROM edu_announcment WHERE resource_id = {resource_id} \" ) )\n",
    "\n",
    "#select_edu_announcment_BY_RESOURCE_ID(1)"
   ]
  },
  {
   "cell_type": "markdown",
   "metadata": {},
   "source": [
    "select_edu_announcment_BY_RESOURCE_ID"
   ]
  },
  {
   "cell_type": "code",
   "execution_count": 40,
   "metadata": {},
   "outputs": [],
   "source": [
    "def select_edu_lab_report_BY_RESOURCE_ID(resource_id):\n",
    "    return remove_sql_symbol( sql( f\"SELECT id FROM edu_lab_report WHERE resource_id = {resource_id} \" ) )\n",
    "\n",
    "#select_edu_lab_report_BY_RESOURCE_ID(1)"
   ]
  },
  {
   "cell_type": "markdown",
   "metadata": {},
   "source": [
    "select_edu_resource_lecture_BY_RESOURCE_ID"
   ]
  },
  {
   "cell_type": "code",
   "execution_count": 41,
   "metadata": {},
   "outputs": [],
   "source": [
    "def select_edu_resource_lecture_BY_RESOURCE_ID(resource_id):\n",
    "    return remove_sql_symbol( sql( f\"SELECT name FROM edu_resource_lecture WHERE resource_id = {resource_id} \" ) )\n",
    "\n",
    "#select_edu_resource_lecture_BY_RESOURCE_ID(1)"
   ]
  },
  {
   "cell_type": "markdown",
   "metadata": {},
   "source": [
    "select_edu_term_BY_RESOURCE_ID"
   ]
  },
  {
   "cell_type": "code",
   "execution_count": 42,
   "metadata": {},
   "outputs": [],
   "source": [
    "def select_edu_term_BY_RESOURCE_ID(resource_id):\n",
    "    return remove_sql_symbol( sql( f\"SELECT name FROM edu_term WHERE resource_id = {resource_id} \" ) )\n",
    "\n",
    "#select_edu_term_BY_RESOURCE_ID(1)"
   ]
  },
  {
   "cell_type": "markdown",
   "metadata": {},
   "source": [
    "select_edu_survey_BY_RESOURCE_ID"
   ]
  },
  {
   "cell_type": "code",
   "execution_count": 43,
   "metadata": {},
   "outputs": [],
   "source": [
    "def select_edu_survey_BY_RESOURCE_ID(resource_id):\n",
    "    return remove_sql_symbol( sql( f\"SELECT id FROM edu_survey WHERE resource_id = {resource_id} \" ) )\n",
    "\n",
    "#select_edu_survey_BY_RESOURCE_ID(1)"
   ]
  },
  {
   "cell_type": "markdown",
   "metadata": {},
   "source": [
    "select_edu_test_BY_RESOURCE_ID"
   ]
  },
  {
   "cell_type": "code",
   "execution_count": 44,
   "metadata": {},
   "outputs": [],
   "source": [
    "def select_edu_test_BY_RESOURCE_ID(resource_id):\n",
    "    return remove_sql_symbol( sql( f\"SELECT id FROM edu_test WHERE resource_id = {resource_id} \" ) )\n",
    "\n",
    "#select_edu_test_BY_RESOURCE_ID(1)"
   ]
  },
  {
   "cell_type": "markdown",
   "metadata": {},
   "source": [
    "select_edu_discussion_BY_RESOURCE_ID"
   ]
  },
  {
   "cell_type": "code",
   "execution_count": 45,
   "metadata": {},
   "outputs": [],
   "source": [
    "def select_edu_discussion_BY_RESOURCE_ID(resource_id):\n",
    "    return remove_sql_symbol( sql( f\"SELECT id FROM edu_discussion WHERE resource_id = {resource_id} \" ) )\n",
    "\n",
    "#select_edu_discussion_BY_RESOURCE_ID(1)"
   ]
  },
  {
   "cell_type": "markdown",
   "metadata": {
    "jp-MarkdownHeadingCollapsed": true
   },
   "source": [
    "# Добавление в БД edu INSERT"
   ]
  },
  {
   "cell_type": "markdown",
   "metadata": {},
   "source": [
    "insert_edu_theme"
   ]
  },
  {
   "cell_type": "code",
   "execution_count": 46,
   "metadata": {},
   "outputs": [],
   "source": [
    "def insert_edu_theme(name, resource_id):\n",
    "    if select_edu_theme_BY_RESOURCE_ID(resource_id) == '':\n",
    "        sql( f\"INSERT INTO edu_theme(name, resource_id) VALUES('{name}', {resource_id})\" )\n",
    "        return \"Элемент добавлен (insert_edu_theme)\"\n",
    "    else:\n",
    "        return \"Такой элемент уже cуществует (insert_edu_theme)\"\n",
    "\n",
    "#insert_edu_theme('Название темы', 1)"
   ]
  },
  {
   "cell_type": "markdown",
   "metadata": {},
   "source": [
    "insert_edu_announcment"
   ]
  },
  {
   "cell_type": "code",
   "execution_count": 47,
   "metadata": {},
   "outputs": [],
   "source": [
    "def insert_edu_announcment(name, resource_id):\n",
    "    if select_edu_announcment_BY_RESOURCE_ID(resource_id) == '':\n",
    "        sql( f\"INSERT INTO edu_announcment(name, resource_id) VALUES('{name}', {resource_id})\" )\n",
    "        return \"Элемент добавлен (insert_edu_announcment)\"\n",
    "    else:\n",
    "        return \"Такой элемент уже cуществует (insert_edu_announcment)\"\n",
    "\n",
    "#insert_edu_announcment('Название опроса', 1)"
   ]
  },
  {
   "cell_type": "markdown",
   "metadata": {},
   "source": [
    "insert_edu_lab_report"
   ]
  },
  {
   "cell_type": "code",
   "execution_count": 48,
   "metadata": {},
   "outputs": [],
   "source": [
    "def insert_edu_lab_report(resource_id):\n",
    "    if select_edu_lab_report_BY_RESOURCE_ID(resource_id) == '':\n",
    "        sql( f\"INSERT INTO edu_lab_report(resource_id) VALUES({resource_id})\" )\n",
    "        return \"Элемент добавлен (insert_edu_lab_report)\"\n",
    "    else:\n",
    "        return \"Такой элемент уже cуществует (insert_edu_lab_report)\"\n",
    "\n",
    "#insert_edu_lab_report(1)"
   ]
  },
  {
   "cell_type": "markdown",
   "metadata": {},
   "source": [
    "insert_edu_resource_lecture"
   ]
  },
  {
   "cell_type": "code",
   "execution_count": 49,
   "metadata": {},
   "outputs": [],
   "source": [
    "def insert_edu_resource_lecture(name, resource_id, summary):\n",
    "    if select_edu_resource_lecture_BY_RESOURCE_ID(resource_id) == '':\n",
    "        sql( f\"INSERT INTO edu_resource_lecture(name, resource_id, summary) VALUES('{name}', {resource_id}, '{summary}')\" )\n",
    "        return \"Элемент добавлен (insert_edu_resource_lecture)\"\n",
    "    else:\n",
    "        return \"Такой элемент уже cуществует (insert_edu_resource_lecture)\"\n",
    "\n",
    "#insert_edu_resource_lecture('Название лекции', 1, 'Краткое описание')"
   ]
  },
  {
   "cell_type": "markdown",
   "metadata": {},
   "source": [
    "insert_edu_term"
   ]
  },
  {
   "cell_type": "code",
   "execution_count": 50,
   "metadata": {},
   "outputs": [],
   "source": [
    "def insert_edu_term(name, resource_id, text):\n",
    "    if select_edu_term_BY_RESOURCE_ID(resource_id) == '':\n",
    "        sql( f\"INSERT INTO edu_term(name, resource_id, text) VALUES('{name}', {resource_id}, '{text}')\" )\n",
    "        return \"Элемент добавлен (insert_edu_term)\"\n",
    "    else:\n",
    "        return \"Такой элемент уже cуществует (insert_edu_term)\"\n",
    "\n",
    "#insert_edu_term('Название термина', 1, 'Текст термина')"
   ]
  },
  {
   "cell_type": "markdown",
   "metadata": {},
   "source": [
    "insert_edu_survey"
   ]
  },
  {
   "cell_type": "code",
   "execution_count": 51,
   "metadata": {},
   "outputs": [],
   "source": [
    "def insert_edu_survey(name, resource_id):\n",
    "    if select_edu_survey_BY_RESOURCE_ID(resource_id) == '':\n",
    "        sql( f\"INSERT INTO edu_survey(name, resource_id) VALUES('{name}', {resource_id})\" )\n",
    "        return \"Элемент добавлен (insert_edu_survey)\"\n",
    "    else:\n",
    "        return \"Такой элемент уже cуществует (insert_edu_survey)\"\n",
    "\n",
    "#insert_edu_survey('Название термина', 1)"
   ]
  },
  {
   "cell_type": "markdown",
   "metadata": {},
   "source": [
    "insert_edu_test"
   ]
  },
  {
   "cell_type": "code",
   "execution_count": 52,
   "metadata": {},
   "outputs": [],
   "source": [
    "def insert_edu_test(name, resource_id):\n",
    "    if select_edu_test_BY_RESOURCE_ID(resource_id) == '':\n",
    "        sql( f\"INSERT INTO edu_test(name, resource_id) VALUES('{name}', {resource_id})\" )\n",
    "        return \"Элемент добавлен (insert_edu_test)\"\n",
    "    else:\n",
    "        return \"Такой элемент уже cуществует (insert_edu_test)\"\n",
    "\n",
    "#insert_edu_test('Название термина', 1)"
   ]
  },
  {
   "cell_type": "markdown",
   "metadata": {},
   "source": [
    "insert_edu_discussion"
   ]
  },
  {
   "cell_type": "code",
   "execution_count": 53,
   "metadata": {},
   "outputs": [],
   "source": [
    "def insert_edu_discussion(name, resource_id):\n",
    "    if select_edu_discussion_BY_RESOURCE_ID(resource_id) == '':\n",
    "        sql( f\"INSERT INTO edu_discussion(name, resource_id) VALUES('{name}', {resource_id})\" )\n",
    "        return \"Элемент добавлен (insert_edu_discussion)\"\n",
    "    else:\n",
    "        return \"Такой элемент уже cуществует (insert_edu_discussion)\"\n",
    "\n",
    "#insert_edu_discussion('Название термина', 1)"
   ]
  },
  {
   "cell_type": "markdown",
   "metadata": {
    "jp-MarkdownHeadingCollapsed": true
   },
   "source": [
    "# Добавление в БД resource SELECT"
   ]
  },
  {
   "cell_type": "markdown",
   "metadata": {},
   "source": [
    "select_html_resource_BY_RESOURCE_ID"
   ]
  },
  {
   "cell_type": "code",
   "execution_count": 54,
   "metadata": {},
   "outputs": [],
   "source": [
    "def select_html_resource_BY_RESOURCE_ID(resource_id):\n",
    "    return remove_sql_symbol( sql( f\"SELECT id FROM html_resource WHERE resource_id = {resource_id} \" ) )\n",
    "\n",
    "#select_html_resource_BY_RESOURCE_ID(1)"
   ]
  },
  {
   "cell_type": "markdown",
   "metadata": {},
   "source": [
    "select_video_resource_description_BY_URL"
   ]
  },
  {
   "cell_type": "code",
   "execution_count": 55,
   "metadata": {},
   "outputs": [],
   "source": [
    "def select_video_resource_description_BY_URL(url):\n",
    "    return remove_sql_symbol( sql( f\"SELECT id FROM video_resource_description WHERE url = '{url}' \" ) )\n",
    "\n",
    "#select_video_resource_description_BY_URL('https://www.youtube.com/watch?v=jfKfPfyJRdk&ab_channel=LofiGirl')"
   ]
  },
  {
   "cell_type": "markdown",
   "metadata": {},
   "source": [
    "select_file_type_BY_EXTENSION"
   ]
  },
  {
   "cell_type": "code",
   "execution_count": 56,
   "metadata": {},
   "outputs": [],
   "source": [
    "def select_file_type_BY_EXTENSION(extention):\n",
    "    return remove_sql_symbol( sql( f\"SELECT id FROM file_type WHERE extension = '{extention}' \" ) )\n",
    "\n",
    "#select_file_type_BY_EXTENSION('docx')"
   ]
  },
  {
   "cell_type": "markdown",
   "metadata": {},
   "source": [
    "select_file_resource_description_BY_RESOURCE_ID"
   ]
  },
  {
   "cell_type": "code",
   "execution_count": 57,
   "metadata": {},
   "outputs": [],
   "source": [
    "def select_file_resource_description_BY_RESOURCE_ID(resource_id):\n",
    "    return remove_sql_symbol( sql( f\"SELECT id FROM file_resource_description WHERE resource_id = {resource_id} \" ) )\n",
    "\n",
    "#select_file_resource_description_BY_RESOURCE_ID(1)"
   ]
  },
  {
   "cell_type": "markdown",
   "metadata": {},
   "source": [
    "select_questions_resource_BY_RESOURCE_ID"
   ]
  },
  {
   "cell_type": "code",
   "execution_count": 58,
   "metadata": {},
   "outputs": [
    {
     "data": {
      "text/plain": [
       "''"
      ]
     },
     "execution_count": 58,
     "metadata": {},
     "output_type": "execute_result"
    }
   ],
   "source": [
    "def select_questions_resource_BY_RESOURCE_ID(resource_id):\n",
    "    all_content = sql( f\"SELECT id FROM questions_resource WHERE resource_id = {resource_id} \" )\n",
    "    new_ = replace_symbols(remove_symbols(\"[]'()\", str(all_content)), ',,', ',' )\n",
    "    return new_\n",
    "\n",
    "select_questions_resource_BY_RESOURCE_ID(1)"
   ]
  },
  {
   "cell_type": "markdown",
   "metadata": {},
   "source": [
    "select_comment_resource_BY_RESOURCE_ID"
   ]
  },
  {
   "cell_type": "code",
   "execution_count": 59,
   "metadata": {},
   "outputs": [],
   "source": [
    "def select_comment_resource_BY_RESOURCE_ID(resource_id):\n",
    "    return remove_sql_symbol( sql( f\"SELECT id FROM comment_resource WHERE resource_id = {resource_id} \" ) )\n",
    "\n",
    "#select_comment_resource_BY_RESOURCE_ID(1)"
   ]
  },
  {
   "cell_type": "markdown",
   "metadata": {
    "jp-MarkdownHeadingCollapsed": true
   },
   "source": [
    "# Добавление в БД resource INSERT"
   ]
  },
  {
   "cell_type": "markdown",
   "metadata": {},
   "source": [
    "insert_html_resource"
   ]
  },
  {
   "cell_type": "code",
   "execution_count": 60,
   "metadata": {},
   "outputs": [],
   "source": [
    "def insert_html_resource(html, resource_id):\n",
    "    if select_html_resource_BY_RESOURCE_ID(resource_id) == '':\n",
    "        sql( f\"INSERT INTO html_resource(html, resource_id) VALUES('{html}', {resource_id})\" )\n",
    "        return \"Элемент добавлен (insert_html_resource)\"\n",
    "    else:\n",
    "        return \"Такой элемент уже cуществует (insert_html_resource)\"\n",
    "\n",
    "#insert_html_resource('Тело html ресурса', 1)"
   ]
  },
  {
   "cell_type": "markdown",
   "metadata": {},
   "source": [
    "insert_video_resource_description"
   ]
  },
  {
   "cell_type": "code",
   "execution_count": 61,
   "metadata": {},
   "outputs": [],
   "source": [
    "def insert_video_resource_description(name, url, duration, resource_id, author):\n",
    "    if select_video_resource_description_BY_URL(url) == '':\n",
    "        sql( f\"INSERT INTO video_resource_description(name, url, duration, resource_id, author) VALUES('{name}', '{url}', {duration}, {resource_id}, '{author}')\" )\n",
    "        return \"Элемент добавлен (insert_video_resource_description)\"\n",
    "    else:\n",
    "        return \"Такой элемент уже cуществует (insert_video_resource_description)\"\n",
    "\n",
    "#insert_video_resource_description('Название видео ресурса', 'https://www.youtube.com/watch?v=jfKfPfyJRdk&ab_channel=LofiGirl', 120, 1, 1)"
   ]
  },
  {
   "cell_type": "markdown",
   "metadata": {},
   "source": [
    "insert_file_type"
   ]
  },
  {
   "cell_type": "code",
   "execution_count": 62,
   "metadata": {},
   "outputs": [],
   "source": [
    "def insert_file_type(name, extension):\n",
    "    if select_file_type_BY_EXTENSION(extension) == '':\n",
    "        sql( f\"INSERT INTO file_type(name, extension) VALUES('{name}', '{extension}')\" )\n",
    "        return \"Элемент добавлен (insert_file_type)\"\n",
    "    else:\n",
    "        return \"Такой элемент уже cуществует (insert_file_type)\"\n",
    "\n",
    "#insert_file_type('Ворд', 'docx')"
   ]
  },
  {
   "cell_type": "markdown",
   "metadata": {},
   "source": [
    "insert_file_resource_description"
   ]
  },
  {
   "cell_type": "code",
   "execution_count": 63,
   "metadata": {},
   "outputs": [],
   "source": [
    "def insert_file_resource_description(name, extension, resource_id):\n",
    "    if select_file_resource_description_BY_RESOURCE_ID(resource_id) == '':\n",
    "        type_id = select_file_type_BY_EXTENSION(extension)\n",
    "        if type_id == '':\n",
    "            return \"Такого расширения файла нет\"\n",
    "        else:\n",
    "            sql( f\"INSERT INTO file_resource_description(name, type_id, resource_id) VALUES('{name}', '{type_id}', {resource_id})\" )\n",
    "            return \"Элемент добавлен (insert_file_resource_description)\"\n",
    "    else:\n",
    "        return \"Такой элемент уже cуществует (insert_file_resource_description)\"\n",
    "\n",
    "#insert_file_resource_description('Название ресурса-файла', 'docx', 1)"
   ]
  },
  {
   "cell_type": "markdown",
   "metadata": {},
   "source": [
    "insert_questions_resource"
   ]
  },
  {
   "cell_type": "code",
   "execution_count": 64,
   "metadata": {},
   "outputs": [],
   "source": [
    "def insert_questions_resource(questions, answers, resource_id):\n",
    "    if select_questions_resource_BY_RESOURCE_ID(resource_id) == '':\n",
    "        sql( f\"INSERT INTO questions_resource(questions, answers, resource_id) VALUES('{questions}', '{answers}', {resource_id})\" )\n",
    "        return \"Элемент добавлен (insert_questions_resource)\"\n",
    "    else:\n",
    "        return \"Такой элемент уже cуществует (insert_questions_resource)\"\n",
    "\n",
    "#insert_questions_resource('Название видео ресурса', 'https://www.youtube.com/watch?v=jfKfPfyJRdk&ab_channel=LofiGirl', 1)"
   ]
  },
  {
   "cell_type": "markdown",
   "metadata": {},
   "source": [
    "insert_comment_resource"
   ]
  },
  {
   "cell_type": "code",
   "execution_count": 65,
   "metadata": {},
   "outputs": [],
   "source": [
    "def insert_comment_resource(replied_comment_id, user_id, text, resource_id):\n",
    "    #if select_questions_resource_BY_RESOURCE_ID(resource_id) == '':\n",
    "        sql( f\"INSERT INTO comment_resource(replied_comment_id, user_id, text, resource_id) VALUES({replied_comment_id}, {user_id}, '{text}', {resource_id})\" )\n",
    "        return \"Элемент добавлен (insert_comment_resource)\"\n",
    "    #else:\n",
    "        #return \"Такой элемент уже cуществует (insert_questions_resource)\"\n",
    "\n",
    "#insert_comment_resource(1, 1, 'https://www.youtube.com/watch?v=jfKfPfyJRdk&ab_channel=LofiGirl', 1)"
   ]
  },
  {
   "cell_type": "markdown",
   "metadata": {
    "jp-MarkdownHeadingCollapsed": true
   },
   "source": [
    "# Импорт всех файлов"
   ]
  },
  {
   "cell_type": "code",
   "execution_count": 66,
   "metadata": {},
   "outputs": [],
   "source": [
    "def all_files_import():\n",
    "    all_ = all_files_read()\n",
    "    for index in range(len(all_)):\n",
    "        resource_url = all_[index][0]\n",
    "        directory = all_[index][1]\n",
    "        lms_resource_type_name = all_[index][2]\n",
    "        resource_name = all_[index][3]\n",
    "        all_file_content = read_all( all_[index][1] )\n",
    "        lms_name = 'Moodle'\n",
    "        resource_description = f\"Ресурс типа {lms_resource_type_name}, загруженный из системы {lms_name}\"\n",
    "        insert_FULL_original_resource(resource_name, resource_url, resource_description, lms_resource_type_name, lms_name, all_file_content)\n",
    "\n",
    "        resource_id = select_resource_BY_URL(resource_url)\n",
    "        \n",
    "        if lms_resource_type_name == \"page\" : # +++++++++++++++++++++++++++++++++\n",
    "            insert_edu_resource_lecture(resource_name, resource_id, '')\n",
    "            insert_html_resource(all_[index][4], resource_id)\n",
    "            \n",
    "        elif lms_resource_type_name == \"choice\" : # +++++++++++++++++++++++++++++++++\n",
    "            insert_edu_survey(resource_name, resource_id)\n",
    "            questions = all_[index][4]\n",
    "            answers = ''\n",
    "            insert_questions_resource(questions, answers, resource_id)\n",
    "            \n",
    "        elif lms_resource_type_name == \"book\" : # +++++++++++++++++++++++++++++++++\n",
    "            insert_edu_resource_lecture(resource_name, resource_id, '')\n",
    "            insert_html_resource(all_[index][4], resource_id)\n",
    "            \n",
    "        elif lms_resource_type_name == \"feedback\" : # +++++++++++++++++++++++++++++++++\n",
    "            insert_edu_survey(resource_name, resource_id)\n",
    "            questions = all_[index][4][0]\n",
    "            answers = all_[index][4][1]\n",
    "            insert_questions_resource(questions, answers, resource_id)\n",
    "            \n",
    "        elif lms_resource_type_name == \"survey\" : # +++++++++++++++++++++++++++++++++\n",
    "            insert_edu_survey(resource_name, resource_id)\n",
    "            questions = all_[index][4]\n",
    "            answers = ''\n",
    "            insert_questions_resource(questions, answers, resource_id)\n",
    "            \n",
    "        elif lms_resource_type_name == \"forum\" : # +++++++++++++++++++++++++++++++++\n",
    "            insert_edu_discussion(resource_name, resource_id)\n",
    "            # replied_comment_id, user_id, text, resource_id\n",
    "            # ['id комментария', 'id комментария, на который идет ответ', 'id пользователя, оставившего комментарий', 'текст комментария'],\\n\"\n",
    "            len_ = len( all_[index][4] )\n",
    "            for j in range( len_ ):\n",
    "                #id = all_[index][4][j][0]\n",
    "                replied_comment_id = all_[index][4][j][1]\n",
    "                user_id = all_[index][4][j][2]\n",
    "                text = all_[index][4][j][3]\n",
    "                insert_comment_resource(replied_comment_id, user_id, text, resource_id)\n",
    "            \n",
    "        elif lms_resource_type_name == \"scheduler\" : # +++++++++++++++++++++++++++++++++\n",
    "            insert_edu_announcment(resource_name, resource_id)\n",
    "            insert_html_resource(all_[index][4], resource_id)\n",
    "            \n",
    "        elif lms_resource_type_name == \"quiz\" : # +++++++++++++++++++++++++++++++++\n",
    "            insert_edu_test(resource_name, resource_id)\n",
    "            questions = all_[index][4]\n",
    "            answers = ''\n",
    "            insert_questions_resource(questions, answers, resource_id)\n",
    "            \n",
    "    return 'Done!'\n",
    "            \n",
    "        \n",
    "#all_files_import()\n",
    "#all_files_read()[6][4][1]"
   ]
  },
  {
   "cell_type": "markdown",
   "metadata": {},
   "source": [
    "# Основной код"
   ]
  },
  {
   "cell_type": "code",
   "execution_count": 67,
   "metadata": {
    "colab": {
     "base_uri": "https://localhost:8080/"
    },
    "id": "RGc4YPtekbx9",
    "outputId": "b8e5adcc-8022-40d1-b79b-c0ced6229189"
   },
   "outputs": [
    {
     "name": "stdout",
     "output_type": "stream",
     "text": [
      "[INFO]  no results to fetch\n",
      "[INFO]  no results to fetch\n",
      "[INFO]  no results to fetch\n",
      "[INFO]  no results to fetch\n",
      "[INFO]  no results to fetch\n",
      "[INFO]  no results to fetch\n",
      "[INFO]  no results to fetch\n",
      "[INFO]  no results to fetch\n",
      "[INFO]  no results to fetch\n",
      "[INFO]  no results to fetch\n",
      "[INFO]  no results to fetch\n",
      "[INFO]  no results to fetch\n",
      "[INFO]  no results to fetch\n",
      "[INFO]  no results to fetch\n",
      "[INFO]  no results to fetch\n",
      "[INFO]  no results to fetch\n",
      "[INFO]  no results to fetch\n",
      "[INFO]  no results to fetch\n",
      "[INFO]  no results to fetch\n",
      "[INFO]  no results to fetch\n",
      "[INFO]  no results to fetch\n",
      "[INFO]  no results to fetch\n",
      "[INFO]  no results to fetch\n",
      "[INFO]  no results to fetch\n",
      "[INFO]  no results to fetch\n",
      "[INFO]  no results to fetch\n",
      "[INFO]  no results to fetch\n",
      "[INFO]  no results to fetch\n",
      "[INFO]  no results to fetch\n",
      "[INFO]  no results to fetch\n",
      "[INFO]  no results to fetch\n",
      "[INFO]  no results to fetch\n",
      "[INFO]  no results to fetch\n",
      "[INFO]  no results to fetch\n",
      "[INFO]  no results to fetch\n",
      "[INFO]  no results to fetch\n",
      "[INFO]  no results to fetch\n",
      "[INFO]  no results to fetch\n",
      "[INFO]  no results to fetch\n",
      "[INFO]  no results to fetch\n",
      "[INFO]  no results to fetch\n",
      "[INFO]  no results to fetch\n",
      "[INFO]  no results to fetch\n",
      "[INFO]  no results to fetch\n",
      "[INFO]  no results to fetch\n",
      "[INFO]  no results to fetch\n",
      "[INFO]  no results to fetch\n",
      "[INFO]  no results to fetch\n",
      "[INFO]  no results to fetch\n",
      "[INFO]  no results to fetch\n",
      "[INFO]  no results to fetch\n",
      "[INFO]  no results to fetch\n",
      "[INFO]  no results to fetch\n",
      "[INFO]  no results to fetch\n",
      "[INFO]  no results to fetch\n",
      "[INFO]  no results to fetch\n",
      "[INFO]  no results to fetch\n"
     ]
    },
    {
     "data": {
      "text/plain": [
       "'Done!'"
      ]
     },
     "execution_count": 67,
     "metadata": {},
     "output_type": "execute_result"
    }
   ],
   "source": [
    "#all_files_read()\n",
    "all_files_import()"
   ]
  }
 ],
 "metadata": {
  "colab": {
   "collapsed_sections": [
    "qHNlpN74kd3b",
    "SliYKrKskoQu"
   ],
   "provenance": []
  },
  "kernelspec": {
   "display_name": "Python 3 (ipykernel)",
   "language": "python",
   "name": "python3"
  },
  "language_info": {
   "codemirror_mode": {
    "name": "ipython",
    "version": 3
   },
   "file_extension": ".py",
   "mimetype": "text/x-python",
   "name": "python",
   "nbconvert_exporter": "python",
   "pygments_lexer": "ipython3",
   "version": "3.12.3"
  }
 },
 "nbformat": 4,
 "nbformat_minor": 4
}
