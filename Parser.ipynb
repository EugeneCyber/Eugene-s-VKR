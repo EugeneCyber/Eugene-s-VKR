{
 "cells": [
  {
   "cell_type": "markdown",
   "metadata": {
    "id": "eTHVrO-XDbv6",
    "jp-MarkdownHeadingCollapsed": true
   },
   "source": [
    "# **Парсер для LMS Moodle**"
   ]
  },
  {
   "cell_type": "markdown",
   "metadata": {
    "id": "Q3rpZws1QJBf",
    "jp-MarkdownHeadingCollapsed": true
   },
   "source": [
    "# Базовые функции и библиотеки"
   ]
  },
  {
   "cell_type": "code",
   "execution_count": 1,
   "metadata": {
    "id": "B1inMDi7QvMp"
   },
   "outputs": [],
   "source": [
    "import xml.etree.ElementTree as ET"
   ]
  },
  {
   "cell_type": "code",
   "execution_count": 2,
   "metadata": {
    "id": "pVdFzS18DCvo"
   },
   "outputs": [],
   "source": [
    "#возврат путей xml файлов\n",
    "def activities_directories ():\n",
    "    file = \"backup/moodle_backup.xml\"\n",
    "    direct = []\n",
    "    directory = find_by_tag(file,\"directory\")\n",
    "    modulename = find_by_tag(file,\"modulename\")\n",
    "    for i in range( len(modulename) ):\n",
    "        text_dir = \"backup/\" + directory[i] + \"/\" + modulename[i] + \".xml\"\n",
    "        direct.insert(i, text_dir)\n",
    "    return direct"
   ]
  },
  {
   "cell_type": "code",
   "execution_count": 3,
   "metadata": {},
   "outputs": [],
   "source": [
    "#возварт текста по тегу\n",
    "def find_by_tag (file, tag):\n",
    "    tree = ET.parse(file)\n",
    "    root = tree.getroot()\n",
    "    res = \"\"\n",
    "    for text_in_root in root.iter(tag):\n",
    "        res += str(text_in_root.text)\n",
    "        res += \"\\n\"\n",
    "    listRes = list(res.split(\"\\n\"))\n",
    "    listRes.pop( len(listRes)-1 )\n",
    "    return listRes"
   ]
  },
  {
   "cell_type": "code",
   "execution_count": 4,
   "metadata": {},
   "outputs": [],
   "source": [
    "#возварт текста по тегу из конкретного вложенного тега\n",
    "def find_by_tag_from_tag (file, where, tag):\n",
    "    tree = ET.parse(file)\n",
    "    root = tree.getroot()\n",
    "    res = \"\"\n",
    "    for text_in_root in tree.findall(\".//\" + where + \"/\" + tag):\n",
    "        res += str(text_in_root.text)\n",
    "        res += \"\\n\"\n",
    "    listRes = list(res.split(\"\\n\"))\n",
    "    listRes.pop( len(listRes)-1 )\n",
    "    return listRes"
   ]
  },
  {
   "cell_type": "code",
   "execution_count": 5,
   "metadata": {},
   "outputs": [],
   "source": [
    "#возврат всего файла\n",
    "def read_all(file):\n",
    "    tree = ET.parse(file)\n",
    "    s = ET.dump(tree)\n",
    "    return s"
   ]
  },
  {
   "cell_type": "code",
   "execution_count": 6,
   "metadata": {},
   "outputs": [],
   "source": [
    "#удаление конкретных символов\n",
    "def remove_symbols(symbols_to_remove, text):\n",
    "    for symbol in symbols_to_remove:\n",
    "        text = text.replace(symbol, \"\")\n",
    "    return text"
   ]
  },
  {
   "cell_type": "code",
   "execution_count": 7,
   "metadata": {},
   "outputs": [],
   "source": [
    "#удаление последнего символа\n",
    "def remove_last_symbol(text):\n",
    "    result_string = \"\"\n",
    "    index = len(text)\n",
    "    for i in range(index-1):\n",
    "        result_string += text[i]\n",
    "    return result_string"
   ]
  },
  {
   "cell_type": "markdown",
   "metadata": {
    "jp-MarkdownHeadingCollapsed": true
   },
   "source": [
    "# Функции чтения отдельных XML файлов ресурсов"
   ]
  },
  {
   "cell_type": "code",
   "execution_count": 8,
   "metadata": {},
   "outputs": [],
   "source": [
    "#чтение page\n",
    "def page_read (file):\n",
    "    strings_arr = find_by_tag(file, \"content\")\n",
    "    return strings_arr"
   ]
  },
  {
   "cell_type": "code",
   "execution_count": 9,
   "metadata": {},
   "outputs": [],
   "source": [
    "#чтение choise\n",
    "def choiсe_read (file):\n",
    "    text = find_by_tag(file, \"text\")\n",
    "    count = find_by_tag(file, \"maxanswers\")\n",
    "    return text"
   ]
  },
  {
   "cell_type": "code",
   "execution_count": 10,
   "metadata": {},
   "outputs": [],
   "source": [
    "#чтение book\n",
    "def book_read (file):\n",
    "    all_content = []\n",
    "    name = remove_symbols(\"'[]\", str( find_by_tag(file, \"name\") ) )\n",
    "    title = find_by_tag(file, \"title\")\n",
    "    book_content = find_by_tag(file, \"content\")\n",
    "    all_content.append(name)\n",
    "    all_content.append(title)\n",
    "    all_content.append(book_content)\n",
    "    return all_content"
   ]
  },
  {
   "cell_type": "code",
   "execution_count": 11,
   "metadata": {},
   "outputs": [],
   "source": [
    "#чтение feedback\n",
    "def feedback_read (file):\n",
    "    all_content = []\n",
    "    new_parts = []\n",
    "    questions = find_by_tag_from_tag(file, \"item\", \"name\")\n",
    "\n",
    "    arr_content = find_by_tag(file, \"presentation\")\n",
    "    str_content = ''.join(arr_content)\n",
    "    parts = str_content.rsplit('>>>>>')\n",
    "    parts.pop(0)\n",
    "\n",
    "    #убираем последний символ\n",
    "    for i in range ( len(parts) ):\n",
    "        if i != len(parts)-1:\n",
    "            new_parts.append( remove_last_symbol(parts[i]) )\n",
    "        else:\n",
    "            new_parts.append( parts[i] )\n",
    "        \n",
    "    all_content.append(questions)\n",
    "    \n",
    "    #разделяем строки по разделителям\n",
    "    for i in range ( len(parts) ):\n",
    "        new = new_parts[i].rsplit('|')\n",
    "        all_content.append(new)\n",
    "    \n",
    "    return all_content"
   ]
  },
  {
   "cell_type": "code",
   "execution_count": 12,
   "metadata": {},
   "outputs": [],
   "source": [
    "#чтение survey\n",
    "def survey_read (file):\n",
    "    all_content = []\n",
    "    \n",
    "    questions = find_by_tag(file, \"questions\")\n",
    "    str_content = ''.join(questions)\n",
    "    parts = str_content.rsplit(',')\n",
    "\n",
    "    all_content.append(find_by_tag(file, \"name\"))\n",
    "    all_content.append(parts)\n",
    "    \n",
    "    return all_content"
   ]
  },
  {
   "cell_type": "markdown",
   "metadata": {
    "jp-MarkdownHeadingCollapsed": true
   },
   "source": [
    "# Функции чтения всех файлов"
   ]
  },
  {
   "cell_type": "code",
   "execution_count": 13,
   "metadata": {},
   "outputs": [],
   "source": [
    "#чтаение всех видов файлов\n",
    "def read_file (file):\n",
    "    s = file\n",
    "    parts = s.rsplit('/')\n",
    "    res = parts[3]\n",
    "    \n",
    "    if res == \"page.xml\" :\n",
    "        return page_read (file)\n",
    "    elif res == \"choice.xml\" :\n",
    "        return choiсe_read (file)\n",
    "    elif res == \"book.xml\" :\n",
    "        return book_read (file)\n",
    "    elif res == \"feedback.xml\" :\n",
    "        return feedback_read (file)\n",
    "    elif res == \"survey.xml\" :\n",
    "        return survey_read (file)"
   ]
  },
  {
   "cell_type": "code",
   "execution_count": 14,
   "metadata": {},
   "outputs": [],
   "source": [
    "#чтение всего backup файла\n",
    "def all_files_read ():\n",
    "    all_content = []\n",
    "    titles = find_by_tag_from_tag(\"backup/moodle_backup.xml\", \"activity\", \"title\")\n",
    "    types = find_by_tag(\"backup/moodle_backup.xml\", \"modulename\")\n",
    "    ids = find_by_tag(\"backup/moodle_backup.xml\", \"moduleid\")\n",
    "    urls = []\n",
    "    contents = []\n",
    "    dirs = activities_directories()\n",
    "    \n",
    "    for i in range ( len(dirs) ):\n",
    "        contents.append( read_file(dirs[i]) )\n",
    "        orig_url = str( find_by_tag(\"backup/moodle_backup.xml\", \"original_wwwroot\") )\n",
    "\n",
    "        #формирование ссылки\n",
    "        symbols_to_remove = \" '[] \"\n",
    "        orig_url = remove_symbols(symbols_to_remove, orig_url)\n",
    "        urls.append( orig_url + \"/mod/\" + types[i] + \"/view.php\" +  \"?id=\" + ids[i])\n",
    "\n",
    "    all_content.append(titles)\n",
    "    all_content.append(types)\n",
    "    all_content.append(urls)\n",
    "    all_content.append(contents)\n",
    "    return all_content"
   ]
  },
  {
   "cell_type": "markdown",
   "metadata": {
    "id": "2HhQi1r6k9qq"
   },
   "source": [
    "# Основной код"
   ]
  },
  {
   "cell_type": "code",
   "execution_count": 15,
   "metadata": {
    "colab": {
     "base_uri": "https://localhost:8080/"
    },
    "id": "RGc4YPtekbx9",
    "outputId": "b8e5adcc-8022-40d1-b79b-c0ced6229189"
   },
   "outputs": [
    {
     "data": {
      "text/plain": [
       "[['Объявления',\n",
       "  'Информация по экзамену',\n",
       "  'Предсессионный опрос',\n",
       "  'Запись на консультации',\n",
       "  'Стандарты оформления в ИРНИТУ',\n",
       "  'Опрос: начальные компетенции',\n",
       "  'Анкета тест 1 COLLESф',\n",
       "  'Введение в программирование',\n",
       "  'Введение в программирование',\n",
       "  'Отчёт по лабораторной',\n",
       "  'Тест по основам программирования'],\n",
       " ['forum',\n",
       "  'page',\n",
       "  'choice',\n",
       "  'scheduler',\n",
       "  'resource',\n",
       "  'feedback',\n",
       "  'survey',\n",
       "  'book',\n",
       "  'lesson',\n",
       "  'assign',\n",
       "  'quiz'],\n",
       " ['http://51.250.4.123/moodle/mod/forum/view.php?id=1',\n",
       "  'http://51.250.4.123/moodle/mod/page/view.php?id=3',\n",
       "  'http://51.250.4.123/moodle/mod/choice/view.php?id=4',\n",
       "  'http://51.250.4.123/moodle/mod/scheduler/view.php?id=5',\n",
       "  'http://51.250.4.123/moodle/mod/resource/view.php?id=6',\n",
       "  'http://51.250.4.123/moodle/mod/feedback/view.php?id=7',\n",
       "  'http://51.250.4.123/moodle/mod/survey/view.php?id=8',\n",
       "  'http://51.250.4.123/moodle/mod/book/view.php?id=9',\n",
       "  'http://51.250.4.123/moodle/mod/lesson/view.php?id=10',\n",
       "  'http://51.250.4.123/moodle/mod/assign/view.php?id=11',\n",
       "  'http://51.250.4.123/moodle/mod/quiz/view.php?id=12'],\n",
       " [None,\n",
       "  ['<h3>Требования по допуску к экзамену</h3>',\n",
       "   '<ol>',\n",
       "   '<li>Выполнить МООК по теме \"Программирование на С++\"</li>',\n",
       "   '<li>Выполнить все лабораторные</li>',\n",
       "   '<li>Выполнить контрольную</li>',\n",
       "   '<li>Сдать тест</li>',\n",
       "   '</ol>',\n",
       "   '<h3>Теоретические вопросы к экзамену</h3>',\n",
       "   '<ol id=\"yui_3_17_2_1_1706313316445_283\">',\n",
       "   '<li>',\n",
       "   '<p>Понятия системы программирования, языка программирования, программы. Архитектуры ЭВМ. Адресное пространство.</p>',\n",
       "   '</li>',\n",
       "   '<li>Алгоритм. Определение и свойства. Способы описания алгоритмов. Блок-схемы: основные элементы и принципы организации.</li>',\n",
       "   '<li>Уровни языков программирования. Трансляция программ. Базовые принципы.</li>',\n",
       "   '<li>Структурное программирование. Виды вычислительных процессов. Утверждение структурного программирования. Идеи Дейкстры.</li>',\n",
       "   '<li>Назначение таблицы внешних спецификаций. Назначение тестирования и отладки программы. Таблица тестов.</li>',\n",
       "   '<li>Структура программы С++. Идентификаторы в С++.</li>',\n",
       "   '<li>Описание переменных в программе. Фундаментальные типы данных С++.</li>',\n",
       "   '<li>Виды констант программы.</li>',\n",
       "   '<li>Выражения. Приоритет операций.</li>',\n",
       "   '<li>Арифметические операции, операции отношения, логические операции.</li>',\n",
       "   '<li>Инкремент и декремент. Особенности постфиксной и префиксной записи.</li>',\n",
       "   '<li>Операция запятая, размер, тернарная операция.</li>',\n",
       "   '<li>Операторы следования и перехода (передачи управления).</li>',\n",
       "   '<li>Условный оператор и оператор выбора (switch).</li>',\n",
       "   '<li>Операторы цикла, их особенности и различия</li>',\n",
       "   '<li>Строки. Основные функции для работы со строками</li>',\n",
       "   '<li>Потоки ввода-вывода. Базовые принципы. Текстовые и двоичные потоки. Стандартные потоки ввода-вывода. Примеры С++.</li>',\n",
       "   '<li>Стандартные потоки ввода-вывода. Извлечение из потока и включение в поток. Манипуляторы потоков. Строковые потоки С++.</li>',\n",
       "   '<li>Статические массивы: одномерные и многомерные</li>',\n",
       "   '<li>Методы сортировки пузырьком и вставками</li>',\n",
       "   '<li>Быстрая сортировка</li>',\n",
       "   '<li>Сортировка слиянием</li>',\n",
       "   '<li>Пирамидальная сортировка</li>',\n",
       "   '<li>',\n",
       "   '<p>Виды памяти: статическая, автоматическая, динамическая память. Пример схемы распределения.</p>',\n",
       "   '</li>',\n",
       "   '<li>Автоматическая память. Подробно про жизненный цикл её элементов. Стек.</li>',\n",
       "   '<li>Динамическая память. Подробно про жизненный цикл её элементов. Особенности new и delete. Сборка мусора. Базовые принципы.</li>',\n",
       "   '<li>Указатели. Определение, размер, особенности (нулевые, void*)</li>',\n",
       "   '<li>Указатели. 4 базовые операции. Арифметика указателей.</li>',\n",
       "   '<li>Ссылки.</li>',\n",
       "   '<li>Динамические массивы: одномерные</li>',\n",
       "   '<li>Динамические массивы: многомерные</li>',\n",
       "   '<li>Функциональная декомпозиция программы. Схема иерархии функций программы. Таблицы спецификаций функций.</li>',\n",
       "   '<li>Объявление и определение функции С++. Параметры функции.</li>',\n",
       "   '<li>Вызов функции. Возврат значений из функции. Кадр стека функции.</li>',\n",
       "   '<li>Передача параметров в функцию с использованием указателей и ссылок.</li>',\n",
       "   '<li>Способы передачи массивов в функцию на примере С++. Особенности.</li>',\n",
       "   '<li>Рекурсия.</li>',\n",
       "   '<li>Разбиение программы на модули, примеры на С++.</li>',\n",
       "   '<li>Область действия переменной и область видимости переменной</li>',\n",
       "   '<li>Глобальные переменные: объявление, обращения, использование в нескольких модулях.</li>',\n",
       "   '<li>Препроцессор, примеры директив препроцессора</li>',\n",
       "   '<li>Алгоритм сборки программы, примеры на С++</li>',\n",
       "   '<li>Пользовательские типы данных С++: перечисление, объединение, псевдонимы.</li>',\n",
       "   '<li>Пользовательские типы данных С++: структура. Объявление, инициализация, создание объектов (к понятию о фабричной функции).</li>',\n",
       "   '<li>Пользовательские типы данных С++: структура и методы. Ключевое слово this.</li>',\n",
       "   '<li>Указатели на функцию и делегирование (на примере С++ или C#)</li>',\n",
       "   '<li>Перегрузка функций (на примере С++ или C#).</li>',\n",
       "   '<li>Перегрузка операций (на примере С++ или C#).</li>',\n",
       "   '<li>Сборка программы из нескольких файлов (cpp, h)</li>',\n",
       "   '<li>Потоки и работа с файлами (на примере С++)</li>',\n",
       "   '<li>Представление в ЭВМ целых чисел без знака: коды, операции, особенности использования.</li>',\n",
       "   '<li>Представление в ЭВМ целых чисел со знаком: коды, операции, особенности использования.</li>',\n",
       "   '<li>Представление в ЭВМ действительных чисел: формы представления, стандарт IEEE 754 (формулировка, перевод числа, особенности операций).</li>',\n",
       "   '<li>Абстрактные структуры данных: определения, примеры.</li>',\n",
       "   '<li>Абстрактная структура данных – список: структура и классификация.</li>',\n",
       "   '<li>Односвязный линейный список: алгоритм основных операций.</li>',\n",
       "   '<li>Стек и очередь: основные операции и реализация на С++</li>',\n",
       "   '<li>Бинарное дерево поиска: определение, операции поиска, вставки, удаления.</li>',\n",
       "   '<li>Бинарное дерево поиска: обход в глубину и ширину.</li>',\n",
       "   '<li>Сбалансированное дерево поиска: определение и примеры.</li>',\n",
       "   '<li>Абстрактная структура данных – хеш-таблица: определение, структура, операции</li>',\n",
       "   '<li>Абстрактные структуры данных: ассоциативный массив (отображение, карта, словарь), множество, мультимножество</li>',\n",
       "   '<li>Основные принципы обобщенного программирования</li>',\n",
       "   '<li>Основные типы контейнеров библиотеки STL, примеры использования</li>',\n",
       "   '<li>Итераторы на примере библиотеки STL</li>',\n",
       "   '<li>Принципы работы машина Тьюринга</li>',\n",
       "   '<li id=\"yui_3_17_2_1_1706313316445_282\">Основные тенденции развития языков программирования</li>',\n",
       "   '</ol>',\n",
       "   '<h3>Примеры практических заданий</h3>',\n",
       "   '<ol>',\n",
       "   '<li>Составить и протестировать программу для целых квадратных матрицы порядка 2&lt;=n&lt;=10. Найти k1-количество элементов ниже побочной диагонали матрицы C, меньших a, и k2-количество элементов ниже побочной диагонали матрицы Т, меньших b. Если k1&lt;k2, найти F=T+2k1C, иначе найти H=2C-k2T.</li>',\n",
       "   '<li>Дополнительно заданы два целых числа k и m. Найти n – количество не равных k элементов матрицы C, и l-количество не равных m элементов матрицы T.\\xa0 Если n&gt;l, то найти H=Tt*C+k*T, иначе найти F=Ct*T+l*C, где Tt, Ct- транспонированные матрицы для T и C, соответственно.</li>',\n",
       "   '<li>Составить программу добавления узла в линейный двунаправленный список с сохранением упорядоченности по ключу</li>',\n",
       "   '<li>Составить и протестировать программу поиска узла в линейном однонаправленном списке (не по уникальному ключу).\\xa0<span lang=\"EN-US\">Результат сохранить в массив или вектор STL.</span></li>',\n",
       "   '<li><span lang=\"EN-US\">Составить и протестировать программу упорядочения элементов линейного однонаправленного списка по возрастанию ключа<br></span></li>',\n",
       "   '<li><span lang=\"EN-US\">Составить программу удаления узла из бинарного дерева поиска</span></li>',\n",
       "   '</ol>'],\n",
       "  ['Соответствует ли содержание курса «Программирование» в первом семестре Вашим ожиданиям?',\n",
       "   'Хотели бы вы сменить базовый языка курса «Программирование» с С++ на Python? При этом имея ввиду «особенности» Python и невозможность его использования для более глубоко изучения некоторых тем курса «Программирование».',\n",
       "   'Считаете ли Вы объём выполняемых лабораторных заданий завышенным?',\n",
       "   'Стоит ли глубже изучать тему работы с массивами?',\n",
       "   'Стоит ли глубже изучать работу со строками?',\n",
       "   'Стоит ли глубже изучать специфику языка С++?',\n",
       "   'Собирались ли Вы в будущем профессионально заниматься программированием (до поступления)?',\n",
       "   'Собираетесь ли Вы в будущем профессионально заниматься программированием (после изучения курса)?'],\n",
       "  None,\n",
       "  None,\n",
       "  [['Имеете ли Вы опыт в .... ?',\n",
       "    'Какой язык программирования Вы изучали?',\n",
       "    'Какие оператора языка Вы знаете?',\n",
       "    'С какими типы данных вы работали (не зависимо от языка)?',\n",
       "    'С какими типы данных вы работали на языке С++ или С?',\n",
       "    'Умеете ли Вы создавать и использовать  функции?',\n",
       "    'С каким средствами поиска и представления информации вы знакомы?',\n",
       "    'Осознаёте ли Вы, что работы по дисциплине \"Программирование\" предполагает самостоятельную работу по поиску информации, необходимую для выполнения заданий?',\n",
       "    'Какие средства разработки Вы использовали?',\n",
       "    'Какие средства редактирования информации Вы использовали?'],\n",
       "   ['Изучении программирования',\n",
       "    'Написании неучебных программ',\n",
       "    'В области программирования как профессионального работника',\n",
       "    'Нет никакого опыта'],\n",
       "   ['С++',\n",
       "    'Python',\n",
       "    'Javascript',\n",
       "    'Visual Basic',\n",
       "    'Pascal',\n",
       "    'C#',\n",
       "    'Другой язык высокого уровня',\n",
       "    'Не знаю языков программирования'],\n",
       "   ['Развилка (if...then)',\n",
       "    'Цикл с параметром(for....)',\n",
       "    'Цикл с пред и пост условием (while, ..., do ... while)',\n",
       "    'Цикл по коллекции (foreach ..., for (type &item : set) )',\n",
       "    'Выбор (switch ... case)',\n",
       "    'Операторы передачи управления (break, continue)'],\n",
       "   ['Символы',\n",
       "    'Строки',\n",
       "    'Булевы',\n",
       "    'Целые числа',\n",
       "    'Действительные числа',\n",
       "    'Статический массив',\n",
       "    'Динамический массив',\n",
       "    'Пользовательский тип',\n",
       "    'Потоки ввода-вывода'],\n",
       "   ['Символы',\n",
       "    'Строки',\n",
       "    'Булевы',\n",
       "    'Целые числа',\n",
       "    'Действительные числа',\n",
       "    'Статический массив',\n",
       "    'Динамический массив',\n",
       "    'Пользовательский тип',\n",
       "    'Потоки ввода-вывода'],\n",
       "   ['Создавал функции в других языках программирования',\n",
       "    'Создавал функции в С или С++',\n",
       "    'Использовал, но не создавал функции',\n",
       "    'Не знаю, что такое функции в программировании'],\n",
       "   ['Печатные материалы (книги, учебные пособия)',\n",
       "    'Электронные материалы (форматы файлов pdf, djvu)',\n",
       "    'Поисковые системы (Yandex, Google,...)',\n",
       "    'Видео лекции и руководства (Youtube, ...)',\n",
       "    'Языковые виртуальные ассистенты (ChatGPT, Bard, ...)',\n",
       "    'Массовый открытый онлайн-курс (stepik.org, ...)',\n",
       "    'Электронное обучение ИРНИТУ (https://el.istu.edu/)'],\n",
       "   ['Да', 'Нет'],\n",
       "   ['Visual Studio',\n",
       "    'VS Code',\n",
       "    'IDE от JetBrains (CLion, ...)',\n",
       "    'IDE от Embarcadero Technologies (С++ Builder,...)',\n",
       "    'Repl',\n",
       "    'Веб-страницы (onlinegdb.com, programiz.com, ...)',\n",
       "    'Другие средства',\n",
       "    'Не использовал никаких'],\n",
       "   ['Редактор текстовых документов (Word, ...)',\n",
       "    'Редактор блок-схем (Word, draw.io, ...)',\n",
       "    'Редактор презентацией (Power Point, ...)',\n",
       "    'Простые редакторы (paint, notepad/блокнот, ...)',\n",
       "    'Не использовал']],\n",
       "  [['Анкета тест 1 COLLESф'],\n",
       "   ['25', '26', '27', '28', '29', '30', '43', '44']],\n",
       "  ['Введение в программирование', ['Глава 1.'], ['<p>1</p>']],\n",
       "  None,\n",
       "  None,\n",
       "  None]]"
      ]
     },
     "execution_count": 15,
     "metadata": {},
     "output_type": "execute_result"
    }
   ],
   "source": [
    "all_files_read()"
   ]
  }
 ],
 "metadata": {
  "colab": {
   "collapsed_sections": [
    "qHNlpN74kd3b",
    "SliYKrKskoQu"
   ],
   "provenance": []
  },
  "kernelspec": {
   "display_name": "Python 3 (ipykernel)",
   "language": "python",
   "name": "python3"
  },
  "language_info": {
   "codemirror_mode": {
    "name": "ipython",
    "version": 3
   },
   "file_extension": ".py",
   "mimetype": "text/x-python",
   "name": "python",
   "nbconvert_exporter": "python",
   "pygments_lexer": "ipython3",
   "version": "3.12.3"
  }
 },
 "nbformat": 4,
 "nbformat_minor": 4
}
