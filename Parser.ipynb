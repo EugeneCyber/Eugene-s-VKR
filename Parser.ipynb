{
 "cells": [
  {
   "cell_type": "markdown",
   "metadata": {
    "id": "eTHVrO-XDbv6",
    "jp-MarkdownHeadingCollapsed": true
   },
   "source": [
    "# **Парсер для LMS Moodle**"
   ]
  },
  {
   "cell_type": "markdown",
   "metadata": {
    "id": "Q3rpZws1QJBf",
    "jp-MarkdownHeadingCollapsed": true
   },
   "source": [
    "# Базовые функции и библиотеки"
   ]
  },
  {
   "cell_type": "code",
   "execution_count": 1,
   "metadata": {
    "id": "B1inMDi7QvMp"
   },
   "outputs": [],
   "source": [
    "import xml.etree.ElementTree as ET"
   ]
  },
  {
   "cell_type": "code",
   "execution_count": 2,
   "metadata": {
    "id": "pVdFzS18DCvo"
   },
   "outputs": [],
   "source": [
    "#возврат путей xml файлов\n",
    "def activities_directories ():\n",
    "    file = \"backup/moodle_backup.xml\"\n",
    "    direct = []\n",
    "    directory = find_by_tag(file,\"directory\")\n",
    "    modulename = find_by_tag(file,\"modulename\")\n",
    "    for i in range( len(modulename) ):\n",
    "        text_dir = \"backup/\" + directory[i] + \"/\" + modulename[i] + \".xml\"\n",
    "        direct.insert(i, text_dir)\n",
    "    return direct"
   ]
  },
  {
   "cell_type": "code",
   "execution_count": 3,
   "metadata": {},
   "outputs": [],
   "source": [
    "#возварт текста по тегу\n",
    "def find_by_tag (file, tag):\n",
    "    tree = ET.parse(file)\n",
    "    root = tree.getroot()\n",
    "    res = \"\"\n",
    "    for text_in_root in root.iter(tag):\n",
    "        res += str(text_in_root.text)\n",
    "        res += \"\\n\"\n",
    "    listRes = list(res.split(\"\\n\"))\n",
    "    listRes.pop( len(listRes)-1 )\n",
    "    return listRes"
   ]
  },
  {
   "cell_type": "code",
   "execution_count": 4,
   "metadata": {},
   "outputs": [],
   "source": [
    "#возварт текста по тегу из конкретного вложенного тега\n",
    "def find_by_tag_from_tag (file, where, tag):\n",
    "    tree = ET.parse(file)\n",
    "    root = tree.getroot()\n",
    "    res = \"\"\n",
    "    for text_in_root in tree.findall(\".//\" + where + \"/\" + tag):\n",
    "        res += str(text_in_root.text)\n",
    "        res += \"\\n\"\n",
    "    listRes = list(res.split(\"\\n\"))\n",
    "    listRes.pop( len(listRes)-1 )\n",
    "    return listRes"
   ]
  },
  {
   "cell_type": "code",
   "execution_count": 5,
   "metadata": {},
   "outputs": [],
   "source": [
    "#возварт аррибута по тегу\n",
    "def find_ID_attrib_by_tag (file, tag):\n",
    "    tree = ET.parse(file)\n",
    "    root = tree.getroot()\n",
    "    res = \"\"\n",
    "    for text_in_root in root.iter(tag):\n",
    "        symbols_to_remove = \"{}id:' \"\n",
    "        res += remove_symbols(symbols_to_remove, str( text_in_root.attrib ))\n",
    "        res += \"\\n\"\n",
    "    listRes = list(res.split(\"\\n\"))\n",
    "    listRes.pop( len(listRes)-1 )\n",
    "    return listRes"
   ]
  },
  {
   "cell_type": "code",
   "execution_count": 6,
   "metadata": {},
   "outputs": [],
   "source": [
    "#возврат всего файла\n",
    "def read_all(file):\n",
    "    tree = ET.parse(file)\n",
    "    s = ET.dump(tree)\n",
    "    return s"
   ]
  },
  {
   "cell_type": "code",
   "execution_count": 7,
   "metadata": {},
   "outputs": [],
   "source": [
    "#удаление конкретных символов\n",
    "def remove_symbols(symbols_to_remove, text):\n",
    "    for symbol in symbols_to_remove:\n",
    "        text = text.replace(symbol, \"\")\n",
    "    return text"
   ]
  },
  {
   "cell_type": "code",
   "execution_count": 8,
   "metadata": {},
   "outputs": [],
   "source": [
    "#удаление последнего символа\n",
    "def remove_last_symbol(text):\n",
    "    result_string = \"\"\n",
    "    index = len(text)\n",
    "    for i in range(index-1):\n",
    "        result_string += text[i]\n",
    "    return result_string"
   ]
  },
  {
   "cell_type": "code",
   "execution_count": 9,
   "metadata": {},
   "outputs": [],
   "source": [
    "# функция help\n",
    "def help():\n",
    "    stars = \"||||||||||||||||||||||||||||||||||||||||||||||||||||||||||||||||||||||||||||||||||||||||||||||||||||||||||||||||||||||||||||||||||||||||||||||||||||||||||||||\\n\"\n",
    "    res = stars\n",
    "    res += \"Функция all_files_read() считывает все данные файлов, помещенных в папку backup\\n\"\n",
    "    res += \"Общий массив имеет следующую структуру:\\n\"\n",
    "    \n",
    "    res += \"[\\n\"\n",
    "    res += \"  ['названия ресурсов'] в виде строк,\\n\"\n",
    "    res += \"  ['типы ресурсов'] в виде строк,\\n\"\n",
    "    res += \"  ['ссылки на ресурсы'] в виде строк,\\n\"\n",
    "    res += \"    [\\n\"\n",
    "    res += \"      [массив ресурса 1], [массив ресурса 2], [массив ресурса 3]... \\n\"\n",
    "    res += \"    ]\\n\"\n",
    "    res += \"]\\n\"\n",
    "\n",
    "    #res = \"\"\n",
    "    res += stars\n",
    "    res += \"Ресурс PAGE имеет следующую структуру массива:\\n\"\n",
    "    res += \"[\\n\"\n",
    "    res += \"  'название ресурса',\\n\"\n",
    "    res += \"  ['строка 1', 'строка 2', 'строка 3', 'строка 4'...]\\n\"\n",
    "    res += \"]\\n\"\n",
    "\n",
    "    #res = \"\"\n",
    "    res += stars\n",
    "    res += \"Ресурс CHOICE имеет следующую структуру массива:\\n\"\n",
    "    res += \"[\\n\"\n",
    "    res += \"  'название ресурса',\\n\"\n",
    "    res += \"  ['вопрос (строка) 1', 'вопрос 2', 'вопрос 3', 'вопрос 4'...],\\n\"\n",
    "    res += \"  ['ответ (строка) 1', 'ответ 2', 'ответ 3', 'ответ 4'...]\\n\"\n",
    "    res += \"]\\n\"\n",
    "\n",
    "    #res = \"\"\n",
    "    res += stars\n",
    "    res += \"Ресурс BOOK имеет следующую структуру массива:\\n\"\n",
    "    res += \"[\\n\"\n",
    "    res += \"  'название ресурса',\\n\"\n",
    "    res += \"  ['глава (строка) 1', 'глава 2', 'глава 3'...],\\n\"\n",
    "    res += \"  [\\n\"\n",
    "    res += \"    ['строка главы 1', 'строка главы 1', 'строка главы 1'...], \\n\"\n",
    "    res += \"    ['строка главы 2', 'строка главы 2', 'строка главы 2'...], \\n\"\n",
    "    res += \"    ['строка главы 3', 'строка главы 3', 'строка главы 3'...] \\n\"\n",
    "    res += \"  ]\\n\"\n",
    "    res += \"]\\n\"\n",
    "\n",
    "    #res = \"\"\n",
    "    res += stars\n",
    "    res += \"Ресурс FEEDBACK имеет следующую структуру массива:\\n\"\n",
    "    res += \"[\\n\"\n",
    "    res += \"  'название ресурса',\\n\"\n",
    "    res += \"  ['вопрос 1', 'вопрос 2', 'вопрос 3'...],\\n\"\n",
    "    res += \"  ['вариат ответа на ворос 1', 'вариат ответа на ворос 1', 'вариат ответа на ворос 1'...], \\n\"\n",
    "    res += \"  ['вариат ответа на ворос 2', 'вариат ответа на ворос 2', 'вариат ответа на ворос 2'...], \\n\"\n",
    "    res += \"  ['вариат ответа на ворос 3', 'вариат ответа на ворос 3', 'вариат ответа на ворос 3'...] \\n\"\n",
    "    res += \"]\\n\"\n",
    "\n",
    "    #res = \"\"\n",
    "    res += stars\n",
    "    res += \"Ресурс SURVEY имеет следующую структуру массива:\\n\"\n",
    "    res += \"[\\n\"\n",
    "    res += \"  'название ресурса',\\n\"\n",
    "    res += \"  ['номер вороса из банка вопросов', 'номер вороса из банка вопросов'...]\\n\"\n",
    "    res += \"]\\n\"\n",
    "\n",
    "    #res = \"\"\n",
    "    res += stars\n",
    "    res += \"Ресурс FORUM имеет следующую структуру массива:\\n\"\n",
    "    res += \"[\\n\"\n",
    "    res += \"  'название ресурса',\\n\"\n",
    "    res += \"  ['id комментария', 'id комментария, на который идет ответ', 'id пользователя, оставившего комментарий', 'текст комментария'],\\n\"\n",
    "    res += \"  ['id комментария', 'id комментария, на который идет ответ', 'id пользователя, оставившего комментарий', 'текст комментария']\\n\"\n",
    "    res += \"]\\n\"\n",
    "\n",
    "    #res = \"\"\n",
    "    res += stars\n",
    "    res += \"Ресурс SCHEDULER имеет следующую структуру массива:\\n\"\n",
    "    res += \"[\\n\"\n",
    "    res += \"  'название ресурса',\\n\"\n",
    "    res += \"  ['id записи', 'id учителя', 'время начала в Unixtime', 'продолжительность в минутах', 'заметки'],\\n\"\n",
    "    res += \"  ['id записи', 'id учителя', 'время начала в Unixtime', 'продолжительность в минутах', 'заметки']\\n\"\n",
    "    res += \"]\\n\"\n",
    "\n",
    "    #res = \"\"\n",
    "    res += stars\n",
    "    res += \"Ресурс QUIZ имеет следующую структуру массива:\\n\"\n",
    "    res += \"[\\n\"\n",
    "    res += \"  'название ресурса',\\n\"\n",
    "    res += \"  ['номер вороса в квизе', 'id вопроса из банка вопросов', 'баллы за правильный ответ'],\\n\"\n",
    "    res += \"  ['номер вороса в квизе', 'id вопроса из банка вопросов', 'баллы за правильный ответ']\\n\"\n",
    "    res += \"]\\n\"\n",
    "\n",
    "    res += stars\n",
    "    return res \n",
    "#print( help() )"
   ]
  },
  {
   "cell_type": "markdown",
   "metadata": {
    "jp-MarkdownHeadingCollapsed": true
   },
   "source": [
    "# Функции чтения отдельных XML файлов ресурсов"
   ]
  },
  {
   "cell_type": "code",
   "execution_count": 10,
   "metadata": {},
   "outputs": [],
   "source": [
    "#чтение page\n",
    "def page_read (file):\n",
    "    all_content = []\n",
    "    \n",
    "    title = remove_symbols(\"[]'\", str(find_by_tag_from_tag(file, \"page\", \"name\")))\n",
    "    strings_arr = find_by_tag(file, \"content\")\n",
    "\n",
    "    all_content.append( title )\n",
    "    all_content.append( strings_arr )\n",
    "    \n",
    "    return all_content\n",
    "\n",
    "#page_read(\"backup/activities/page_3/page.xml\")"
   ]
  },
  {
   "cell_type": "code",
   "execution_count": 11,
   "metadata": {},
   "outputs": [],
   "source": [
    "#чтение choice\n",
    "def choice_read (file):\n",
    "    all_content = []\n",
    "    \n",
    "    title = remove_symbols(\"[]'\", str(find_by_tag_from_tag(file, \"choice\", \"name\")))\n",
    "    text = find_by_tag(file, \"text\")\n",
    "    count = find_by_tag(file, \"maxanswers\")\n",
    "\n",
    "    all_content.append( title )\n",
    "    all_content.append( text )\n",
    "    all_content.append( count )\n",
    "    \n",
    "    return all_content\n",
    "\n",
    "#choice_read(\"backup/activities/choice_4/choice.xml\")"
   ]
  },
  {
   "cell_type": "code",
   "execution_count": 12,
   "metadata": {},
   "outputs": [],
   "source": [
    "#чтение book\n",
    "def book_read (file):\n",
    "    all_content = []\n",
    "    book_content = []\n",
    "    name = remove_symbols(\"'[]\", str( find_by_tag(file, \"name\") ) )\n",
    "    title = find_by_tag(file, \"title\")\n",
    "\n",
    "    for i in range( len(title) ):\n",
    "        chap = \"chapter[\" + str(i+1) + \"]\"\n",
    "        content = find_by_tag_from_tag(file, chap, \"content\")\n",
    "        book_content.append(content)\n",
    "    \n",
    "    all_content.append(name)\n",
    "    all_content.append(title)\n",
    "    all_content.append(book_content)\n",
    "    return all_content\n",
    "    \n",
    "#book_read(\"backup/activities/book_9/book.xml\")"
   ]
  },
  {
   "cell_type": "code",
   "execution_count": 13,
   "metadata": {},
   "outputs": [],
   "source": [
    "#чтение feedback\n",
    "def feedback_read (file):\n",
    "    all_content = []\n",
    "    new_parts = []\n",
    "    questions = find_by_tag_from_tag(file, \"item\", \"name\")\n",
    "    title = remove_symbols(\"[]'\", str(find_by_tag_from_tag(file, \"feedback\", \"name\")))\n",
    "\n",
    "    arr_content = find_by_tag(file, \"presentation\")\n",
    "    str_content = ''.join(arr_content)\n",
    "    parts = str_content.rsplit('>>>>>')\n",
    "    parts.pop(0)\n",
    "\n",
    "    all_content.append( title )\n",
    "\n",
    "    #убираем последний символ\n",
    "    for i in range ( len(parts) ):\n",
    "        if i != len(parts)-1:\n",
    "            new_parts.append( remove_last_symbol(parts[i]) )\n",
    "        else:\n",
    "            new_parts.append( parts[i] )\n",
    "        \n",
    "    all_content.append(questions)\n",
    "    \n",
    "    #разделяем строки по разделителям\n",
    "    for i in range ( len(parts) ):\n",
    "        new = new_parts[i].rsplit('|')\n",
    "        all_content.append(new)\n",
    "    \n",
    "    return all_content\n",
    "#feedback_read(\"backup/activities/feedback_7/feedback.xml\")"
   ]
  },
  {
   "cell_type": "code",
   "execution_count": 14,
   "metadata": {},
   "outputs": [],
   "source": [
    "#чтение survey\n",
    "def survey_read (file):\n",
    "    all_content = []\n",
    "    \n",
    "    questions = find_by_tag(file, \"questions\")\n",
    "    str_content = ''.join(questions)\n",
    "    parts = str_content.rsplit(',')\n",
    "    name = remove_symbols(\"[]'\", str(find_by_tag_from_tag(file, \"survey\", \"name\")))\n",
    "\n",
    "    all_content.append(name)\n",
    "    all_content.append(parts)\n",
    "    \n",
    "    return all_content\n",
    "#survey_read(\"backup/activities/survey_8/survey.xml\")"
   ]
  },
  {
   "cell_type": "code",
   "execution_count": 15,
   "metadata": {},
   "outputs": [],
   "source": [
    "#чтение forum\n",
    "def forum_read (file):\n",
    "    all_content = []\n",
    "    comment = []\n",
    "\n",
    "    forum_title = remove_symbols(\"[]'\", str(find_by_tag_from_tag(file, \"discussion\", \"name\")))\n",
    "\n",
    "    comment_id = find_ID_attrib_by_tag(file, \"post\")\n",
    "    parent = find_by_tag(file, \"parent\")\n",
    "    userid = find_by_tag(file, \"userid\")\n",
    "    message = find_by_tag(file, \"message\")\n",
    "\n",
    "    all_content.append( forum_title )\n",
    "    \n",
    "    for i in range ( len(find_by_tag(file, \"parent\")) ):\n",
    "        #id комментария // id комментария, на который идет ответ // id пользователя, оставившего комментарий // текст комментария\n",
    "        comment = []\n",
    "        comment.append( comment_id[i] )\n",
    "        comment.append( parent[i] )\n",
    "        comment.append( userid[i] )\n",
    "        comment.append( message[i] )\n",
    "        all_content.append( comment )\n",
    "    \n",
    "    return all_content\n",
    "#forum_read(\"backup/activities/forum_1/forum.xml\")"
   ]
  },
  {
   "cell_type": "code",
   "execution_count": 16,
   "metadata": {},
   "outputs": [],
   "source": [
    "#чтение scheduler\n",
    "def scheduler_read (file):\n",
    "    all_content = []\n",
    "    slot = []\n",
    "\n",
    "    name = remove_symbols(\"[]'\", str(find_by_tag_from_tag(file, \"scheduler\", \"name\")))\n",
    "    slot_id = find_ID_attrib_by_tag(file, \"slot\")\n",
    "    teacherid = find_by_tag(file, \"teacherid\")\n",
    "    start_time = find_by_tag(file, \"starttime\")\n",
    "    duration = find_by_tag(file, \"duration\")\n",
    "    notes = find_by_tag(file, \"notes\")\n",
    "\n",
    "    all_content.append( name )\n",
    "\n",
    "    for i in range( len(slot_id) ):\n",
    "        #id записи // id учителя // время начала в Unixtime  // продолжительность в минутах // заметки\n",
    "        slot = []\n",
    "        slot.append( slot_id[i] )\n",
    "        slot.append( teacherid[i] )\n",
    "        slot.append( start_time[i] )\n",
    "        slot.append( duration[i] )\n",
    "        slot.append( notes[i] )\n",
    "\n",
    "        all_content.append( slot )\n",
    "    \n",
    "    return all_content\n",
    "#scheduler_read(\"backup/activities/scheduler_5/scheduler.xml\")"
   ]
  },
  {
   "cell_type": "code",
   "execution_count": 17,
   "metadata": {},
   "outputs": [],
   "source": [
    "#чтение quiz\n",
    "def quiz_read (file):\n",
    "    all_content = []\n",
    "    slot = []\n",
    "\n",
    "    name = remove_symbols(\"[]'\", str(find_by_tag_from_tag(file, \"quiz\", \"name\")))\n",
    "    question_instance = find_ID_attrib_by_tag(file, \"question_instance\")\n",
    "    questionbankentryid = find_by_tag(file, \"questionbankentryid\")\n",
    "    maxmark = find_by_tag(file, \"maxmark\")\n",
    "\n",
    "    all_content.append( name )\n",
    "    \n",
    "    for i in range( len(question_instance) ):\n",
    "        #номер вороса в квизе // id вопроса из банка вопросов // баллы за правильный ответ\n",
    "        slot = []\n",
    "        slot.append( question_instance[i] )\n",
    "        slot.append( questionbankentryid[i] )\n",
    "        slot.append( maxmark[i] )\n",
    "\n",
    "        all_content.append( slot )\n",
    "    \n",
    "    return all_content\n",
    "#quiz_read(\"backup/activities/quiz_12/quiz.xml\")"
   ]
  },
  {
   "cell_type": "markdown",
   "metadata": {
    "jp-MarkdownHeadingCollapsed": true
   },
   "source": [
    "# Функции чтения всех файлов"
   ]
  },
  {
   "cell_type": "code",
   "execution_count": 18,
   "metadata": {},
   "outputs": [],
   "source": [
    "#чтаение всех видов файлов\n",
    "def read_file (file):\n",
    "    s = file\n",
    "    parts = s.rsplit('/')\n",
    "    res = parts[3]\n",
    "    \n",
    "    if res == \"page.xml\" :\n",
    "        return page_read (file)\n",
    "    elif res == \"choice.xml\" :\n",
    "        return choice_read (file)\n",
    "    elif res == \"book.xml\" :\n",
    "        return book_read (file)\n",
    "    elif res == \"feedback.xml\" :\n",
    "        return feedback_read (file)\n",
    "    elif res == \"survey.xml\" :\n",
    "        return survey_read (file)\n",
    "    elif res == \"forum.xml\" :\n",
    "        return forum_read (file)\n",
    "    elif res == \"scheduler.xml\" :\n",
    "        return scheduler_read (file)\n",
    "    elif res == \"quiz.xml\" :\n",
    "        return quiz_read (file)"
   ]
  },
  {
   "cell_type": "code",
   "execution_count": 19,
   "metadata": {},
   "outputs": [],
   "source": [
    "#чтение всего backup файла\n",
    "def all_files_read ():\n",
    "    all_content = []\n",
    "    titles = find_by_tag_from_tag(\"backup/moodle_backup.xml\", \"activity\", \"title\")\n",
    "    types = find_by_tag(\"backup/moodle_backup.xml\", \"modulename\")\n",
    "    ids = find_by_tag(\"backup/moodle_backup.xml\", \"moduleid\")\n",
    "    urls = []\n",
    "    contents = []\n",
    "    dirs = activities_directories()\n",
    "    \n",
    "    for i in range ( len(dirs) ):\n",
    "        contents.append( read_file(dirs[i]) )\n",
    "        orig_url = str( find_by_tag(\"backup/moodle_backup.xml\", \"original_wwwroot\") )\n",
    "\n",
    "        #формирование ссылки\n",
    "        symbols_to_remove = \" '[] \"\n",
    "        orig_url = remove_symbols(symbols_to_remove, orig_url)\n",
    "        urls.append( orig_url + \"/mod/\" + types[i] + \"/view.php\" +  \"?id=\" + ids[i])\n",
    "\n",
    "    all_content.append(titles)\n",
    "    all_content.append(types)\n",
    "    all_content.append(urls)\n",
    "    all_content.append(contents)\n",
    "    return all_content"
   ]
  },
  {
   "cell_type": "markdown",
   "metadata": {
    "id": "2HhQi1r6k9qq"
   },
   "source": [
    "# Основной код"
   ]
  },
  {
   "cell_type": "code",
   "execution_count": 22,
   "metadata": {
    "colab": {
     "base_uri": "https://localhost:8080/"
    },
    "id": "RGc4YPtekbx9",
    "outputId": "b8e5adcc-8022-40d1-b79b-c0ced6229189"
   },
   "outputs": [
    {
     "name": "stdout",
     "output_type": "stream",
     "text": [
      "||||||||||||||||||||||||||||||||||||||||||||||||||||||||||||||||||||||||||||||||||||||||||||||||||||||||||||||||||||||||||||||||||||||||||||||||||||||||||||||\n",
      "Функция all_files_read() считывает все данные файлов, помещенных в папку backup\n",
      "Общий массив имеет следующую структуру:\n",
      "[\n",
      "  ['названия ресурсов'] в виде строк,\n",
      "  ['типы ресурсов'] в виде строк,\n",
      "  ['ссылки на ресурсы'] в виде строк,\n",
      "    [\n",
      "      [массив ресурса 1], [массив ресурса 2], [массив ресурса 3]... \n",
      "    ]\n",
      "]\n",
      "||||||||||||||||||||||||||||||||||||||||||||||||||||||||||||||||||||||||||||||||||||||||||||||||||||||||||||||||||||||||||||||||||||||||||||||||||||||||||||||\n",
      "Ресурс PAGE имеет следующую структуру массива:\n",
      "[\n",
      "  'название ресурса',\n",
      "  ['строка 1', 'строка 2', 'строка 3', 'строка 4'...]\n",
      "]\n",
      "||||||||||||||||||||||||||||||||||||||||||||||||||||||||||||||||||||||||||||||||||||||||||||||||||||||||||||||||||||||||||||||||||||||||||||||||||||||||||||||\n",
      "Ресурс CHOICE имеет следующую структуру массива:\n",
      "[\n",
      "  'название ресурса',\n",
      "  ['вопрос (строка) 1', 'вопрос 2', 'вопрос 3', 'вопрос 4'...],\n",
      "  ['ответ (строка) 1', 'ответ 2', 'ответ 3', 'ответ 4'...]\n",
      "]\n",
      "||||||||||||||||||||||||||||||||||||||||||||||||||||||||||||||||||||||||||||||||||||||||||||||||||||||||||||||||||||||||||||||||||||||||||||||||||||||||||||||\n",
      "Ресурс BOOK имеет следующую структуру массива:\n",
      "[\n",
      "  'название ресурса',\n",
      "  ['глава (строка) 1', 'глава 2', 'глава 3'...],\n",
      "  [\n",
      "    ['строка главы 1', 'строка главы 1', 'строка главы 1'...], \n",
      "    ['строка главы 2', 'строка главы 2', 'строка главы 2'...], \n",
      "    ['строка главы 3', 'строка главы 3', 'строка главы 3'...] \n",
      "  ]\n",
      "]\n",
      "||||||||||||||||||||||||||||||||||||||||||||||||||||||||||||||||||||||||||||||||||||||||||||||||||||||||||||||||||||||||||||||||||||||||||||||||||||||||||||||\n",
      "Ресурс FEEDBACK имеет следующую структуру массива:\n",
      "[\n",
      "  'название ресурса',\n",
      "  ['вопрос 1', 'вопрос 2', 'вопрос 3'...],\n",
      "  ['вариат ответа на ворос 1', 'вариат ответа на ворос 1', 'вариат ответа на ворос 1'...], \n",
      "  ['вариат ответа на ворос 2', 'вариат ответа на ворос 2', 'вариат ответа на ворос 2'...], \n",
      "  ['вариат ответа на ворос 3', 'вариат ответа на ворос 3', 'вариат ответа на ворос 3'...] \n",
      "]\n",
      "||||||||||||||||||||||||||||||||||||||||||||||||||||||||||||||||||||||||||||||||||||||||||||||||||||||||||||||||||||||||||||||||||||||||||||||||||||||||||||||\n",
      "Ресурс SURVEY имеет следующую структуру массива:\n",
      "[\n",
      "  'название ресурса',\n",
      "  ['номер вороса из банка вопросов', 'номер вороса из банка вопросов'...]\n",
      "]\n",
      "||||||||||||||||||||||||||||||||||||||||||||||||||||||||||||||||||||||||||||||||||||||||||||||||||||||||||||||||||||||||||||||||||||||||||||||||||||||||||||||\n",
      "Ресурс FORUM имеет следующую структуру массива:\n",
      "[\n",
      "  'название ресурса',\n",
      "  ['id комментария', 'id комментария, на который идет ответ', 'id пользователя, оставившего комментарий', 'текст комментария'],\n",
      "  ['id комментария', 'id комментария, на который идет ответ', 'id пользователя, оставившего комментарий', 'текст комментария']\n",
      "]\n",
      "||||||||||||||||||||||||||||||||||||||||||||||||||||||||||||||||||||||||||||||||||||||||||||||||||||||||||||||||||||||||||||||||||||||||||||||||||||||||||||||\n",
      "Ресурс SCHEDULER имеет следующую структуру массива:\n",
      "[\n",
      "  'название ресурса',\n",
      "  ['id записи', 'id учителя', 'время начала в Unixtime', 'продолжительность в минутах', 'заметки'],\n",
      "  ['id записи', 'id учителя', 'время начала в Unixtime', 'продолжительность в минутах', 'заметки']\n",
      "]\n",
      "||||||||||||||||||||||||||||||||||||||||||||||||||||||||||||||||||||||||||||||||||||||||||||||||||||||||||||||||||||||||||||||||||||||||||||||||||||||||||||||\n",
      "Ресурс QUIZ имеет следующую структуру массива:\n",
      "[\n",
      "  'название ресурса',\n",
      "  ['номер вороса в квизе', 'id вопроса из банка вопросов', 'баллы за правильный ответ'],\n",
      "  ['номер вороса в квизе', 'id вопроса из банка вопросов', 'баллы за правильный ответ']\n",
      "]\n",
      "||||||||||||||||||||||||||||||||||||||||||||||||||||||||||||||||||||||||||||||||||||||||||||||||||||||||||||||||||||||||||||||||||||||||||||||||||||||||||||||\n",
      "\n"
     ]
    }
   ],
   "source": [
    "#all_files_read()\n",
    "print( help() )"
   ]
  }
 ],
 "metadata": {
  "colab": {
   "collapsed_sections": [
    "qHNlpN74kd3b",
    "SliYKrKskoQu"
   ],
   "provenance": []
  },
  "kernelspec": {
   "display_name": "Python 3 (ipykernel)",
   "language": "python",
   "name": "python3"
  },
  "language_info": {
   "codemirror_mode": {
    "name": "ipython",
    "version": 3
   },
   "file_extension": ".py",
   "mimetype": "text/x-python",
   "name": "python",
   "nbconvert_exporter": "python",
   "pygments_lexer": "ipython3",
   "version": "3.12.3"
  }
 },
 "nbformat": 4,
 "nbformat_minor": 4
}
