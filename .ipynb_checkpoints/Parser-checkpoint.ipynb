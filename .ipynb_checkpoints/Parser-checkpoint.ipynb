{
 "cells": [
  {
   "cell_type": "markdown",
   "metadata": {
    "id": "eTHVrO-XDbv6",
    "jp-MarkdownHeadingCollapsed": true
   },
   "source": [
    "# **Парсер для LMS Moodle**"
   ]
  },
  {
   "cell_type": "markdown",
   "metadata": {
    "id": "Q3rpZws1QJBf",
    "jp-MarkdownHeadingCollapsed": true
   },
   "source": [
    "# Базовые функции и библиотеки"
   ]
  },
  {
   "cell_type": "code",
   "execution_count": 1,
   "metadata": {
    "id": "B1inMDi7QvMp"
   },
   "outputs": [],
   "source": [
    "import xml.etree.ElementTree as ET\n",
    "import psycopg2\n",
    "\n",
    "import os\n",
    "import shutil"
   ]
  },
  {
   "cell_type": "markdown",
   "metadata": {},
   "source": [
    "Указываем путь к папке backup"
   ]
  },
  {
   "cell_type": "code",
   "execution_count": 2,
   "metadata": {},
   "outputs": [],
   "source": [
    "def get_path_to_backup_file():\n",
    "    file = r'C:/Users/Eugene/Parser-Moodle/backup/'\n",
    "\n",
    "#get_path_to_backup_file()"
   ]
  },
  {
   "cell_type": "markdown",
   "metadata": {},
   "source": [
    "возврат путей xml файлов"
   ]
  },
  {
   "cell_type": "code",
   "execution_count": 3,
   "metadata": {
    "id": "pVdFzS18DCvo"
   },
   "outputs": [],
   "source": [
    "def activities_directories ():\n",
    "    file = \"backup/moodle_backup.xml\"\n",
    "    direct = []\n",
    "    directory = find_by_tag(file,\"directory\")\n",
    "    modulename = find_by_tag(file,\"modulename\")\n",
    "    for i in range( len(modulename) ):\n",
    "        text_dir = \"backup/\" + directory[i] + \"/\" + modulename[i] + \".xml\"\n",
    "        direct.insert(i, text_dir)\n",
    "    return direct"
   ]
  },
  {
   "cell_type": "markdown",
   "metadata": {},
   "source": [
    "возварт текста по тегу"
   ]
  },
  {
   "cell_type": "code",
   "execution_count": 4,
   "metadata": {},
   "outputs": [],
   "source": [
    "def find_by_tag (file, tag):\n",
    "    tree = ET.parse(file)\n",
    "    root = tree.getroot()\n",
    "    res = \"\"\n",
    "    for text_in_root in root.iter(tag):\n",
    "        res += str(text_in_root.text)\n",
    "        res += \"\\n\"\n",
    "    listRes = list(res.split(\"\\n\"))\n",
    "    listRes.pop( len(listRes)-1 )\n",
    "    return listRes"
   ]
  },
  {
   "cell_type": "markdown",
   "metadata": {},
   "source": [
    "возварт текста по тегу из конкретного вложенного тега"
   ]
  },
  {
   "cell_type": "code",
   "execution_count": 5,
   "metadata": {},
   "outputs": [],
   "source": [
    "def find_by_tag_from_tag (file, where, tag):\n",
    "    tree = ET.parse(file)\n",
    "    root = tree.getroot()\n",
    "    res = \"\"\n",
    "    for text_in_root in tree.findall(\".//\" + where + \"/\" + tag):\n",
    "        res += str(text_in_root.text)\n",
    "        res += \"\\n\"\n",
    "    listRes = list(res.split(\"\\n\"))\n",
    "    listRes.pop( len(listRes)-1 )\n",
    "    return listRes"
   ]
  },
  {
   "cell_type": "markdown",
   "metadata": {},
   "source": [
    "возварт аррибута по тегу"
   ]
  },
  {
   "cell_type": "code",
   "execution_count": 6,
   "metadata": {},
   "outputs": [],
   "source": [
    "def find_ID_attrib_by_tag (file, tag):\n",
    "    tree = ET.parse(file)\n",
    "    root = tree.getroot()\n",
    "    res = \"\"\n",
    "    for text_in_root in root.iter(tag):\n",
    "        symbols_to_remove = \"{}id:' \"\n",
    "        res += remove_symbols(symbols_to_remove, str( text_in_root.attrib ))\n",
    "        res += \"\\n\"\n",
    "    listRes = list(res.split(\"\\n\"))\n",
    "    listRes.pop( len(listRes)-1 )\n",
    "    return listRes"
   ]
  },
  {
   "cell_type": "markdown",
   "metadata": {},
   "source": [
    "возврат всего файла"
   ]
  },
  {
   "cell_type": "code",
   "execution_count": 7,
   "metadata": {},
   "outputs": [],
   "source": [
    "\"\"\"def read_all(file):\n",
    "    tree = ET.parse(file)\n",
    "    s = ET.dump(tree)\n",
    "    return s\"\"\"\n",
    "\n",
    "def read_all(file_path):\n",
    "    try:\n",
    "        with open(file_path, 'r', encoding='utf-8') as file:\n",
    "            data = file.read()\n",
    "            data = remove_symbols('\\n', data)\n",
    "        return data\n",
    "    except FileNotFoundError:\n",
    "        return \"File not found\""
   ]
  },
  {
   "cell_type": "markdown",
   "metadata": {},
   "source": [
    "замена конкретной последовательности символов"
   ]
  },
  {
   "cell_type": "code",
   "execution_count": 8,
   "metadata": {},
   "outputs": [],
   "source": [
    "def replace_symbols(text, old_word, new_word):\n",
    "    new_s = text.replace(old_word, new_word)\n",
    "    return new_s"
   ]
  },
  {
   "cell_type": "markdown",
   "metadata": {},
   "source": [
    "удаление конкретных символов"
   ]
  },
  {
   "cell_type": "code",
   "execution_count": 9,
   "metadata": {},
   "outputs": [],
   "source": [
    "def remove_symbols(symbols_to_remove, text):\n",
    "    for symbol in symbols_to_remove:\n",
    "        text = text.replace(symbol, \"\")\n",
    "    return text"
   ]
  },
  {
   "cell_type": "markdown",
   "metadata": {},
   "source": [
    "удаление последнего символа"
   ]
  },
  {
   "cell_type": "code",
   "execution_count": 10,
   "metadata": {},
   "outputs": [],
   "source": [
    "def remove_last_symbol(text):\n",
    "    result_string = \"\"\n",
    "    index = len(text)\n",
    "    for i in range(index-1):\n",
    "        result_string += text[i]\n",
    "    return result_string"
   ]
  },
  {
   "cell_type": "markdown",
   "metadata": {},
   "source": [
    "удаление символов sql"
   ]
  },
  {
   "cell_type": "code",
   "execution_count": 11,
   "metadata": {},
   "outputs": [],
   "source": [
    "def remove_sql_symbol(text_):\n",
    "    text = str(text_)\n",
    "    symbols_to_remove = \"(, )[]\"\n",
    "    for symbol in symbols_to_remove:\n",
    "        text = text.replace(symbol, \"\")\n",
    "    return text"
   ]
  },
  {
   "cell_type": "markdown",
   "metadata": {},
   "source": [
    "возврат contextid из xml фалов"
   ]
  },
  {
   "cell_type": "code",
   "execution_count": 12,
   "metadata": {},
   "outputs": [],
   "source": [
    "def find_contextid_in_activity(xml_file):\n",
    "    tree = ET.parse(xml_file)\n",
    "    root = tree.getroot()\n",
    "    \n",
    "    contextids = []\n",
    "    \n",
    "    for activity in root.iter('activity'):\n",
    "        contextid = activity.get('contextid')\n",
    "        if contextid is not None:\n",
    "            contextids.append(contextid)\n",
    "    \n",
    "    return contextids\n",
    "\n",
    "#find_contextid_in_activity('backup/activities/resource_6/resource.xml')"
   ]
  },
  {
   "cell_type": "markdown",
   "metadata": {},
   "source": [
    "функция help"
   ]
  },
  {
   "cell_type": "code",
   "execution_count": 13,
   "metadata": {},
   "outputs": [],
   "source": [
    "def help():\n",
    "    stars = \"||||||||||||||||||||||||||||||||||||||||||||||||||||||||||||||||||||||||||||||||||||||||||||||||||||||||||||||||||||||||||||||||||||||||||||||||||||||||||||||\\n\"\n",
    "    res = stars\n",
    "    res += \"Функция all_files_read() считывает все данные файлов, помещенных в папку backup\\n\"\n",
    "    res += \"Общий массив имеет следующую структуру:\\n\"\n",
    "    \n",
    "    res += \"[\\n\"\n",
    "    res += \"  ['названия ресурсов'] в виде строк,\\n\"\n",
    "    res += \"  ['типы ресурсов'] в виде строк,\\n\"\n",
    "    res += \"  ['ссылки на ресурсы'] в виде строк,\\n\"\n",
    "    res += \"    [\\n\"\n",
    "    res += \"      [массив ресурса 1], [массив ресурса 2], [массив ресурса 3]... \\n\"\n",
    "    res += \"    ]\\n\"\n",
    "    res += \"]\\n\"\n",
    "\n",
    "    #res = \"\"\n",
    "    res += stars\n",
    "    res += \"Ресурс PAGE имеет следующую структуру массива:\\n\"\n",
    "    res += \"[\\n\"\n",
    "    res += \"  'название ресурса',\\n\"\n",
    "    res += \"  ['строка 1', 'строка 2', 'строка 3', 'строка 4'...]\\n\"\n",
    "    res += \"]\\n\"\n",
    "\n",
    "    #res = \"\"\n",
    "    res += stars\n",
    "    res += \"Ресурс CHOICE имеет следующую структуру массива:\\n\"\n",
    "    res += \"[\\n\"\n",
    "    res += \"  'название ресурса',\\n\"\n",
    "    res += \"  ['вопрос (строка) 1', 'вопрос 2', 'вопрос 3', 'вопрос 4'...],\\n\"\n",
    "    res += \"  ['ответ (число в виде строки) 1', 'ответ 2', 'ответ 3', 'ответ 4'...]\\n\"\n",
    "    res += \"]\\n\"\n",
    "\n",
    "    #res = \"\"\n",
    "    res += stars\n",
    "    res += \"Ресурс BOOK имеет следующую структуру массива:\\n\"\n",
    "    res += \"[\\n\"\n",
    "    res += \"  'название ресурса',\\n\"\n",
    "    res += \"  ['глава (строка) 1', 'глава 2', 'глава 3'...],\\n\"\n",
    "    res += \"  [\\n\"\n",
    "    res += \"    ['строка главы 1', 'строка главы 1', 'строка главы 1'...], \\n\"\n",
    "    res += \"    ['строка главы 2', 'строка главы 2', 'строка главы 2'...], \\n\"\n",
    "    res += \"    ['строка главы 3', 'строка главы 3', 'строка главы 3'...] \\n\"\n",
    "    res += \"  ]\\n\"\n",
    "    res += \"]\\n\"\n",
    "\n",
    "    #res = \"\"\n",
    "    res += stars\n",
    "    res += \"Ресурс FEEDBACK имеет следующую структуру массива:\\n\"\n",
    "    res += \"[\\n\"\n",
    "    res += \"  'название ресурса',\\n\"\n",
    "    res += \"  ['вопрос 1', 'вопрос 2', 'вопрос 3'...],\\n\"\n",
    "    res += \"  ['вариат ответа на ворос 1', 'вариат ответа на ворос 1', 'вариат ответа на ворос 1'...], \\n\"\n",
    "    res += \"  ['вариат ответа на ворос 2', 'вариат ответа на ворос 2', 'вариат ответа на ворос 2'...], \\n\"\n",
    "    res += \"  ['вариат ответа на ворос 3', 'вариат ответа на ворос 3', 'вариат ответа на ворос 3'...] \\n\"\n",
    "    res += \"]\\n\"\n",
    "\n",
    "    #res = \"\"\n",
    "    res += stars\n",
    "    res += \"Ресурс SURVEY имеет следующую структуру массива:\\n\"\n",
    "    res += \"[\\n\"\n",
    "    res += \"  'название ресурса',\\n\"\n",
    "    res += \"  ['номер вороса из банка вопросов', 'номер вороса из банка вопросов'...]\\n\"\n",
    "    res += \"]\\n\"\n",
    "\n",
    "    #res = \"\"\n",
    "    res += stars\n",
    "    res += \"Ресурс FORUM имеет следующую структуру массива:\\n\"\n",
    "    res += \"[\\n\"\n",
    "    res += \"  'название ресурса',\\n\"\n",
    "    res += \"  ['id комментария', 'id комментария, на который идет ответ', 'id пользователя, оставившего комментарий', 'текст комментария'],\\n\"\n",
    "    res += \"  ['id комментария', 'id комментария, на который идет ответ', 'id пользователя, оставившего комментарий', 'текст комментария']\\n\"\n",
    "    res += \"]\\n\"\n",
    "\n",
    "    #res = \"\"\n",
    "    res += stars\n",
    "    res += \"Ресурс SCHEDULER имеет следующую структуру массива:\\n\"\n",
    "    res += \"[\\n\"\n",
    "    res += \"  'название ресурса',\\n\"\n",
    "    res += \"  ['id записи', 'id учителя', 'время начала в Unixtime', 'продолжительность в минутах', 'заметки'],\\n\"\n",
    "    res += \"  ['id записи', 'id учителя', 'время начала в Unixtime', 'продолжительность в минутах', 'заметки']\\n\"\n",
    "    res += \"]\\n\"\n",
    "\n",
    "    #res = \"\"\n",
    "    res += stars\n",
    "    res += \"Ресурс QUIZ имеет следующую структуру массива:\\n\"\n",
    "    res += \"[\\n\"\n",
    "    res += \"  'название ресурса',\\n\"\n",
    "    res += \"  ['номер вороса в квизе', 'id вопроса из банка вопросов', 'баллы за правильный ответ'],\\n\"\n",
    "    res += \"  ['номер вороса в квизе', 'id вопроса из банка вопросов', 'баллы за правильный ответ']\\n\"\n",
    "    res += \"]\\n\"\n",
    "\n",
    "    res += stars\n",
    "    return res \n",
    "#print( help() )"
   ]
  },
  {
   "cell_type": "markdown",
   "metadata": {
    "jp-MarkdownHeadingCollapsed": true
   },
   "source": [
    "# Функции чтения отдельных XML файлов ресурсов"
   ]
  },
  {
   "cell_type": "markdown",
   "metadata": {},
   "source": [
    "чтение page"
   ]
  },
  {
   "cell_type": "code",
   "execution_count": 84,
   "metadata": {},
   "outputs": [],
   "source": [
    "def page_read (file):\n",
    "    all_content = []\n",
    "    \n",
    "    title = remove_symbols(\"[]'\", str(find_by_tag_from_tag(file, \"page\", \"name\")))\n",
    "    strings_arr = find_by_tag(file, \"content\")\n",
    "\n",
    "    #all_content.append( title )\n",
    "    all_content.append( strings_arr )\n",
    "\n",
    "    new_page = replace_symbols(remove_symbols(\"[]'\", str(all_content)), '>, <', '> <' )\n",
    "    \n",
    "    return new_page\n",
    "\n",
    "#page_read(\"backup/activities/page_3/page.xml\")"
   ]
  },
  {
   "cell_type": "markdown",
   "metadata": {},
   "source": [
    "чтение choice"
   ]
  },
  {
   "cell_type": "code",
   "execution_count": 15,
   "metadata": {},
   "outputs": [],
   "source": [
    "def choice_read (file):\n",
    "    all_content = []\n",
    "    \n",
    "    title = remove_symbols(\"[]'\", str(find_by_tag_from_tag(file, \"choice\", \"name\")))\n",
    "    text = find_by_tag(file, \"text\")\n",
    "    count = find_by_tag(file, \"maxanswers\")\n",
    "\n",
    "    #all_content.append( title )\n",
    "    #all_content.append( text )\n",
    "    #all_content.append( count )\n",
    "    new_choice = remove_symbols(\"[]'\", str(text))\n",
    "    return new_choice\n",
    "\n",
    "#choice_read(\"backup/activities/choice_4/choice.xml\")"
   ]
  },
  {
   "cell_type": "markdown",
   "metadata": {},
   "source": [
    "чтение book"
   ]
  },
  {
   "cell_type": "code",
   "execution_count": 16,
   "metadata": {},
   "outputs": [],
   "source": [
    "def book_read (file):\n",
    "    all_content = []\n",
    "    book_content = []\n",
    "    name = remove_symbols(\"'[]\", str( find_by_tag(file, \"name\") ) )\n",
    "    title = find_by_tag(file, \"title\")\n",
    "\n",
    "    for i in range( len(title) ):\n",
    "        chap = \"chapter[\" + str(i+1) + \"]\"\n",
    "        content = find_by_tag_from_tag(file, chap, \"content\")\n",
    "        book_content.append(content)\n",
    "    \n",
    "    #all_content.append(name)\n",
    "    all_content.append(title)\n",
    "    all_content.append(book_content)\n",
    "\n",
    "    new_content = \"\"\n",
    "    for index in range( len(title) ):\n",
    "        new_content += \"<h1>\"\n",
    "        new_content += str(all_content[0][index])\n",
    "        new_content += \"</h1>\"\n",
    "        new_content += remove_symbols(\"[]'\", str(all_content[1][index]))\n",
    "        \n",
    "    new_content = replace_symbols(new_content, '>, <', '> <' )\n",
    "    new_content = replace_symbols(new_content, '><', '> <' )\n",
    "    \n",
    "    return new_content\n",
    "    \n",
    "#book_read(\"backup/activities/book_9/book.xml\")"
   ]
  },
  {
   "cell_type": "markdown",
   "metadata": {},
   "source": [
    "чтение feedback"
   ]
  },
  {
   "cell_type": "code",
   "execution_count": 17,
   "metadata": {},
   "outputs": [],
   "source": [
    "def feedback_read (file):\n",
    "    all_content = []\n",
    "    new_parts = []\n",
    "    questions = find_by_tag_from_tag(file, \"item\", \"name\")\n",
    "    answers = []\n",
    "    title = remove_symbols(\"[]'\", str(find_by_tag_from_tag(file, \"feedback\", \"name\")))\n",
    "\n",
    "    arr_content = find_by_tag(file, \"presentation\")\n",
    "    str_content = ''.join(arr_content)\n",
    "    parts = str_content.rsplit('>>>>>')\n",
    "    parts.pop(0)\n",
    "\n",
    "    #all_content.append( title )\n",
    "\n",
    "    #убираем последний символ\n",
    "    for i in range ( len(parts) ):\n",
    "        if i != len(parts)-1:\n",
    "            new_parts.append( remove_last_symbol(parts[i]) )\n",
    "        else:\n",
    "            new_parts.append( parts[i] )\n",
    "\n",
    "    questions = replace_symbols(remove_symbols(\"[]'\", str(questions)), '>, <', '> <' )\n",
    "    all_content.append(questions)\n",
    "    \n",
    "    #разделяем строки по разделителям\n",
    "    for i in range ( len(parts) ):\n",
    "        new = new_parts[i].rsplit('|')\n",
    "\n",
    "        new = replace_symbols(remove_symbols(\"'\", str(new)), '>, <', '> <' )\n",
    "        \n",
    "        answers.append(new)\n",
    "\n",
    "    answers = replace_symbols(remove_symbols(\"'\", str(answers)), '>, <', '> <' )\n",
    "    answers = replace_symbols(answers, '[[', '[' )\n",
    "    answers = replace_symbols(answers, ']]', ']' )\n",
    "    all_content.append(answers)\n",
    "    \n",
    "    return all_content\n",
    "    \n",
    "#feedback_read(\"backup/activities/feedback_7/feedback.xml\")[1]"
   ]
  },
  {
   "cell_type": "markdown",
   "metadata": {},
   "source": [
    "чтение survey"
   ]
  },
  {
   "cell_type": "code",
   "execution_count": 18,
   "metadata": {},
   "outputs": [],
   "source": [
    "def survey_read (file):\n",
    "    all_content = []\n",
    "    \n",
    "    questions = find_by_tag(file, \"questions\")\n",
    "    str_content = ''.join(questions)\n",
    "    parts = str_content.rsplit(',')\n",
    "    name = remove_symbols(\"[]'\", str(find_by_tag_from_tag(file, \"survey\", \"name\")))\n",
    "\n",
    "    #all_content.append(name)\n",
    "    all_content.append(parts)\n",
    "\n",
    "    new_survey = remove_symbols(\"[]'\", str(all_content))\n",
    "    \n",
    "    return new_survey\n",
    "#survey_read(\"backup/activities/survey_8/survey.xml\")"
   ]
  },
  {
   "cell_type": "markdown",
   "metadata": {},
   "source": [
    "чтение forum"
   ]
  },
  {
   "cell_type": "code",
   "execution_count": 19,
   "metadata": {},
   "outputs": [],
   "source": [
    "def forum_read (file):\n",
    "    all_content = []\n",
    "    comment = []\n",
    "\n",
    "    forum_title = remove_symbols(\"[]'\", str(find_by_tag_from_tag(file, \"discussion\", \"name\")))\n",
    "\n",
    "    comment_id = find_ID_attrib_by_tag(file, \"post\")\n",
    "    parent = find_by_tag(file, \"parent\")\n",
    "    userid = find_by_tag(file, \"userid\")\n",
    "    message = find_by_tag(file, \"message\")\n",
    "\n",
    "    #all_content.append( forum_title )\n",
    "    \n",
    "    for i in range ( len(find_by_tag(file, \"parent\")) ):\n",
    "        #id комментария // id комментария, на который идет ответ // id пользователя, оставившего комментарий // текст комментария\n",
    "        comment = []\n",
    "        comment.append( comment_id[i] )\n",
    "        comment.append( parent[i] )\n",
    "        comment.append( userid[i] )\n",
    "        comment.append( message[i] )\n",
    "        all_content.append( comment )\n",
    "    \n",
    "    return all_content\n",
    "#forum_read(\"backup/activities/forum_1/forum.xml\")"
   ]
  },
  {
   "cell_type": "markdown",
   "metadata": {},
   "source": [
    "чтение scheduler"
   ]
  },
  {
   "cell_type": "code",
   "execution_count": 20,
   "metadata": {},
   "outputs": [],
   "source": [
    "def scheduler_read (file):\n",
    "    all_content = []\n",
    "    slot = []\n",
    "\n",
    "    name = remove_symbols(\"[]'\", str(find_by_tag_from_tag(file, \"scheduler\", \"name\")))\n",
    "    slot_id = find_ID_attrib_by_tag(file, \"slot\")\n",
    "    teacherid = find_by_tag(file, \"teacherid\")\n",
    "    start_time = find_by_tag(file, \"starttime\")\n",
    "    duration = find_by_tag(file, \"duration\")\n",
    "    notes = find_by_tag(file, \"notes\")\n",
    "\n",
    "    #all_content.append( name )\n",
    "\n",
    "    for i in range( len(slot_id) ):\n",
    "        #id записи // id учителя // время начала в Unixtime  // продолжительность в минутах // заметки\n",
    "        slot = []\n",
    "        slot.append( slot_id[i] )\n",
    "        slot.append( teacherid[i] )\n",
    "        slot.append( start_time[i] )\n",
    "        slot.append( duration[i] )\n",
    "        slot.append( notes[i] )\n",
    "\n",
    "        all_content.append( slot )\n",
    "\n",
    "    #new_scheduler = replace_symbols(remove_symbols(\"[]'\", str(all_content)), '>, <', '> <' )\n",
    "    \n",
    "    return all_content\n",
    "#scheduler_read(\"backup/activities/scheduler_5/scheduler.xml\")"
   ]
  },
  {
   "cell_type": "markdown",
   "metadata": {},
   "source": [
    "чтение quiz"
   ]
  },
  {
   "cell_type": "code",
   "execution_count": 21,
   "metadata": {},
   "outputs": [],
   "source": [
    "def quiz_read (file):\n",
    "    all_content = []\n",
    "    slot = []\n",
    "\n",
    "    name = remove_symbols(\"[]'\", str(find_by_tag_from_tag(file, \"quiz\", \"name\")))\n",
    "    question_instance = find_ID_attrib_by_tag(file, \"question_instance\")\n",
    "    questionbankentryid = find_by_tag(file, \"questionbankentryid\")\n",
    "    maxmark = find_by_tag(file, \"maxmark\")\n",
    "\n",
    "    #all_content.append( name )\n",
    "    \n",
    "    for i in range( len(question_instance) ):\n",
    "        #номер вороса в квизе // id вопроса из банка вопросов // баллы за правильный ответ\n",
    "        slot = []\n",
    "        #slot.append( question_instance[i] )\n",
    "        slot.append( questionbankentryid[i] )\n",
    "        #slot.append( maxmark[i] )\n",
    "\n",
    "        all_content.append( slot )\n",
    "\n",
    "        new_quiz = remove_symbols(\"[]'\", str(all_content))\n",
    "    \n",
    "    return new_quiz\n",
    "#quiz_read(\"backup/activities/quiz_12/quiz.xml\")"
   ]
  },
  {
   "cell_type": "markdown",
   "metadata": {},
   "source": [
    "чтение glossary"
   ]
  },
  {
   "cell_type": "code",
   "execution_count": 126,
   "metadata": {},
   "outputs": [],
   "source": [
    "def glossary_read (file):\n",
    "    all_content = []\n",
    "    slot = []\n",
    "    \n",
    "    concept = find_by_tag_from_tag(file, \"entry\", \"concept\")\n",
    "    definition = []\n",
    "    #definition = find_by_tag_from_tag(file, \"entry\", \"definition\")\n",
    "\n",
    "    tree = ET.parse(file)\n",
    "    root = tree.getroot()\n",
    "    \n",
    "    for elem in root.iter('definition'):\n",
    "        text = elem.text\n",
    "        text = text.replace('\\n', ' ')  # заменяем символ переноса строки на пробел\n",
    "        definition.append( text )\n",
    "\n",
    "    for index in range( len(concept) ):\n",
    "        slot = []\n",
    "        slot.append( concept[index] )\n",
    "        slot.append( definition[index] )\n",
    "        all_content.append( slot )\n",
    "\n",
    "    return all_content\n",
    "\n",
    "#glossary_read(\"backup/activities/glossary_26/glossary.xml\")[2]"
   ]
  },
  {
   "cell_type": "markdown",
   "metadata": {},
   "source": [
    "чтение банка воросов"
   ]
  },
  {
   "cell_type": "code",
   "execution_count": 23,
   "metadata": {},
   "outputs": [
    {
     "data": {
      "text/plain": [
       "'\\n# чтение банка воросов\\ndef bank_questions_read (file):\\n    all_conntant = []\\n    name = find_by_tag_from_tag(file, \"question\", \"name\")\\n    questiontext = find_by_tag_from_tag(file, \"question\", \"questiontext\")\\n    question_id = find_ID_attrib_by_tag(file, \"question\")\\n\\n    for i in range( len(name) ):\\n        content = []\\n        content.append(question_id[i])\\n        content.append(name[i])\\n        content.append(questiontext[i])\\n        all_conntant.append(content)\\n    \\n    return all_conntant\\n\\n#bank_questions_read(\"backup/questions.xml\\n'"
      ]
     },
     "execution_count": 23,
     "metadata": {},
     "output_type": "execute_result"
    }
   ],
   "source": [
    "\"\"\"\n",
    "# чтение банка воросов\n",
    "def bank_questions_read (file):\n",
    "    all_conntant = []\n",
    "    name = find_by_tag_from_tag(file, \"question\", \"name\")\n",
    "    questiontext = find_by_tag_from_tag(file, \"question\", \"questiontext\")\n",
    "    question_id = find_ID_attrib_by_tag(file, \"question\")\n",
    "\n",
    "    for i in range( len(name) ):\n",
    "        content = []\n",
    "        content.append(question_id[i])\n",
    "        content.append(name[i])\n",
    "        content.append(questiontext[i])\n",
    "        all_conntant.append(content)\n",
    "    \n",
    "    return all_conntant\n",
    "\n",
    "#bank_questions_read(\"backup/questions.xml\n",
    "\"\"\""
   ]
  },
  {
   "cell_type": "markdown",
   "metadata": {
    "jp-MarkdownHeadingCollapsed": true
   },
   "source": [
    "# Функции чтения всех файлов"
   ]
  },
  {
   "cell_type": "markdown",
   "metadata": {},
   "source": [
    "чтение всех видов файлов"
   ]
  },
  {
   "cell_type": "code",
   "execution_count": 24,
   "metadata": {},
   "outputs": [],
   "source": [
    "def read_file (file):\n",
    "    s = file\n",
    "    parts = s.rsplit('/')\n",
    "    res = parts[3]\n",
    "    \n",
    "    if res == \"page.xml\" :\n",
    "        return page_read (file)\n",
    "    elif res == \"choice.xml\" :\n",
    "        return choice_read (file)\n",
    "    elif res == \"book.xml\" :\n",
    "        return book_read (file)\n",
    "    elif res == \"feedback.xml\" :\n",
    "        return feedback_read (file)\n",
    "    elif res == \"survey.xml\" :\n",
    "        return survey_read (file)\n",
    "    elif res == \"forum.xml\" :\n",
    "        return forum_read (file)\n",
    "    elif res == \"scheduler.xml\" :\n",
    "        return scheduler_read (file)\n",
    "    elif res == \"quiz.xml\" :\n",
    "        return quiz_read (file)\n",
    "    elif res == \"glossary.xml\" :\n",
    "        return glossary_read (file)"
   ]
  },
  {
   "cell_type": "markdown",
   "metadata": {},
   "source": [
    "чтение всего backup файла"
   ]
  },
  {
   "cell_type": "code",
   "execution_count": 25,
   "metadata": {},
   "outputs": [],
   "source": [
    "def all_files_read ():\n",
    "    all_content = []\n",
    "    titles = find_by_tag_from_tag(\"backup/moodle_backup.xml\", \"activity\", \"title\")\n",
    "    types = find_by_tag(\"backup/moodle_backup.xml\", \"modulename\")\n",
    "    ids = find_by_tag(\"backup/moodle_backup.xml\", \"moduleid\")\n",
    "    #urls = []\n",
    "    #contents = []\n",
    "    dirs = activities_directories()\n",
    "    \n",
    "    for i in range ( len(dirs) ):\n",
    "        file = []\n",
    "        urls = \"\"\n",
    "        \n",
    "        contents = read_file(dirs[i])\n",
    "        orig_url = str( find_by_tag(\"backup/moodle_backup.xml\", \"original_wwwroot\") )\n",
    "\n",
    "        #формирование ссылки\n",
    "        symbols_to_remove = \" '[] \"\n",
    "        orig_url = remove_symbols(symbols_to_remove, orig_url)\n",
    "        urls = orig_url + \"/mod/\" + types[i] + \"/view.php\" +  \"?id=\" + ids[i]\n",
    "\n",
    "        file.append( urls )\n",
    "        file.append( dirs[i] )\n",
    "        file.append( types[i] )\n",
    "        file.append( titles[i] )\n",
    "        file.append( contents )\n",
    "        contextid = find_contextid_in_activity(dirs[i])[0]\n",
    "        file.append( contextid )\n",
    "        file.append( i+1 )\n",
    "        all_content.append( file )\n",
    "\n",
    "    #all_content.append(titles)\n",
    "    #all_content.append(types)\n",
    "    #all_content.append(urls)\n",
    "    #all_content.append(contents)\n",
    "    return all_content\n",
    "\n",
    "#all_files_read()[5]"
   ]
  },
  {
   "cell_type": "markdown",
   "metadata": {
    "jp-MarkdownHeadingCollapsed": true
   },
   "source": [
    "# Работа с файлами"
   ]
  },
  {
   "cell_type": "markdown",
   "metadata": {},
   "source": [
    "чтение информации о файлах"
   ]
  },
  {
   "cell_type": "code",
   "execution_count": 26,
   "metadata": {},
   "outputs": [],
   "source": [
    "def files_read (file):\n",
    "    all_content = []\n",
    "    slot = []\n",
    "\n",
    "    contenthash = find_by_tag(file, \"contenthash\")\n",
    "    filename = find_by_tag(file, \"filename\")\n",
    "    contextid = find_by_tag(file, \"contextid\")\n",
    "\n",
    "    for i in range( len(contenthash) ):\n",
    "        if filename[i] != '.':\n",
    "            resource_id = ''\n",
    "            for j in range ( len(all_files_read()) ):\n",
    "                if contextid[i] == all_files_read()[j][5]:\n",
    "                    resource_id = j+1\n",
    "                \n",
    "            slot = []\n",
    "            slot.append( contenthash[i] )\n",
    "            slot.append( filename[i] )\n",
    "            #slot.append( contextid[i] )\n",
    "            slot.append( resource_id )\n",
    "    \n",
    "            all_content.append( slot )\n",
    "    \n",
    "    return all_content\n",
    "    \n",
    "#files_read(\"backup/files.xml\")\n",
    "#all_files_read()[5]"
   ]
  },
  {
   "cell_type": "markdown",
   "metadata": {},
   "source": [
    "вывод информации о файлах"
   ]
  },
  {
   "cell_type": "code",
   "execution_count": 27,
   "metadata": {},
   "outputs": [],
   "source": [
    "def files_creation_and_information():\n",
    "    # Функция для переименования и копирования файлов\n",
    "    def rename_and_copy_files(file_info):\n",
    "        new_files_info = []\n",
    "        for info in file_info:\n",
    "            initial_name = info[0]\n",
    "            new_name = info[1]\n",
    "            additional_info = info[2]\n",
    "    \n",
    "            for root, dirs, files in os.walk('backup/files'):\n",
    "                for file in files:\n",
    "                    if file == initial_name:\n",
    "                        source_path = os.path.join(root, file)\n",
    "                        destination_path = os.path.join('backup/new_files', new_name)\n",
    "    \n",
    "                        shutil.copy2(source_path, destination_path)\n",
    "                        new_files_info.append([destination_path, additional_info])\n",
    "    \n",
    "        return new_files_info\n",
    "    \n",
    "    # Массив со структурой [начальное название файла, новое название файла, дополнительная информация о файле]\n",
    "    file_info = files_read(\"backup/files.xml\")\n",
    "    \n",
    "    # Проверяем, что папка new_files существует, если нет - создаем\n",
    "    if not os.path.exists('backup/new_files'):\n",
    "        os.makedirs('backup/new_files')\n",
    "    \n",
    "    # Вызываем функцию и сохраняем результат\n",
    "    new_files_info = rename_and_copy_files(file_info)\n",
    "    \n",
    "    # Выводим результат\n",
    "    return new_files_info\n",
    "\n",
    "#files_creation_and_information()"
   ]
  },
  {
   "cell_type": "markdown",
   "metadata": {
    "jp-MarkdownHeadingCollapsed": true
   },
   "source": [
    "# Базовые функции для работы с БД"
   ]
  },
  {
   "cell_type": "markdown",
   "metadata": {},
   "source": [
    "данные для авторизации в БД"
   ]
  },
  {
   "cell_type": "code",
   "execution_count": 28,
   "metadata": {},
   "outputs": [],
   "source": [
    "#from config import host, user, password, db_name\n",
    "host = \"127.0.0.1\"\n",
    "user = \"postgres\"\n",
    "password = \"qwerty\"\n",
    "db_name = \"test\""
   ]
  },
  {
   "cell_type": "markdown",
   "metadata": {},
   "source": [
    "функция для SQL запросов"
   ]
  },
  {
   "cell_type": "code",
   "execution_count": 29,
   "metadata": {},
   "outputs": [],
   "source": [
    "#функция для SQL запросов\n",
    "def sql(SQL_text):\n",
    "    try:\n",
    "        # connect to exist database\n",
    "        connection = psycopg2.connect(\n",
    "            host=host,\n",
    "            user=user,\n",
    "            password=password,\n",
    "            database=db_name    \n",
    "        )\n",
    "        connection.autocommit = True\n",
    "        \n",
    "        # the cursor for perfoming database operations\n",
    "        # cursor = connection.cursor()\n",
    "        \n",
    "        with connection.cursor() as cursor:\n",
    "            cursor.execute(\n",
    "                \"SELECT version();\"\n",
    "            )\n",
    "            #print(f\"Server version: {cursor.fetchone()}\")\n",
    "            res = cursor.fetchall()\n",
    "            \n",
    "        # create a new table\n",
    "        with connection.cursor() as cursor:\n",
    "             cursor.execute( SQL_text )\n",
    "             res = cursor.fetchall()\n",
    "            \n",
    "             #connection.commit()\n",
    "             #print(\"[INFO] Successfully\")\n",
    "        \n",
    "    except Exception as _ex:\n",
    "        #Error while working with PostgreSQL\n",
    "        print(\"[INFO] \", _ex)\n",
    "    finally:\n",
    "        if connection:\n",
    "            # cursor.close()\n",
    "            connection.close()\n",
    "            #print(\"[INFO] PostgreSQL connection closed\")\n",
    "    return res"
   ]
  },
  {
   "cell_type": "markdown",
   "metadata": {},
   "source": [
    "функция для просмотра содержимого таблиц"
   ]
  },
  {
   "cell_type": "code",
   "execution_count": 30,
   "metadata": {},
   "outputs": [],
   "source": [
    "def show_tables(host, user, password, db_name):\n",
    "    conn = psycopg2.connect(\n",
    "        host=host,\n",
    "        user=user,\n",
    "        password=password,\n",
    "        dbname=db_name\n",
    "    )\n",
    "    cur = conn.cursor()\n",
    "\n",
    "    cur.execute(\"SELECT table_name FROM information_schema.tables WHERE table_schema='public';\")\n",
    "    tables = cur.fetchall()\n",
    "\n",
    "    for table in tables:\n",
    "        table_name = table[0]\n",
    "        print(f\"Table: {table_name}\")\n",
    "        cur.execute(f\"SELECT * FROM {table_name};\")\n",
    "        rows = cur.fetchall()\n",
    "        for row in rows:\n",
    "            print(row)\n",
    "\n",
    "        print('\\n')\n",
    "\n",
    "    conn.close()\n",
    "    \n",
    "#show_tables(host, user, password, db_name)"
   ]
  },
  {
   "cell_type": "markdown",
   "metadata": {},
   "source": [
    "функция удаления всех таблиц"
   ]
  },
  {
   "cell_type": "code",
   "execution_count": 31,
   "metadata": {},
   "outputs": [],
   "source": [
    "def delete_all_tables():\n",
    "    # Устанавливаем соединение с базой данных\n",
    "    conn = psycopg2.connect(\n",
    "        host=host,\n",
    "        user=user,\n",
    "        password=password,\n",
    "        database=db_name\n",
    "    )\n",
    "    cur = conn.cursor()\n",
    "\n",
    "    # Получаем список всех таблиц в базе данных\n",
    "    cur.execute(\"SELECT table_name FROM information_schema.tables WHERE table_schema='public'\")\n",
    "    tables = [table[0] for table in cur.fetchall()]\n",
    "\n",
    "    # Удаляем каждую таблицу из списка\n",
    "    for table in tables:\n",
    "        cur.execute(f\"DROP TABLE IF EXISTS {table} CASCADE\")\n",
    "\n",
    "    conn.commit()\n",
    "    conn.close()\n",
    "\n",
    "\n",
    "#delete_all_tables()"
   ]
  },
  {
   "cell_type": "markdown",
   "metadata": {
    "jp-MarkdownHeadingCollapsed": true
   },
   "source": [
    "# Создание таблиц"
   ]
  },
  {
   "cell_type": "code",
   "execution_count": 32,
   "metadata": {},
   "outputs": [],
   "source": [
    "def get_schema_name():\n",
    "    schema_name = \"edu.\"\n",
    "    return schema_name\n",
    "\n",
    "SN = get_schema_name()"
   ]
  },
  {
   "cell_type": "code",
   "execution_count": 33,
   "metadata": {},
   "outputs": [],
   "source": [
    "def creation_main_tables( create_or_drop ):\n",
    "    \n",
    "    create = \"\"\"\n",
    "    -- edu.file_type определение\n",
    "    \n",
    "    -- Drop table\n",
    "    \n",
    "    -- DROP TABLE edu.file_type;\n",
    "    \n",
    "    CREATE TABLE edu.file_type (\n",
    "    \tid serial4 NOT NULL,\n",
    "    \t\"name\" varchar NULL,\n",
    "    \t\"extension\" varchar NULL,\n",
    "    \tCONSTRAINT file_type_pk PRIMARY KEY (id)\n",
    "    );\n",
    "    \n",
    "    \n",
    "    -- edu.lms определение\n",
    "    \n",
    "    -- Drop table\n",
    "    \n",
    "    -- DROP TABLE edu.lms;\n",
    "    \n",
    "    CREATE TABLE edu.lms (\n",
    "    \tid serial4 NOT NULL,\n",
    "    \t\"name\" varchar NOT NULL,\n",
    "    \tCONSTRAINT lms_pk PRIMARY KEY (id)\n",
    "    );\n",
    "    \n",
    "    \n",
    "    -- edu.lms_resource_type определение\n",
    "    \n",
    "    -- Drop table\n",
    "    \n",
    "    -- DROP TABLE edu.lms_resource_type;\n",
    "    \n",
    "    CREATE TABLE edu.lms_resource_type (\n",
    "    \tid serial4 NOT NULL,\n",
    "    \t\"name\" varchar NOT NULL,\n",
    "    \tCONSTRAINT lms_resource_type_pk PRIMARY KEY (id)\n",
    "    );\n",
    "    \n",
    "    \n",
    "    -- edu.resource определение\n",
    "    \n",
    "    -- Drop table\n",
    "    \n",
    "    -- DROP TABLE edu.resource;\n",
    "    \n",
    "    CREATE TABLE edu.resource (\n",
    "    \tid bigserial NOT NULL,\n",
    "    \turl varchar NULL,\n",
    "    \t\"name\" varchar NULL,\n",
    "    \tdescription text NULL,\n",
    "    \ttags json NULL,\n",
    "    \tCONSTRAINT edu_resource_pk PRIMARY KEY (id)\n",
    "    );\n",
    "    \n",
    "    \n",
    "    -- edu.comment_resource определение\n",
    "    \n",
    "    -- Drop table\n",
    "    \n",
    "    -- DROP TABLE edu.comment_resource;\n",
    "    \n",
    "    CREATE TABLE edu.comment_resource (\n",
    "    \tid bigserial NOT NULL,\n",
    "    \treplied_comment_id int8 NULL,\n",
    "    \tuser_id int8 NOT NULL,\n",
    "    \t\"text\" text NULL,\n",
    "    \tresource_id int8 NOT NULL,\n",
    "    \tCONSTRAINT comment_resource_pk PRIMARY KEY (id),\n",
    "    \tCONSTRAINT comment_resource_resource_fk FOREIGN KEY (resource_id) REFERENCES edu.resource(id) ON DELETE RESTRICT ON UPDATE CASCADE\n",
    "    );\n",
    "    \n",
    "    \n",
    "    -- edu.edu_announcment определение\n",
    "    \n",
    "    -- Drop table\n",
    "    \n",
    "    -- DROP TABLE edu.edu_announcment;\n",
    "    \n",
    "    CREATE TABLE edu.edu_announcment (\n",
    "    \tid bigserial NOT NULL,\n",
    "    \t\"name\" varchar NULL,\n",
    "    \tresource_id int8 NOT NULL,\n",
    "    \tCONSTRAINT edu_announcment_pk PRIMARY KEY (id),\n",
    "    \tCONSTRAINT edu_announcment_fk FOREIGN KEY (resource_id) REFERENCES edu.resource(id) ON DELETE CASCADE ON UPDATE CASCADE\n",
    "    );\n",
    "    \n",
    "    \n",
    "    -- edu.edu_discussion определение\n",
    "    \n",
    "    -- Drop table\n",
    "    \n",
    "    -- DROP TABLE edu.edu_discussion;\n",
    "    \n",
    "    CREATE TABLE edu.edu_discussion (\n",
    "    \tid bigserial NOT NULL,\n",
    "    \t\"name\" varchar NULL,\n",
    "    \tresource_id int8 NOT NULL,\n",
    "    \tCONSTRAINT edu_discussion_pk PRIMARY KEY (id),\n",
    "    \tCONSTRAINT edu_discussion_resource_fk FOREIGN KEY (resource_id) REFERENCES edu.resource(id) ON DELETE RESTRICT ON UPDATE CASCADE\n",
    "    );\n",
    "    \n",
    "    \n",
    "    -- edu.edu_lab_report определение\n",
    "    \n",
    "    -- Drop table\n",
    "    \n",
    "    -- DROP TABLE edu.edu_lab_report;\n",
    "    \n",
    "    CREATE TABLE edu.edu_lab_report (\n",
    "    \tid bigserial NOT NULL,\n",
    "    \tresource_id int8 NOT NULL,\n",
    "    \tCONSTRAINT edu_lab_report_pk PRIMARY KEY (id),\n",
    "    \tCONSTRAINT edu_lab_report_fk FOREIGN KEY (resource_id) REFERENCES edu.resource(id) ON DELETE CASCADE ON UPDATE CASCADE\n",
    "    );\n",
    "    \n",
    "    \n",
    "    -- edu.edu_resource_lecture определение\n",
    "    \n",
    "    -- Drop table\n",
    "    \n",
    "    -- DROP TABLE edu.edu_resource_lecture;\n",
    "    \n",
    "    CREATE TABLE edu.edu_resource_lecture (\n",
    "    \tid bigserial NOT NULL,\n",
    "    \t\"name\" text NULL,\n",
    "    \tresource_id int8 NOT NULL,\n",
    "    \tsummary text NULL,\n",
    "    \tCONSTRAINT edu_resource_lecture_pk PRIMARY KEY (id),\n",
    "    \tCONSTRAINT edu_resource_lecture_fk FOREIGN KEY (resource_id) REFERENCES edu.resource(id) ON DELETE CASCADE ON UPDATE CASCADE\n",
    "    );\n",
    "    \n",
    "    \n",
    "    -- edu.edu_survey определение\n",
    "    \n",
    "    -- Drop table\n",
    "    \n",
    "    -- DROP TABLE edu.edu_survey;\n",
    "    \n",
    "    CREATE TABLE edu.edu_survey (\n",
    "    \tid bigserial NOT NULL,\n",
    "    \t\"name\" varchar NULL,\n",
    "    \tresource_id int8 NOT NULL,\n",
    "    \tCONSTRAINT edu_survey_pk PRIMARY KEY (id),\n",
    "    \tCONSTRAINT edu_survey_resource_fk FOREIGN KEY (resource_id) REFERENCES edu.resource(id) ON DELETE RESTRICT ON UPDATE CASCADE\n",
    "    );\n",
    "    \n",
    "    \n",
    "    -- edu.edu_term определение\n",
    "    \n",
    "    -- Drop table\n",
    "    \n",
    "    -- DROP TABLE edu.edu_term;\n",
    "    \n",
    "    CREATE TABLE edu.edu_term (\n",
    "    \tid bigserial NOT NULL,\n",
    "    \t\"name\" varchar NULL,\n",
    "    \t\"text\" text NULL,\n",
    "    \tresource_id int8 NOT NULL,\n",
    "    \tCONSTRAINT edu_term_pk PRIMARY KEY (id),\n",
    "    \tCONSTRAINT edu_term_fk FOREIGN KEY (resource_id) REFERENCES edu.resource(id) ON DELETE CASCADE ON UPDATE CASCADE\n",
    "    );\n",
    "    \n",
    "    \n",
    "    -- edu.edu_test определение\n",
    "    \n",
    "    -- Drop table\n",
    "    \n",
    "    -- DROP TABLE edu.edu_test;\n",
    "    \n",
    "    CREATE TABLE edu.edu_test (\n",
    "    \tid bigserial NOT NULL,\n",
    "    \t\"name\" varchar NULL,\n",
    "    \tresource_id int8 NOT NULL,\n",
    "    \tCONSTRAINT edu_text_pk PRIMARY KEY (id),\n",
    "    \tCONSTRAINT edu_text_resource_fk FOREIGN KEY (resource_id) REFERENCES edu.resource(id) ON DELETE RESTRICT ON UPDATE CASCADE\n",
    "    );\n",
    "    \n",
    "    \n",
    "    -- edu.edu_theme определение\n",
    "    \n",
    "    -- Drop table\n",
    "    \n",
    "    -- DROP TABLE edu.edu_theme;\n",
    "    \n",
    "    CREATE TABLE edu.edu_theme (\n",
    "    \tid bigserial NOT NULL,\n",
    "    \tresource_id int8 NOT NULL,\n",
    "    \t\"name\" text NULL,\n",
    "    \tCONSTRAINT edu_theme_pk PRIMARY KEY (id),\n",
    "    \tCONSTRAINT edu_theme_fk FOREIGN KEY (resource_id) REFERENCES edu.resource(id) ON DELETE CASCADE ON UPDATE CASCADE\n",
    "    );\n",
    "    \n",
    "    \n",
    "    -- edu.file_resource_description определение\n",
    "    \n",
    "    -- Drop table\n",
    "    \n",
    "    -- DROP TABLE edu.file_resource_description;\n",
    "    \n",
    "    CREATE TABLE edu.file_resource_description (\n",
    "    \tid bigserial NOT NULL,\n",
    "    \ttype_id int4 NULL,\n",
    "    \t\"name\" varchar NOT NULL,\n",
    "    \tresource_id int8 NULL,\n",
    "    \t\"path\" varchar NOT NULL,\n",
    "    \tCONSTRAINT file_resource_description_pk PRIMARY KEY (id),\n",
    "    \tCONSTRAINT file_resource_description_fk FOREIGN KEY (type_id) REFERENCES edu.file_type(id) ON DELETE RESTRICT ON UPDATE CASCADE,\n",
    "    \tCONSTRAINT file_resource_description_fk_2 FOREIGN KEY (resource_id) REFERENCES edu.resource(id) ON DELETE CASCADE ON UPDATE CASCADE\n",
    "    );\n",
    "    \n",
    "    \n",
    "    -- edu.html_resource определение\n",
    "    \n",
    "    -- Drop table\n",
    "    \n",
    "    -- DROP TABLE edu.html_resource;\n",
    "    \n",
    "    CREATE TABLE edu.html_resource (\n",
    "    \tid bigserial NOT NULL,\n",
    "    \thtml text NULL,\n",
    "    \tresource_id int8 NOT NULL,\n",
    "    \tCONSTRAINT html_resource1_pk PRIMARY KEY (id),\n",
    "    \tCONSTRAINT html_resource_resource_fk FOREIGN KEY (resource_id) REFERENCES edu.resource(id) ON DELETE RESTRICT ON UPDATE RESTRICT\n",
    "    );\n",
    "    \n",
    "    \n",
    "    -- edu.lms_resource определение\n",
    "    \n",
    "    -- Drop table\n",
    "    \n",
    "    -- DROP TABLE edu.lms_resource;\n",
    "    \n",
    "    CREATE TABLE edu.lms_resource (\n",
    "    \tid bigserial NOT NULL,\n",
    "    \taccess_rights xml NULL,\n",
    "    \tmodule_config xml NULL,\n",
    "    \tview_config xml NULL,\n",
    "    \tresource_id int8 NOT NULL,\n",
    "    \tCONSTRAINT lms_resource_pk PRIMARY KEY (id),\n",
    "    \tCONSTRAINT lms_resource_fk FOREIGN KEY (resource_id) REFERENCES edu.resource(id) ON DELETE CASCADE ON UPDATE CASCADE\n",
    "    );\n",
    "    \n",
    "    \n",
    "    -- edu.original_lms_resource определение\n",
    "    \n",
    "    -- Drop table\n",
    "    \n",
    "    -- DROP TABLE edu.original_lms_resource;\n",
    "    \n",
    "    CREATE TABLE edu.original_lms_resource (\n",
    "    \tid bigserial NOT NULL,\n",
    "    \ttype_id int8 NULL,\n",
    "    \tplatform_id int8 NULL,\n",
    "    \t\"content\" text NULL,\n",
    "    \tresource_id int8 NULL,\n",
    "    \tCONSTRAINT original_lms_resource_pk PRIMARY KEY (id),\n",
    "    \tCONSTRAINT original_lms_resource_lms_fk FOREIGN KEY (platform_id) REFERENCES edu.lms(id) ON DELETE RESTRICT ON UPDATE CASCADE,\n",
    "    \tCONSTRAINT original_lms_resource_lms_resource_type_fk FOREIGN KEY (type_id) REFERENCES edu.lms_resource_type(id) ON DELETE RESTRICT ON UPDATE CASCADE,\n",
    "    \tCONSTRAINT original_lms_resource_resource_fk FOREIGN KEY (resource_id) REFERENCES edu.resource(id) ON DELETE RESTRICT ON UPDATE CASCADE\n",
    "    );\n",
    "    \n",
    "    \n",
    "    -- edu.questions_resource определение\n",
    "    \n",
    "    -- Drop table\n",
    "    \n",
    "    -- DROP TABLE edu.questions_resource;\n",
    "    \n",
    "    CREATE TABLE edu.questions_resource (\n",
    "    \tid bigserial NOT NULL,\n",
    "    \tquestions text NULL,\n",
    "    \tanswers text NULL,\n",
    "    \tresource_id int8 NOT NULL,\n",
    "    \tCONSTRAINT questions_resource_pk PRIMARY KEY (id),\n",
    "    \tCONSTRAINT questions_resource_resource_fk FOREIGN KEY (resource_id) REFERENCES edu.resource(id) ON DELETE RESTRICT ON UPDATE CASCADE\n",
    "    );\n",
    "    \n",
    "    \n",
    "    -- edu.resource_relations определение\n",
    "    \n",
    "    -- Drop table\n",
    "    \n",
    "    -- DROP TABLE edu.resource_relations;\n",
    "    \n",
    "    CREATE TABLE edu.resource_relations (\n",
    "    \tid bigserial NOT NULL,\n",
    "    \tresource_one_id int8 NOT NULL,\n",
    "    \tresource_two_id int8 NOT NULL,\n",
    "    \tCONSTRAINT resource_relations_pk PRIMARY KEY (id),\n",
    "    \tCONSTRAINT resource_relations_fk FOREIGN KEY (resource_one_id) REFERENCES edu.resource(id) ON DELETE RESTRICT ON UPDATE CASCADE,\n",
    "    \tCONSTRAINT resource_relations_fk_1 FOREIGN KEY (resource_two_id) REFERENCES edu.resource(id) ON DELETE RESTRICT ON UPDATE CASCADE\n",
    "    );\n",
    "    \n",
    "    \n",
    "    -- edu.schedule_resource определение\n",
    "    \n",
    "    -- Drop table\n",
    "    \n",
    "    -- DROP TABLE edu.schedule_resource;\n",
    "    \n",
    "    CREATE TABLE edu.schedule_resource (\n",
    "    \tid bigserial NOT NULL,\n",
    "    \tteacher_id int8 NOT NULL,\n",
    "    \tstart_time int8 NOT NULL,\n",
    "    \tduration int8 NULL,\n",
    "    \tnotes text NULL,\n",
    "    \tresource_id int8 NOT NULL,\n",
    "    \tCONSTRAINT schedule_resource_pk PRIMARY KEY (id),\n",
    "    \tCONSTRAINT schedule_resource_resource_fk FOREIGN KEY (resource_id) REFERENCES edu.resource(id) ON DELETE RESTRICT ON UPDATE CASCADE\n",
    "    );\n",
    "    \n",
    "    \n",
    "    -- edu.video_resource_description определение\n",
    "    \n",
    "    -- Drop table\n",
    "    \n",
    "    -- DROP TABLE edu.video_resource_description;\n",
    "    \n",
    "    CREATE TABLE edu.video_resource_description (\n",
    "    \tid bigserial NOT NULL,\n",
    "    \t\"name\" varchar NULL,\n",
    "    \turl varchar NULL,\n",
    "    \tduration int8 NULL,\n",
    "    \tresource_id int8 NULL,\n",
    "    \tauthor varchar NULL,\n",
    "    \tCONSTRAINT video_resource_description_pk PRIMARY KEY (id),\n",
    "    \tCONSTRAINT video_resource_description_resource_fk FOREIGN KEY (resource_id) REFERENCES edu.resource(id) ON DELETE RESTRICT ON UPDATE CASCADE\n",
    "    );\n",
    "    \"\"\"\n",
    "    \n",
    "    drop = \"\"\"\n",
    "    DROP TABLE IF EXISTS edu.file_type CASCADE;\n",
    "    DROP TABLE IF EXISTS edu.lms CASCADE;\n",
    "    DROP TABLE IF EXISTS edu.lms_resource_type CASCADE;\n",
    "    DROP TABLE IF EXISTS edu.resource CASCADE;\n",
    "    DROP TABLE IF EXISTS edu.edu_announcment CASCADE;\n",
    "    DROP TABLE IF EXISTS edu.edu_lab_report CASCADE;\n",
    "    DROP TABLE IF EXISTS edu.edu_resource_lecture CASCADE;\n",
    "    DROP TABLE IF EXISTS edu.edu_term CASCADE;\n",
    "    DROP TABLE IF EXISTS edu.edu_theme CASCADE;\n",
    "    DROP TABLE IF EXISTS edu.file_resource_description CASCADE;\n",
    "    DROP TABLE IF EXISTS edu.html_resource CASCADE;\n",
    "    DROP TABLE IF EXISTS edu.lms_resource CASCADE;\n",
    "    DROP TABLE IF EXISTS edu.original_lms_resource CASCADE;\n",
    "    DROP TABLE IF EXISTS edu.resource_relations CASCADE;\n",
    "    DROP TABLE IF EXISTS edu.video_resource_description CASCADE;\n",
    "\n",
    "    DROP TABLE IF EXISTS edu.edu_discussion CASCADE;\n",
    "    DROP TABLE IF EXISTS edu.comment_resource CASCADE;\n",
    "    DROP TABLE IF EXISTS edu.edu_test CASCADE;\n",
    "    DROP TABLE IF EXISTS edu.edu_survey CASCADE;\n",
    "    DROP TABLE IF EXISTS edu.questions_resource CASCADE;\n",
    "    DROP TABLE IF EXISTS edu.schedule_resource CASCADE;\n",
    "    \"\"\"\n",
    "    if create_or_drop == \"create\":\n",
    "        return create\n",
    "    elif create_or_drop == \"drop\":\n",
    "        return drop\n",
    "\n",
    "\n",
    "#sql( creation_main_tables(\"drop\") )\n",
    "#sql( creation_main_tables(\"create\") )"
   ]
  },
  {
   "cell_type": "markdown",
   "metadata": {},
   "source": [
    "Перезагрузка БД"
   ]
  },
  {
   "cell_type": "code",
   "execution_count": 34,
   "metadata": {},
   "outputs": [
    {
     "name": "stdout",
     "output_type": "stream",
     "text": [
      "[INFO]  no results to fetch\n",
      "[INFO]  no results to fetch\n"
     ]
    }
   ],
   "source": [
    "################################################################################################################################\n",
    "#### Перезагрузка БД\n",
    "\n",
    "def tables_reload():\n",
    "    sql( creation_main_tables(\"drop\") )\n",
    "    sql( creation_main_tables(\"create\") )\n",
    "\n",
    "tables_reload()\n",
    "################################################################################################################################"
   ]
  },
  {
   "cell_type": "markdown",
   "metadata": {
    "jp-MarkdownHeadingCollapsed": true
   },
   "source": [
    "# Добавление в БД original_lms_resource SELECT"
   ]
  },
  {
   "cell_type": "markdown",
   "metadata": {},
   "source": [
    "select ID recource by URL"
   ]
  },
  {
   "cell_type": "code",
   "execution_count": 35,
   "metadata": {},
   "outputs": [],
   "source": [
    "def select_resource_BY_URL(url):\n",
    "    return remove_sql_symbol( sql( f\"SELECT id FROM {SN}resource WHERE url = '{url}' \" ) )\n",
    "\n",
    "#select_resource_BY_URL('http://51.250.4.123/moodle/my/courses.php')"
   ]
  },
  {
   "cell_type": "markdown",
   "metadata": {},
   "source": [
    "select ID original_lms_resource by RESOURCE_URL"
   ]
  },
  {
   "cell_type": "code",
   "execution_count": 36,
   "metadata": {},
   "outputs": [],
   "source": [
    "def select_original_lms_resource_BY_RESOURCE_URL(resource_url):\n",
    "    resource_id = select_resource_BY_URL(resource_url)\n",
    "    if resource_id != \"\":\n",
    "        return remove_sql_symbol( sql( f\"SELECT id FROM {SN}original_lms_resource WHERE resource_id = {resource_id} \" ) )\n",
    "\n",
    "#select_original_lms_resource_BY_RESOURCE_URL('http://51.250.4.123/moodle/my/courses.php')\n",
    "#sql( f\"SELECT id FROM original_lms_resource WHERE resource_id = '2' \" )"
   ]
  },
  {
   "cell_type": "markdown",
   "metadata": {},
   "source": [
    "select ID lms by NAME"
   ]
  },
  {
   "cell_type": "code",
   "execution_count": 37,
   "metadata": {},
   "outputs": [],
   "source": [
    "def select_lms_BY_NAME(name):\n",
    "    return remove_sql_symbol( sql( f\"SELECT id FROM {SN}lms WHERE name = '{name}' \" ) )\n",
    "\n",
    "#select_lms_BY_NAME('lms')"
   ]
  },
  {
   "cell_type": "markdown",
   "metadata": {},
   "source": [
    "select ID lms_resource_type by NAME"
   ]
  },
  {
   "cell_type": "code",
   "execution_count": 38,
   "metadata": {},
   "outputs": [],
   "source": [
    "def select_lms_resource_type_BY_NAME(name):\n",
    "    return remove_sql_symbol( sql( f\"SELECT id FROM {SN}lms_resource_type WHERE name = '{name}' \" ) )\n",
    "\n",
    "#select_lms_resource_type_BY_NAME('url')"
   ]
  },
  {
   "cell_type": "markdown",
   "metadata": {
    "jp-MarkdownHeadingCollapsed": true
   },
   "source": [
    "# Добавление в БД original_lms_resource INSERT"
   ]
  },
  {
   "cell_type": "markdown",
   "metadata": {},
   "source": [
    "insert resource"
   ]
  },
  {
   "cell_type": "code",
   "execution_count": 39,
   "metadata": {},
   "outputs": [],
   "source": [
    "def insert_resource(url, name, description):\n",
    "    if select_resource_BY_URL(url) == '':\n",
    "        sql( f\"INSERT INTO {SN}resource(url, name, description) VALUES('{url}', '{name}', '{description}')\" )\n",
    "        return \"Элемент добавлен (insert_resource)\"\n",
    "    else:\n",
    "        return \"Такой элемент уже cуществует (insert_resource)\"\n",
    "\n",
    "#insert_resource('url', 'name', 'description')"
   ]
  },
  {
   "cell_type": "markdown",
   "metadata": {},
   "source": [
    "insert original_lms_resource"
   ]
  },
  {
   "cell_type": "code",
   "execution_count": 40,
   "metadata": {},
   "outputs": [],
   "source": [
    "def insert_original_lms_resource(resource_type, platform, content, resource_url):\n",
    "    resource_type_id = select_lms_resource_type_BY_NAME (resource_type)\n",
    "    platform_id = select_lms_BY_NAME (platform)\n",
    "    resource_id = select_resource_BY_URL (resource_url)\n",
    "    is_elem_exist = select_original_lms_resource_BY_RESOURCE_URL (resource_url)\n",
    "    \n",
    "    if (is_elem_exist == \"\") or (is_elem_exist == None):\n",
    "        \n",
    "        if (resource_type_id != \"\") and (platform_id != \"\") and (resource_id != \"\"):\n",
    "            sql( f\"INSERT INTO {SN}original_lms_resource(type_id, platform_id, content, resource_id) VALUES({resource_type_id}, {platform_id}, '{content}', {resource_id})\" )\n",
    "            return \"Успешно добавлено (insert_original_lms_resource)\"\n",
    "        elif (resource_type_id == ''):\n",
    "            return \"Ошибка resource_type_id == '' (insert_original_lms_resource)\"\n",
    "        elif (platform_id == ''):\n",
    "            return \"Ошибка platform_id == '' (insert_original_lms_resource)\"\n",
    "        elif (resource_id == ''):\n",
    "            return \"Ошибка resource_id =='' (insert_original_lms_resource)\"\n",
    "        \n",
    "        else:\n",
    "            return \"Ошибка добавления (insert_original_lms_resource)\"\n",
    "    else:\n",
    "        return \"Такой элемент уже существует (insert_original_lms_resource)\"\n",
    "    \n",
    "#insert_original_lms_resource('page', 'Moodle', 'content', 'http://51.250.4.123/moodle/my/courses.php')\n",
    "#print( select_original_lms_resource_BY_RESOURCE_URL ('http://51.250.4.123/moodle/my/courses.php') )"
   ]
  },
  {
   "cell_type": "markdown",
   "metadata": {},
   "source": [
    "insert lms"
   ]
  },
  {
   "cell_type": "code",
   "execution_count": 41,
   "metadata": {},
   "outputs": [],
   "source": [
    "def insert_lms(name):\n",
    "    if select_lms_BY_NAME(name) == '':\n",
    "        sql( f\"INSERT INTO {SN}lms(name) VALUES('{name}')\" )\n",
    "        return \"Элемент добавлен (insert_lms)\"\n",
    "    else:\n",
    "        return \"Такой элемент уже cуществует (insert_lms)\"\n",
    "\n",
    "#insert_lms(\"lms\")"
   ]
  },
  {
   "cell_type": "markdown",
   "metadata": {},
   "source": [
    "insert lms_resource_type"
   ]
  },
  {
   "cell_type": "code",
   "execution_count": 42,
   "metadata": {},
   "outputs": [],
   "source": [
    "def insert_lms_resource_type(name):\n",
    "    if select_lms_resource_type_BY_NAME(name) == '':\n",
    "        sql( f\"INSERT INTO {SN}lms_resource_type(name) VALUES('{name}')\" )\n",
    "        return \"Элемент добавлен (insert_lms_resource_type)\"\n",
    "    else:\n",
    "        return \"Такой элемент уже cуществует (insert_lms_resource_type)\"\n",
    "\n",
    "#insert_lms_resource_type('page')"
   ]
  },
  {
   "cell_type": "markdown",
   "metadata": {},
   "source": [
    "insert FULL_original_resource"
   ]
  },
  {
   "cell_type": "code",
   "execution_count": 43,
   "metadata": {},
   "outputs": [],
   "source": [
    "def insert_FULL_original_resource(resource_name, resource_url, resource_description, lms_resource_type_name, lms_name, content):\n",
    "    res_1 = insert_resource(resource_url, resource_name, resource_description)\n",
    "    res_2 = insert_lms(lms_name)\n",
    "    res_3 = insert_lms_resource_type(lms_resource_type_name)\n",
    "    res_4 = insert_original_lms_resource(lms_resource_type_name, lms_name, content, resource_url)\n",
    "\n",
    "    return f\"{res_1} || {res_2} || {res_3} || {res_4}\"\n",
    "\n",
    "#insert_FULL_original_resource('Ресурс 1', 'http://51.250.4.123/moodle/my/courses.php', 'Описание', 'page', 'Moodle', 'content')"
   ]
  },
  {
   "cell_type": "code",
   "execution_count": 44,
   "metadata": {},
   "outputs": [],
   "source": [
    "# Остатки от работы\n",
    "\n",
    "#insert_resource('http://51.250.4.123/moodle/my/courses.php', 'Ресурс 1', 'Описание')\n",
    "#insert_lms('Moodle')\n",
    "#insert_lms_resource_type('page')\n",
    "#insert_original_lms_resource('page', 'Moodle', 'content', 'http://51.250.4.123/moodle/my/courses.php')\n",
    "\n",
    "#insert_resource(resource_url, resource_name, resource_description)\n",
    "#insert_lms(lms_name)\n",
    "#insert_lms_resource_type(lms_resource_type_name)\n",
    "#insert_original_lms_resource(lms_resource_type_name, lms_name, content, resource_url)\n",
    "\n",
    "#resource_name = 'Ресурс 1'\n",
    "#resource_url = 'http://51.250.4.123/moodle/my/courses.php'\n",
    "#resource_description = 'Описание'\n",
    "#lms_resource_type_name = 'page'\n",
    "#lms_name = 'Moodle'\n",
    "#content = 'content'\n",
    "#insert_FULL_original_resource(resource_name, resource_url, resource_description, lms_resource_type_name, lms_name, content)"
   ]
  },
  {
   "cell_type": "markdown",
   "metadata": {
    "jp-MarkdownHeadingCollapsed": true
   },
   "source": [
    "# Добавление в БД edu SELECT"
   ]
  },
  {
   "cell_type": "markdown",
   "metadata": {},
   "source": [
    "select_edu_theme_BY_RESOURCE_ID"
   ]
  },
  {
   "cell_type": "code",
   "execution_count": 45,
   "metadata": {},
   "outputs": [],
   "source": [
    "def select_edu_theme_BY_RESOURCE_ID(resource_id):\n",
    "    return remove_sql_symbol( sql( f\"SELECT id FROM {SN}edu_theme WHERE resource_id = {resource_id} \" ) )\n",
    "\n",
    "#select_edu_theme_BY_RESOURCE_ID(1)"
   ]
  },
  {
   "cell_type": "markdown",
   "metadata": {},
   "source": [
    "select_edu_announcment_BY_RESOURCE_ID"
   ]
  },
  {
   "cell_type": "code",
   "execution_count": 46,
   "metadata": {},
   "outputs": [],
   "source": [
    "def select_edu_announcment_BY_RESOURCE_ID(resource_id):\n",
    "    return remove_sql_symbol( sql( f\"SELECT name FROM {SN}edu_announcment WHERE resource_id = {resource_id} \" ) )\n",
    "\n",
    "#select_edu_announcment_BY_RESOURCE_ID(1)"
   ]
  },
  {
   "cell_type": "markdown",
   "metadata": {},
   "source": [
    "select_edu_announcment_BY_RESOURCE_ID"
   ]
  },
  {
   "cell_type": "code",
   "execution_count": 47,
   "metadata": {},
   "outputs": [],
   "source": [
    "def select_edu_lab_report_BY_RESOURCE_ID(resource_id):\n",
    "    return remove_sql_symbol( sql( f\"SELECT id FROM {SN}edu_lab_report WHERE resource_id = {resource_id} \" ) )\n",
    "\n",
    "#select_edu_lab_report_BY_RESOURCE_ID(1)"
   ]
  },
  {
   "cell_type": "markdown",
   "metadata": {},
   "source": [
    "select_edu_resource_lecture_BY_RESOURCE_ID"
   ]
  },
  {
   "cell_type": "code",
   "execution_count": 48,
   "metadata": {},
   "outputs": [],
   "source": [
    "def select_edu_resource_lecture_BY_RESOURCE_ID(resource_id):\n",
    "    return remove_sql_symbol( sql( f\"SELECT name FROM {SN}edu_resource_lecture WHERE resource_id = {resource_id} \" ) )\n",
    "\n",
    "#select_edu_resource_lecture_BY_RESOURCE_ID(1)"
   ]
  },
  {
   "cell_type": "markdown",
   "metadata": {},
   "source": [
    "select_edu_term_BY_RESOURCE_ID"
   ]
  },
  {
   "cell_type": "code",
   "execution_count": 49,
   "metadata": {},
   "outputs": [],
   "source": [
    "def select_edu_term_BY_RESOURCE_ID(resource_id):\n",
    "    return remove_sql_symbol( sql( f\"SELECT name FROM {SN}edu_term WHERE resource_id = {resource_id} \" ) )\n",
    "\n",
    "#select_edu_term_BY_RESOURCE_ID(1)"
   ]
  },
  {
   "cell_type": "markdown",
   "metadata": {},
   "source": [
    "select_edu_survey_BY_RESOURCE_ID"
   ]
  },
  {
   "cell_type": "code",
   "execution_count": 50,
   "metadata": {},
   "outputs": [],
   "source": [
    "def select_edu_survey_BY_RESOURCE_ID(resource_id):\n",
    "    return remove_sql_symbol( sql( f\"SELECT id FROM {SN}edu_survey WHERE resource_id = {resource_id} \" ) )\n",
    "\n",
    "#select_edu_survey_BY_RESOURCE_ID(1)"
   ]
  },
  {
   "cell_type": "markdown",
   "metadata": {},
   "source": [
    "select_edu_test_BY_RESOURCE_ID"
   ]
  },
  {
   "cell_type": "code",
   "execution_count": 51,
   "metadata": {},
   "outputs": [],
   "source": [
    "def select_edu_test_BY_RESOURCE_ID(resource_id):\n",
    "    return remove_sql_symbol( sql( f\"SELECT id FROM {SN}edu_test WHERE resource_id = {resource_id} \" ) )\n",
    "\n",
    "#select_edu_test_BY_RESOURCE_ID(1)"
   ]
  },
  {
   "cell_type": "markdown",
   "metadata": {},
   "source": [
    "select_edu_discussion_BY_RESOURCE_ID"
   ]
  },
  {
   "cell_type": "code",
   "execution_count": 52,
   "metadata": {},
   "outputs": [],
   "source": [
    "def select_edu_discussion_BY_RESOURCE_ID(resource_id):\n",
    "    return remove_sql_symbol( sql( f\"SELECT id FROM {SN}edu_discussion WHERE resource_id = {resource_id} \" ) )\n",
    "\n",
    "#select_edu_discussion_BY_RESOURCE_ID(1)"
   ]
  },
  {
   "cell_type": "markdown",
   "metadata": {
    "jp-MarkdownHeadingCollapsed": true
   },
   "source": [
    "# Добавление в БД edu INSERT"
   ]
  },
  {
   "cell_type": "markdown",
   "metadata": {},
   "source": [
    "insert_edu_theme"
   ]
  },
  {
   "cell_type": "code",
   "execution_count": 53,
   "metadata": {},
   "outputs": [],
   "source": [
    "def insert_edu_theme(name, resource_id):\n",
    "    if select_edu_theme_BY_RESOURCE_ID(resource_id) == '':\n",
    "        sql( f\"INSERT INTO {SN}edu_theme(name, resource_id) VALUES('{name}', {resource_id})\" )\n",
    "        return \"Элемент добавлен (insert_edu_theme)\"\n",
    "    else:\n",
    "        return \"Такой элемент уже cуществует (insert_edu_theme)\"\n",
    "\n",
    "#insert_edu_theme('Название темы', 1)"
   ]
  },
  {
   "cell_type": "markdown",
   "metadata": {},
   "source": [
    "insert_edu_announcment"
   ]
  },
  {
   "cell_type": "code",
   "execution_count": 54,
   "metadata": {},
   "outputs": [],
   "source": [
    "def insert_edu_announcment(name, resource_id):\n",
    "    if select_edu_announcment_BY_RESOURCE_ID(resource_id) == '':\n",
    "        sql( f\"INSERT INTO {SN}edu_announcment(name, resource_id) VALUES('{name}', {resource_id})\" )\n",
    "        return \"Элемент добавлен (insert_edu_announcment)\"\n",
    "    else:\n",
    "        return \"Такой элемент уже cуществует (insert_edu_announcment)\"\n",
    "\n",
    "#insert_edu_announcment('Название опроса', 1)"
   ]
  },
  {
   "cell_type": "markdown",
   "metadata": {},
   "source": [
    "insert_edu_lab_report"
   ]
  },
  {
   "cell_type": "code",
   "execution_count": 55,
   "metadata": {},
   "outputs": [],
   "source": [
    "def insert_edu_lab_report(resource_id):\n",
    "    if select_edu_lab_report_BY_RESOURCE_ID(resource_id) == '':\n",
    "        sql( f\"INSERT INTO {SN}edu_lab_report(resource_id) VALUES({resource_id})\" )\n",
    "        return \"Элемент добавлен (insert_edu_lab_report)\"\n",
    "    else:\n",
    "        return \"Такой элемент уже cуществует (insert_edu_lab_report)\"\n",
    "\n",
    "#insert_edu_lab_report(1)"
   ]
  },
  {
   "cell_type": "markdown",
   "metadata": {},
   "source": [
    "insert_edu_resource_lecture"
   ]
  },
  {
   "cell_type": "code",
   "execution_count": 56,
   "metadata": {},
   "outputs": [],
   "source": [
    "def insert_edu_resource_lecture(name, resource_id, summary):\n",
    "    if select_edu_resource_lecture_BY_RESOURCE_ID(resource_id) == '':\n",
    "        sql( f\"INSERT INTO {SN}edu_resource_lecture(name, resource_id, summary) VALUES('{name}', {resource_id}, '{summary}')\" )\n",
    "        return \"Элемент добавлен (insert_edu_resource_lecture)\"\n",
    "    else:\n",
    "        return \"Такой элемент уже cуществует (insert_edu_resource_lecture)\"\n",
    "\n",
    "#insert_edu_resource_lecture('Название лекции', 1, 'Краткое описание')"
   ]
  },
  {
   "cell_type": "markdown",
   "metadata": {},
   "source": [
    "insert_edu_term"
   ]
  },
  {
   "cell_type": "code",
   "execution_count": 57,
   "metadata": {},
   "outputs": [],
   "source": [
    "def insert_edu_term(name, resource_id, text):\n",
    "    if select_edu_term_BY_RESOURCE_ID(resource_id) == '':\n",
    "        sql( f\"INSERT INTO {SN}edu_term(name, resource_id, text) VALUES('{name}', {resource_id}, '{text}')\" )\n",
    "        return \"Элемент добавлен (insert_edu_term)\"\n",
    "    else:\n",
    "        return \"Такой элемент уже cуществует (insert_edu_term)\"\n",
    "\n",
    "#insert_edu_term('Название термина', 1, 'Текст термина')"
   ]
  },
  {
   "cell_type": "markdown",
   "metadata": {},
   "source": [
    "insert_edu_survey"
   ]
  },
  {
   "cell_type": "code",
   "execution_count": 58,
   "metadata": {},
   "outputs": [],
   "source": [
    "def insert_edu_survey(name, resource_id):\n",
    "    if select_edu_survey_BY_RESOURCE_ID(resource_id) == '':\n",
    "        sql( f\"INSERT INTO {SN}edu_survey(name, resource_id) VALUES('{name}', {resource_id})\" )\n",
    "        return \"Элемент добавлен (insert_edu_survey)\"\n",
    "    else:\n",
    "        return \"Такой элемент уже cуществует (insert_edu_survey)\"\n",
    "\n",
    "#insert_edu_survey('Название термина', 1)"
   ]
  },
  {
   "cell_type": "markdown",
   "metadata": {},
   "source": [
    "insert_edu_test"
   ]
  },
  {
   "cell_type": "code",
   "execution_count": 59,
   "metadata": {},
   "outputs": [],
   "source": [
    "def insert_edu_test(name, resource_id):\n",
    "    if select_edu_test_BY_RESOURCE_ID(resource_id) == '':\n",
    "        sql( f\"INSERT INTO {SN}edu_test(name, resource_id) VALUES('{name}', {resource_id})\" )\n",
    "        return \"Элемент добавлен (insert_edu_test)\"\n",
    "    else:\n",
    "        return \"Такой элемент уже cуществует (insert_edu_test)\"\n",
    "\n",
    "#insert_edu_test('Название термина', 1)"
   ]
  },
  {
   "cell_type": "markdown",
   "metadata": {},
   "source": [
    "insert_edu_discussion"
   ]
  },
  {
   "cell_type": "code",
   "execution_count": 60,
   "metadata": {},
   "outputs": [],
   "source": [
    "def insert_edu_discussion(name, resource_id):\n",
    "    if select_edu_discussion_BY_RESOURCE_ID(resource_id) == '':\n",
    "        sql( f\"INSERT INTO {SN}edu_discussion(name, resource_id) VALUES('{name}', {resource_id})\" )\n",
    "        return \"Элемент добавлен (insert_edu_discussion)\"\n",
    "    else:\n",
    "        return \"Такой элемент уже cуществует (insert_edu_discussion)\"\n",
    "\n",
    "#insert_edu_discussion('Название термина', 1)"
   ]
  },
  {
   "cell_type": "markdown",
   "metadata": {
    "jp-MarkdownHeadingCollapsed": true
   },
   "source": [
    "# Добавление в БД resource SELECT"
   ]
  },
  {
   "cell_type": "markdown",
   "metadata": {},
   "source": [
    "select_html_resource_BY_RESOURCE_ID"
   ]
  },
  {
   "cell_type": "code",
   "execution_count": 61,
   "metadata": {},
   "outputs": [],
   "source": [
    "def select_html_resource_BY_RESOURCE_ID(resource_id):\n",
    "    return remove_sql_symbol( sql( f\"SELECT id FROM {SN}html_resource WHERE resource_id = {resource_id} \" ) )\n",
    "\n",
    "#select_html_resource_BY_RESOURCE_ID(1)"
   ]
  },
  {
   "cell_type": "markdown",
   "metadata": {},
   "source": [
    "select_video_resource_description_BY_URL"
   ]
  },
  {
   "cell_type": "code",
   "execution_count": 62,
   "metadata": {},
   "outputs": [],
   "source": [
    "def select_video_resource_description_BY_URL(url):\n",
    "    return remove_sql_symbol( sql( f\"SELECT id FROM {SN}video_resource_description WHERE url = '{url}' \" ) )\n",
    "\n",
    "#select_video_resource_description_BY_URL('https://www.youtube.com/watch?v=jfKfPfyJRdk&ab_channel=LofiGirl')"
   ]
  },
  {
   "cell_type": "markdown",
   "metadata": {},
   "source": [
    "select_file_type_BY_EXTENSION"
   ]
  },
  {
   "cell_type": "code",
   "execution_count": 63,
   "metadata": {},
   "outputs": [],
   "source": [
    "def select_file_type_BY_EXTENSION(extention):\n",
    "    return remove_sql_symbol( sql( f\"SELECT id FROM {SN}file_type WHERE extension = '{extention}' \" ) )\n",
    "\n",
    "#select_file_type_BY_EXTENSION('docx')"
   ]
  },
  {
   "cell_type": "markdown",
   "metadata": {},
   "source": [
    "select_file_resource_description_BY_RESOURCE_ID"
   ]
  },
  {
   "cell_type": "code",
   "execution_count": 64,
   "metadata": {},
   "outputs": [],
   "source": [
    "def select_file_resource_description_BY_RESOURCE_ID(resource_id):\n",
    "    return remove_sql_symbol( sql( f\"SELECT id FROM {SN}file_resource_description WHERE resource_id = {resource_id} \" ) )\n",
    "\n",
    "#select_file_resource_description_BY_RESOURCE_ID(1)"
   ]
  },
  {
   "cell_type": "markdown",
   "metadata": {},
   "source": [
    "select_questions_resource_BY_RESOURCE_ID"
   ]
  },
  {
   "cell_type": "code",
   "execution_count": 65,
   "metadata": {},
   "outputs": [],
   "source": [
    "def select_questions_resource_BY_RESOURCE_ID(resource_id):\n",
    "    all_content = sql( f\"SELECT id FROM {SN}questions_resource WHERE resource_id = {resource_id} \" )\n",
    "    new_ = replace_symbols(remove_symbols(\"[]'()\", str(all_content)), ',,', ',' )\n",
    "    return new_\n",
    "\n",
    "#select_questions_resource_BY_RESOURCE_ID(1)"
   ]
  },
  {
   "cell_type": "markdown",
   "metadata": {},
   "source": [
    "select_comment_resource_BY_RESOURCE_ID"
   ]
  },
  {
   "cell_type": "code",
   "execution_count": 66,
   "metadata": {},
   "outputs": [],
   "source": [
    "def select_comment_resource_BY_RESOURCE_ID(resource_id):\n",
    "    return remove_sql_symbol( sql( f\"SELECT id FROM {SN}comment_resource WHERE resource_id = {resource_id} \" ) )\n",
    "\n",
    "#select_comment_resource_BY_RESOURCE_ID(1)"
   ]
  },
  {
   "cell_type": "markdown",
   "metadata": {
    "jp-MarkdownHeadingCollapsed": true
   },
   "source": [
    "# Добавление в БД resource INSERT"
   ]
  },
  {
   "cell_type": "markdown",
   "metadata": {},
   "source": [
    "insert_html_resource"
   ]
  },
  {
   "cell_type": "code",
   "execution_count": 67,
   "metadata": {},
   "outputs": [],
   "source": [
    "def insert_html_resource(html, resource_id):\n",
    "    if select_html_resource_BY_RESOURCE_ID(resource_id) == '':\n",
    "        sql( f\"INSERT INTO {SN}html_resource(html, resource_id) VALUES('{html}', {resource_id})\" )\n",
    "        return \"Элемент добавлен (insert_html_resource)\"\n",
    "    else:\n",
    "        return \"Такой элемент уже cуществует (insert_html_resource)\"\n",
    "\n",
    "#insert_html_resource('Тело html ресурса', 1)"
   ]
  },
  {
   "cell_type": "markdown",
   "metadata": {},
   "source": [
    "insert_video_resource_description"
   ]
  },
  {
   "cell_type": "code",
   "execution_count": 68,
   "metadata": {},
   "outputs": [],
   "source": [
    "def insert_video_resource_description(name, url, duration, resource_id, author):\n",
    "    if select_video_resource_description_BY_URL(url) == '':\n",
    "        sql( f\"INSERT INTO {SN}video_resource_description(name, url, duration, resource_id, author) VALUES('{name}', '{url}', {duration}, {resource_id}, '{author}')\" )\n",
    "        return \"Элемент добавлен (insert_video_resource_description)\"\n",
    "    else:\n",
    "        return \"Такой элемент уже cуществует (insert_video_resource_description)\"\n",
    "\n",
    "#insert_video_resource_description('Название видео ресурса', 'https://www.youtube.com/watch?v=jfKfPfyJRdk&ab_channel=LofiGirl', 120, 1, 1)"
   ]
  },
  {
   "cell_type": "markdown",
   "metadata": {},
   "source": [
    "insert_file_type"
   ]
  },
  {
   "cell_type": "code",
   "execution_count": 69,
   "metadata": {},
   "outputs": [
    {
     "name": "stdout",
     "output_type": "stream",
     "text": [
      "[INFO]  no results to fetch\n",
      "[INFO]  no results to fetch\n",
      "[INFO]  no results to fetch\n",
      "[INFO]  no results to fetch\n",
      "[INFO]  no results to fetch\n"
     ]
    },
    {
     "data": {
      "text/plain": [
       "'Элемент добавлен (insert_file_type)'"
      ]
     },
     "execution_count": 69,
     "metadata": {},
     "output_type": "execute_result"
    }
   ],
   "source": [
    "def insert_file_type(name, extension):\n",
    "    if select_file_type_BY_EXTENSION(extension) == '':\n",
    "        sql( f\"INSERT INTO {SN}file_type(name, extension) VALUES('{name}', '{extension}')\" )\n",
    "        return \"Элемент добавлен (insert_file_type)\"\n",
    "    else:\n",
    "        return \"Такой элемент уже cуществует (insert_file_type)\"\n",
    "\n",
    "insert_file_type('Ворд', 'docx')\n",
    "insert_file_type('ПДФ', 'pdf')\n",
    "insert_file_type('Гифка', 'gif')\n",
    "insert_file_type('Джипег', 'jpeg')\n",
    "insert_file_type('ПэЭнГэ', 'png')"
   ]
  },
  {
   "cell_type": "markdown",
   "metadata": {},
   "source": [
    "insert_file_resource_description"
   ]
  },
  {
   "cell_type": "code",
   "execution_count": 70,
   "metadata": {},
   "outputs": [],
   "source": [
    "def insert_file_resource_description(name, extension, resource_id, path):\n",
    "    if select_file_resource_description_BY_RESOURCE_ID(resource_id) == '':\n",
    "        type_id = select_file_type_BY_EXTENSION(extension)\n",
    "        if type_id == '':\n",
    "            return \"Такого расширения файла нет\"\n",
    "        else:\n",
    "            sql( f\"INSERT INTO {SN}file_resource_description(name, type_id, resource_id, path) VALUES('{name}', '{type_id}', {resource_id}, '{path}')\" )\n",
    "            return \"Элемент добавлен (insert_file_resource_description)\"\n",
    "    else:\n",
    "        return \"Такой элемент уже cуществует (insert_file_resource_description)\"\n",
    "\n",
    "#insert_file_resource_description('Название ресурса-файла', 'docx', 1, 'крутой путь к файлу')"
   ]
  },
  {
   "cell_type": "markdown",
   "metadata": {},
   "source": [
    "insert_questions_resource"
   ]
  },
  {
   "cell_type": "code",
   "execution_count": 71,
   "metadata": {},
   "outputs": [],
   "source": [
    "def insert_questions_resource(questions, answers, resource_id):\n",
    "    if select_questions_resource_BY_RESOURCE_ID(resource_id) == '':\n",
    "        sql( f\"INSERT INTO {SN}questions_resource(questions, answers, resource_id) VALUES('{questions}', '{answers}', {resource_id})\" )\n",
    "        return \"Элемент добавлен (insert_questions_resource)\"\n",
    "    else:\n",
    "        return \"Такой элемент уже cуществует (insert_questions_resource)\"\n",
    "\n",
    "#insert_questions_resource('Название видео ресурса', 'https://www.youtube.com/watch?v=jfKfPfyJRdk&ab_channel=LofiGirl', 1)"
   ]
  },
  {
   "cell_type": "markdown",
   "metadata": {},
   "source": [
    "insert_comment_resource"
   ]
  },
  {
   "cell_type": "code",
   "execution_count": 72,
   "metadata": {},
   "outputs": [],
   "source": [
    "def insert_comment_resource(replied_comment_id, user_id, text, resource_id):\n",
    "    #if select_questions_resource_BY_RESOURCE_ID(resource_id) == '':\n",
    "        sql( f\"INSERT INTO {SN}comment_resource(replied_comment_id, user_id, text, resource_id) VALUES({replied_comment_id}, {user_id}, '{text}', {resource_id})\" )\n",
    "        return \"Элемент добавлен (insert_comment_resource)\"\n",
    "    #else:\n",
    "        #return \"Такой элемент уже cуществует (insert_questions_resource)\"\n",
    "\n",
    "#insert_comment_resource(1, 1, 'https://www.youtube.com/watch?v=jfKfPfyJRdk&ab_channel=LofiGirl', 1)"
   ]
  },
  {
   "cell_type": "markdown",
   "metadata": {},
   "source": [
    "insert_schedule_resource"
   ]
  },
  {
   "cell_type": "code",
   "execution_count": 73,
   "metadata": {},
   "outputs": [],
   "source": [
    "def insert_schedule_resource(teacher_id, start_time, duration, notes, resource_id):\n",
    "    #if select_questions_resource_BY_RESOURCE_ID(resource_id) == '':\n",
    "        sql( f\"INSERT INTO {SN}schedule_resource(teacher_id, start_time, duration, notes, resource_id) VALUES({teacher_id}, {start_time}, {duration}, '{notes}', {resource_id})\" )\n",
    "        return \"Элемент добавлен (insert_schedule_resource)\"\n",
    "    #else:\n",
    "        #return \"Такой элемент уже cуществует (insert_questions_resource)\"\n",
    "\n",
    "#insert_schedule_resource(1, 1, 1, 'https://www.youtube.com/watch?v=jfKfPfyJRdk&ab_channel=LofiGirl', 1)"
   ]
  },
  {
   "cell_type": "markdown",
   "metadata": {},
   "source": [
    "# Импорт всех файлов"
   ]
  },
  {
   "cell_type": "code",
   "execution_count": 74,
   "metadata": {},
   "outputs": [],
   "source": [
    "def all_files_import():\n",
    "    all_ = all_files_read()\n",
    "    for index in range(len(all_)):\n",
    "        resource_url = all_[index][0]\n",
    "        directory = all_[index][1]\n",
    "        lms_resource_type_name = all_[index][2]\n",
    "        resource_name = all_[index][3]\n",
    "        all_file_content = read_all( all_[index][1] )\n",
    "        lms_name = 'Moodle'\n",
    "        resource_description = f\"Ресурс типа {lms_resource_type_name}, загруженный из системы {lms_name}\"\n",
    "        insert_FULL_original_resource(resource_name, resource_url, resource_description, lms_resource_type_name, lms_name, all_file_content)\n",
    "        resource_id = select_resource_BY_URL(resource_url)\n",
    "        \n",
    "        if lms_resource_type_name == \"page\" : add_page_resource_to_DB(all_, index, resource_name, resource_id)\n",
    "        elif lms_resource_type_name == \"choice\" : add_choice_resource_to_DB(all_, index, resource_name, resource_id)\n",
    "        elif lms_resource_type_name == \"book\" : add_book_resource_to_DB(all_, index, resource_name, resource_id)\n",
    "        elif lms_resource_type_name == \"feedback\" : add_feedback_resource_to_DB(all_, index, resource_name, resource_id)\n",
    "        elif lms_resource_type_name == \"survey\" : add_survey_resource_to_DB(all_, index, resource_name, resource_id)\n",
    "        elif lms_resource_type_name == \"forum\" : add_forum_resource_to_DB(all_, index, resource_name, resource_id)\n",
    "        elif lms_resource_type_name == \"scheduler\" : add_scheduler_resource_to_DB(all_, index, resource_name, resource_id)\n",
    "        elif lms_resource_type_name == \"quiz\" : add_quiz_resource_to_DB(all_, index, resource_name, resource_id)\n",
    "        #elif lms_resource_type_name == \"glossary\" : add_glossary_resource_to_DB(all_, index, resource_name, resource_id)\n",
    "\n",
    "    add_in_DB_files_description()\n",
    "            \n",
    "    return 'Done!'\n",
    "              \n",
    "#all_files_import()"
   ]
  },
  {
   "cell_type": "markdown",
   "metadata": {},
   "source": [
    "Выносим функции добавления ресурсов в базу данных"
   ]
  },
  {
   "cell_type": "code",
   "execution_count": 75,
   "metadata": {},
   "outputs": [],
   "source": [
    "def add_page_resource_to_DB(all_, index, resource_name, resource_id):\n",
    "    insert_edu_resource_lecture(resource_name, resource_id, '')\n",
    "    insert_html_resource(all_[index][4], resource_id)\n",
    "    \n",
    "def add_choice_resource_to_DB(all_, index, resource_name, resource_id):\n",
    "    insert_edu_survey(resource_name, resource_id)\n",
    "    questions = all_[index][4]\n",
    "    answers = ''\n",
    "    insert_questions_resource(questions, answers, resource_id)\n",
    "    \n",
    "def add_book_resource_to_DB(all_, index, resource_name, resource_id):\n",
    "    insert_edu_resource_lecture(resource_name, resource_id, '')\n",
    "    insert_html_resource(all_[index][4], resource_id)\n",
    "    \n",
    "def add_feedback_resource_to_DB(all_, index, resource_name, resource_id):\n",
    "    insert_edu_survey(resource_name, resource_id)\n",
    "    questions = all_[index][4][0]\n",
    "    answers = all_[index][4][1]\n",
    "    insert_questions_resource(questions, answers, resource_id)\n",
    "    \n",
    "def add_survey_resource_to_DB(all_, index, resource_name, resource_id):\n",
    "    insert_edu_survey(resource_name, resource_id)\n",
    "    questions = all_[index][4]\n",
    "    answers = ''\n",
    "    insert_questions_resource(questions, answers, resource_id)\n",
    "\n",
    "def add_forum_resource_to_DB(all_, index, resource_name, resource_id):\n",
    "    insert_edu_discussion(resource_name, resource_id)\n",
    "    # replied_comment_id, user_id, text, resource_id\n",
    "    # ['id комментария', 'id комментария, на который идет ответ', 'id пользователя, оставившего комментарий', 'текст комментария'],\\n\"\n",
    "    len_ = len( all_[index][4] )\n",
    "    for j in range( len_ ):\n",
    "        #id = all_[index][4][j][0]\n",
    "        replied_comment_id = all_[index][4][j][1]\n",
    "        user_id = all_[index][4][j][2]\n",
    "        text = all_[index][4][j][3]\n",
    "        insert_comment_resource(replied_comment_id, user_id, text, resource_id)\n",
    "    \n",
    "def add_scheduler_resource_to_DB(all_, index, resource_name, resource_id):\n",
    "    # ['id записи', 'id учителя', 'время начала в Unixtime', 'продолжительность в минутах', 'заметки']\n",
    "    insert_edu_announcment(resource_name, resource_id)\n",
    "    #insert_html_resource(all_[index][4], resource_id)\n",
    "    len_ = len( all_[index][4] )\n",
    "    for j in range( len_ ):\n",
    "        teacher_id = all_[index][4][j][1]\n",
    "        start_time = all_[index][4][j][2]\n",
    "        duration = all_[index][4][j][3]\n",
    "        notes = all_[index][4][j][4]\n",
    "        insert_schedule_resource(teacher_id, start_time, duration, notes, resource_id)\n",
    "        \n",
    "def add_quiz_resource_to_DB(all_, index, resource_name, resource_id):\n",
    "    insert_edu_test(resource_name, resource_id)\n",
    "    questions = all_[index][4]\n",
    "    answers = ''\n",
    "    insert_questions_resource(questions, answers, resource_id)\n",
    "\n",
    "def add_glossary_resource_to_DB(all_, index, resource_name, resource_id):\n",
    "    "
   ]
  },
  {
   "cell_type": "markdown",
   "metadata": {},
   "source": [
    "Создаем новые файлы и добавляем к соответствующим ресурсам"
   ]
  },
  {
   "cell_type": "code",
   "execution_count": 76,
   "metadata": {},
   "outputs": [],
   "source": [
    "def add_in_DB_files_description():\n",
    "    new_files = files_creation_and_information()\n",
    "    for index in range( len(new_files) ):\n",
    "        if new_files[index][1] != '':\n",
    "            path = new_files[index][0]\n",
    "            name, extension = os.path.splitext(path)\n",
    "            name, extension = [os.path.basename(name), extension[1:]]\n",
    "            resource_id = new_files[index][1]\n",
    "            \n",
    "            insert_file_resource_description(name, extension, resource_id, path)\n",
    "\n",
    "#add_in_DB_files_description()"
   ]
  },
  {
   "cell_type": "markdown",
   "metadata": {
    "jp-MarkdownHeadingCollapsed": true
   },
   "source": [
    "# Основной код"
   ]
  },
  {
   "cell_type": "code",
   "execution_count": 127,
   "metadata": {
    "colab": {
     "base_uri": "https://localhost:8080/"
    },
    "id": "RGc4YPtekbx9",
    "outputId": "b8e5adcc-8022-40d1-b79b-c0ced6229189",
    "scrolled": true
   },
   "outputs": [
    {
     "data": {
      "text/plain": [
       "[['http://51.250.4.123/moodle/mod/forum/view.php?id=1',\n",
       "  'backup/activities/forum_1/forum.xml',\n",
       "  'forum',\n",
       "  'Объявления',\n",
       "  [['1', '0', '2', '<p>Текст для тестовой темы</p>'],\n",
       "   ['2',\n",
       "    '1',\n",
       "    '2',\n",
       "    '<div class=\"text_to_html\">Тут будет ответ на эту тему</div>'],\n",
       "   ['3', '2', '2', '<div class=\"text_to_html\">А тут ответ на ответ</div>'],\n",
       "   ['4',\n",
       "    '1',\n",
       "    '2',\n",
       "    '<div class=\"text_to_html\">А тут еще один ответ на эту тему</div>']],\n",
       "  '12',\n",
       "  1],\n",
       " ['http://51.250.4.123/moodle/mod/book/view.php?id=25',\n",
       "  'backup/activities/book_25/book.xml',\n",
       "  'book',\n",
       "  'Книга 123',\n",
       "  '<h1>Глава 1</h1> <p>Содерживмое первой главы<br>123</p> <p>456</p> <p>И еще что-то</p>',\n",
       "  '44',\n",
       "  2],\n",
       " ['http://51.250.4.123/moodle/mod/page/view.php?id=3',\n",
       "  'backup/activities/page_3/page.xml',\n",
       "  'page',\n",
       "  'Информация по экзамену',\n",
       "  '<h3>Требования по допуску к экзамену</h3> <ol> <li>Выполнить МООК по теме \"Программирование на С++\"</li> <li>Выполнить все лабораторные</li> <li>Выполнить контрольную</li> <li>Сдать тест</li> </ol> <h3>Теоретические вопросы к экзамену</h3> <ol id=\"yui_3_17_2_1_1706313316445_283\"> <li> <p>Понятия системы программирования, языка программирования, программы. Архитектуры ЭВМ. Адресное пространство.</p> </li> <li>Алгоритм. Определение и свойства. Способы описания алгоритмов. Блок-схемы: основные элементы и принципы организации.</li> <li>Уровни языков программирования. Трансляция программ. Базовые принципы.</li> <li>Структурное программирование. Виды вычислительных процессов. Утверждение структурного программирования. Идеи Дейкстры.</li> <li>Назначение таблицы внешних спецификаций. Назначение тестирования и отладки программы. Таблица тестов.</li> <li>Структура программы С++. Идентификаторы в С++.</li> <li>Описание переменных в программе. Фундаментальные типы данных С++.</li> <li>Виды констант программы.</li> <li>Выражения. Приоритет операций.</li> <li>Арифметические операции, операции отношения, логические операции.</li> <li>Инкремент и декремент. Особенности постфиксной и префиксной записи.</li> <li>Операция запятая, размер, тернарная операция.</li> <li>Операторы следования и перехода (передачи управления).</li> <li>Условный оператор и оператор выбора (switch).</li> <li>Операторы цикла, их особенности и различия</li> <li>Строки. Основные функции для работы со строками</li> <li>Потоки ввода-вывода. Базовые принципы. Текстовые и двоичные потоки. Стандартные потоки ввода-вывода. Примеры С++.</li> <li>Стандартные потоки ввода-вывода. Извлечение из потока и включение в поток. Манипуляторы потоков. Строковые потоки С++.</li> <li>Статические массивы: одномерные и многомерные</li> <li>Методы сортировки пузырьком и вставками</li> <li>Быстрая сортировка</li> <li>Сортировка слиянием</li> <li>Пирамидальная сортировка</li> <li> <p>Виды памяти: статическая, автоматическая, динамическая память. Пример схемы распределения.</p> </li> <li>Автоматическая память. Подробно про жизненный цикл её элементов. Стек.</li> <li>Динамическая память. Подробно про жизненный цикл её элементов. Особенности new и delete. Сборка мусора. Базовые принципы.</li> <li>Указатели. Определение, размер, особенности (нулевые, void*)</li> <li>Указатели. 4 базовые операции. Арифметика указателей.</li> <li>Ссылки.</li> <li>Динамические массивы: одномерные</li> <li>Динамические массивы: многомерные</li> <li>Функциональная декомпозиция программы. Схема иерархии функций программы. Таблицы спецификаций функций.</li> <li>Объявление и определение функции С++. Параметры функции.</li> <li>Вызов функции. Возврат значений из функции. Кадр стека функции.</li> <li>Передача параметров в функцию с использованием указателей и ссылок.</li> <li>Способы передачи массивов в функцию на примере С++. Особенности.</li> <li>Рекурсия.</li> <li>Разбиение программы на модули, примеры на С++.</li> <li>Область действия переменной и область видимости переменной</li> <li>Глобальные переменные: объявление, обращения, использование в нескольких модулях.</li> <li>Препроцессор, примеры директив препроцессора</li> <li>Алгоритм сборки программы, примеры на С++</li> <li>Пользовательские типы данных С++: перечисление, объединение, псевдонимы.</li> <li>Пользовательские типы данных С++: структура. Объявление, инициализация, создание объектов (к понятию о фабричной функции).</li> <li>Пользовательские типы данных С++: структура и методы. Ключевое слово this.</li> <li>Указатели на функцию и делегирование (на примере С++ или C#)</li> <li>Перегрузка функций (на примере С++ или C#).</li> <li>Перегрузка операций (на примере С++ или C#).</li> <li>Сборка программы из нескольких файлов (cpp, h)</li> <li>Потоки и работа с файлами (на примере С++)</li> <li>Представление в ЭВМ целых чисел без знака: коды, операции, особенности использования.</li> <li>Представление в ЭВМ целых чисел со знаком: коды, операции, особенности использования.</li> <li>Представление в ЭВМ действительных чисел: формы представления, стандарт IEEE 754 (формулировка, перевод числа, особенности операций).</li> <li>Абстрактные структуры данных: определения, примеры.</li> <li>Абстрактная структура данных – список: структура и классификация.</li> <li>Односвязный линейный список: алгоритм основных операций.</li> <li>Стек и очередь: основные операции и реализация на С++</li> <li>Бинарное дерево поиска: определение, операции поиска, вставки, удаления.</li> <li>Бинарное дерево поиска: обход в глубину и ширину.</li> <li>Сбалансированное дерево поиска: определение и примеры.</li> <li>Абстрактная структура данных – хеш-таблица: определение, структура, операции</li> <li>Абстрактные структуры данных: ассоциативный массив (отображение, карта, словарь), множество, мультимножество</li> <li>Основные принципы обобщенного программирования</li> <li>Основные типы контейнеров библиотеки STL, примеры использования</li> <li>Итераторы на примере библиотеки STL</li> <li>Принципы работы машина Тьюринга</li> <li id=\"yui_3_17_2_1_1706313316445_282\">Основные тенденции развития языков программирования</li> </ol> <h3>Примеры практических заданий</h3> <ol> <li>Составить и протестировать программу для целых квадратных матрицы порядка 2&lt;=n&lt;=10. Найти k1-количество элементов ниже побочной диагонали матрицы C, меньших a, и k2-количество элементов ниже побочной диагонали матрицы Т, меньших b. Если k1&lt;k2, найти F=T+2k1C, иначе найти H=2C-k2T.</li> <li>Дополнительно заданы два целых числа k и m. Найти n – количество не равных k элементов матрицы C, и l-количество не равных m элементов матрицы T.\\\\xa0 Если n&gt;l, то найти H=Tt*C+k*T, иначе найти F=Ct*T+l*C, где Tt, Ct- транспонированные матрицы для T и C, соответственно.</li> <li>Составить программу добавления узла в линейный двунаправленный список с сохранением упорядоченности по ключу</li> <li>Составить и протестировать программу поиска узла в линейном однонаправленном списке (не по уникальному ключу).\\\\xa0<span lang=\"EN-US\">Результат сохранить в массив или вектор STL.</span></li> <li><span lang=\"EN-US\">Составить и протестировать программу упорядочения элементов линейного однонаправленного списка по возрастанию ключа<br></span></li> <li><span lang=\"EN-US\">Составить программу удаления узла из бинарного дерева поиска</span></li> </ol>',\n",
       "  '19',\n",
       "  3],\n",
       " ['http://51.250.4.123/moodle/mod/choice/view.php?id=4',\n",
       "  'backup/activities/choice_4/choice.xml',\n",
       "  'choice',\n",
       "  'Предсессионный опрос',\n",
       "  'Соответствует ли содержание курса «Программирование» в первом семестре Вашим ожиданиям?, Хотели бы вы сменить базовый языка курса «Программирование» с С++ на Python? При этом имея ввиду «особенности» Python и невозможность его использования для более глубоко изучения некоторых тем курса «Программирование»., Считаете ли Вы объём выполняемых лабораторных заданий завышенным?, Стоит ли глубже изучать тему работы с массивами?, Стоит ли глубже изучать работу со строками?, Стоит ли глубже изучать специфику языка С++?, Собирались ли Вы в будущем профессионально заниматься программированием (до поступления)?, Собираетесь ли Вы в будущем профессионально заниматься программированием (после изучения курса)?',\n",
       "  '20',\n",
       "  4],\n",
       " ['http://51.250.4.123/moodle/mod/scheduler/view.php?id=5',\n",
       "  'backup/activities/scheduler_5/scheduler.xml',\n",
       "  'scheduler',\n",
       "  'Запись на консультации',\n",
       "  [['1', '2', '1713535200', '15', '<p>Примечание123</p>']],\n",
       "  '21',\n",
       "  5],\n",
       " ['http://51.250.4.123/moodle/mod/resource/view.php?id=6',\n",
       "  'backup/activities/resource_6/resource.xml',\n",
       "  'resource',\n",
       "  'Стандарты оформления в ИРНИТУ',\n",
       "  None,\n",
       "  '22',\n",
       "  6],\n",
       " ['http://51.250.4.123/moodle/mod/feedback/view.php?id=7',\n",
       "  'backup/activities/feedback_7/feedback.xml',\n",
       "  'feedback',\n",
       "  'Опрос: начальные компетенции',\n",
       "  ['Имеете ли Вы опыт в .... ?, Какой язык программирования Вы изучали?, Какие оператора языка Вы знаете?, С какими типы данных вы работали (не зависимо от языка)?, С какими типы данных вы работали на языке С++ или С?, Умеете ли Вы создавать и использовать  функции?, С каким средствами поиска и представления информации вы знакомы?, Осознаёте ли Вы, что работы по дисциплине \"Программирование\" предполагает самостоятельную работу по поиску информации, необходимую для выполнения заданий?, Какие средства разработки Вы использовали?, Какие средства редактирования информации Вы использовали?',\n",
       "   '[Изучении программирования, Написании неучебных программ, В области программирования как профессионального работника, Нет никакого опыта], [С++, Python, Javascript, Visual Basic, Pascal, C#, Другой язык высокого уровня, Не знаю языков программирования], [Развилка (if...then), Цикл с параметром(for....), Цикл с пред и пост условием (while, ..., do ... while), Цикл по коллекции (foreach ..., for (type &item : set) ), Выбор (switch ... case), Операторы передачи управления (break, continue)], [Символы, Строки, Булевы, Целые числа, Действительные числа, Статический массив, Динамический массив, Пользовательский тип, Потоки ввода-вывода], [Символы, Строки, Булевы, Целые числа, Действительные числа, Статический массив, Динамический массив, Пользовательский тип, Потоки ввода-вывода], [Создавал функции в других языках программирования, Создавал функции в С или С++, Использовал, но не создавал функции, Не знаю, что такое функции в программировании], [Печатные материалы (книги, учебные пособия), Электронные материалы (форматы файлов pdf, djvu), Поисковые системы (Yandex, Google,...), Видео лекции и руководства (Youtube, ...), Языковые виртуальные ассистенты (ChatGPT, Bard, ...), Массовый открытый онлайн-курс (stepik.org, ...), Электронное обучение ИРНИТУ (https://el.istu.edu/)], [Да, Нет], [Visual Studio, VS Code, IDE от JetBrains (CLion, ...), IDE от Embarcadero Technologies (С++ Builder,...), Repl, Веб-страницы (onlinegdb.com, programiz.com, ...), Другие средства, Не использовал никаких], [Редактор текстовых документов (Word, ...), Редактор блок-схем (Word, draw.io, ...), Редактор презентацией (Power Point, ...), Простые редакторы (paint, notepad/блокнот, ...), Не использовал]'],\n",
       "  '23',\n",
       "  7],\n",
       " ['http://51.250.4.123/moodle/mod/survey/view.php?id=8',\n",
       "  'backup/activities/survey_8/survey.xml',\n",
       "  'survey',\n",
       "  'Анкета тест 1 COLLESф',\n",
       "  '25, 26, 27, 28, 29, 30, 43, 44',\n",
       "  '24',\n",
       "  8],\n",
       " ['http://51.250.4.123/moodle/mod/book/view.php?id=9',\n",
       "  'backup/activities/book_9/book.xml',\n",
       "  'book',\n",
       "  'Введение в программирование',\n",
       "  '<h1>Глава 1.</h1> <p>1</p> <h1>Глава 2</h1> <p>тут будет</p> <p>что-то новое</p> <p>А может и нет</p> <h1>Глава 3</h1> <p>авппы вау пык ры прй уцек рыапр\\\\xa0</p> <p>апвыпрыкр па врпц5 еы ав</p> <p>\\\\xa0вапы прц45 рап вр увкпа</p> <p>пывг56овпр окыьв\\\\xa0</p> <p>аывпппппыыыыыыыыыыыыыыыыыыыыыыыыыыыыыыыыыыы пваыапапвпыпаыпцукрцр пваааааааааааааааааааааааааааа р епреваркеорыпар</p>',\n",
       "  '25',\n",
       "  9],\n",
       " ['http://51.250.4.123/moodle/mod/lesson/view.php?id=10',\n",
       "  'backup/activities/lesson_10/lesson.xml',\n",
       "  'lesson',\n",
       "  'Введение в программирование',\n",
       "  None,\n",
       "  '26',\n",
       "  10],\n",
       " ['http://51.250.4.123/moodle/mod/assign/view.php?id=11',\n",
       "  'backup/activities/assign_11/assign.xml',\n",
       "  'assign',\n",
       "  'Отчёт по лабораторной',\n",
       "  None,\n",
       "  '27',\n",
       "  11],\n",
       " ['http://51.250.4.123/moodle/mod/quiz/view.php?id=12',\n",
       "  'backup/activities/quiz_12/quiz.xml',\n",
       "  'quiz',\n",
       "  'Тест по основам программирования',\n",
       "  '60, 61, 62, 63, 64, 65, 66, 67, 68, 69, 70, 71, 72, 73, 74, 75, 76, 77',\n",
       "  '28',\n",
       "  12],\n",
       " ['http://51.250.4.123/moodle/mod/glossary/view.php?id=26',\n",
       "  'backup/activities/glossary_26/glossary.xml',\n",
       "  'glossary',\n",
       "  'Терминологический словарь',\n",
       "  [['Формула программы',\n",
       "    '<p dir=\"ltr\" style=\"text-align: left;\">По А.Б. Столбову</p><p dir=\"ltr\" style=\"text-align: left;\"></p><div><strong>Программа = Данные + Алгоритм +&nbsp; Язык + Исполнитель</strong></div><br><div><strong>Исполнитель = Процессор + Память + Устройства ввода/вывода</strong></div><br><div><div><strong>Процессор&nbsp; = Вычисление + Управление</strong></div></div><br><p></p>'],\n",
       "   ['Алгоритм',\n",
       "    '<p dir=\"ltr\" style=\"text-align: left;\"></p><div>Алгоритм – это описание последовательности действий, необходимых для решения задачи</div><div><br></div><div><div><ul><li><strong>Массовость </strong>– алгоритм должен описывать не одну конкретную задачу, а группу подобных задач</li><ul><li>Например, не решение одного конкретного квадратного уравнения,&nbsp;<span style=\"font-size: 0.9375rem;\">а любого квадратного уравнения</span></li></ul><li><strong>Детерминированность </strong>-&nbsp; алгоритм должен всегда давать один и тот же результат при одних исходных данных</li><li><strong>Результативность </strong>-&nbsp; алгоритм должен давать какой-то результат для любого варианта исходных данных<br></li><ul><li>Например, если решается квадратное уравнение, то должны быть предусмотрены случаи</li><ul><li>Существует два различных действительных&nbsp; корня</li><li><div>Существует два равных действительных</div></li><li><div><div>Нет действительных корней</div></div></li><li><div><div>Уравнение вырождено </div><br></div></li></ul></ul></ul></div><div><div><span style=\"font-size: 0.9375rem;\"><br></span></div><div><span style=\"font-size: 0.9375rem;\"><br></span></div><div><span style=\"font-size: 0.9375rem;\"><br></span></div><br></div><div><br></div><br></div><br><p></p>'],\n",
       "   ['Тип данных',\n",
       "    '<p dir=\"ltr\" style=\"text-align: left;\"></p><div><div><p></p><p>КРАТКО</p><p></p><p><u>Тип переменной определяет</u>:</p><div>- диапазон возможных значений;</div><div>- способ хранения в памяти;</div><div>- допустимые операции.</div><div><br></div>ПОДРОБНО<br><p></p><p><u>Тип переменной определяет</u>:</p><ul><li>диапазон изменения значения, задавая размер ее внутреннего представления;</li><li>множество операций, которые могут выполняться над переменной</li><li>способ хранения данных</li><ul><li>требуемое для переменной количество памяти при ее начальном распределении</li><li>интерпретацию двоичного кода значений при последующих обращениях к переменным.</li></ul><li><span style=\"font-size: 0.9375rem;\">Кроме того, тип используется для контроля типов с целью обнаружения возможных случаев недопустимого присваивания.</span></li><li>В С++ стандартно определено большое количество типов, которые программист может использовать без предварительного описания.</li></ul><br><p></p></div><div><div><span style=\"font-size: 0.9375rem;\"><br></span></div><br></div><div><br></div><br></div><br><p></p>'],\n",
       "   ['Выражение',\n",
       "    '<p dir=\"ltr\" style=\"text-align: left;\"></p><div><strong><span>Выражение</span></strong>– это синтаксическая единица языка, определяющая способ вычисления некоторого значения. Выражения состоят из </div><div><ul><li>операндов, </li><li>знаков операций, </li><li>скобок. </li></ul></div><div>Каждый <strong>операнд </strong>является в свою очередь выражением или одним из его частных случаев</div><div><ul><li>константой,</li><li>переменной,</li><li>функций</li></ul><p></p><div><strong>Операция </strong>- это действие, производимое над операндами</div><div><strong>Знак операции</strong>&nbsp;- предопределённый символ или группа символов, предписывающие выполнить некоторую<br></div><div><div><br></div><div>Значение выражения зависит от</div><div><ul><ul><li>расположения знаков операций </li><li>круглых скобок в выражении,</li><li>от приоритета выполнения операций</li></ul></ul></div><br></div><br><p></p></div><p></p>'],\n",
       "   ['Интерфейс и реализация функции',\n",
       "    '<p dir=\"ltr\" style=\"text-align: left;\"></p><p>Каждая функция имеет свой интерфейс и реализацию. </p><p></p><p>&nbsp; <strong>Интерфейс функции</strong>&nbsp;&nbsp; –&nbsp;&nbsp; заголовок&nbsp;&nbsp; функции,&nbsp; в котором указывается название функции,&nbsp; список ее параметров и тип возвращаемого значения.</p><p>&nbsp; <strong>Реализация функции&nbsp;</strong>&nbsp; &nbsp;–&nbsp;&nbsp;&nbsp; тело&nbsp;&nbsp;&nbsp; функции, содержащее внутренние (локальные) данные функции и&nbsp; программный&nbsp; код,&nbsp; выполняющий действия&nbsp; согласно переданным в функцию параметрам и возвращающий значение, соответствующего интерфейсу функции типа. </p><br><p></p>'],\n",
       "   ['Аллокатор',\n",
       "    '<p dir=\"ltr\" style=\"text-align: left;\"><strong>Аллокатор&nbsp;</strong>(распределитель памяти) — это часть программы, которая запрашивает память большими кусками напрямую у ОС через системные вызовы, а затем предоставляет память частями по мере необходимости<br></p>'],\n",
       "   ['Сборка мусора',\n",
       "    '<p dir=\"ltr\" style=\"text-align: left;\"><strong>Сборка мусора</strong>&nbsp;(garbage collection) &nbsp;— одна из форм автоматического управления&nbsp;памятью.<br></p>'],\n",
       "   ['Алгоритм передачи параметров в функцию',\n",
       "    '<p dir=\"ltr\" style=\"text-align: left;\"></p><div><ol><li>Вычисляются значения выражений, стоящие на месте фактических параметров</li><li>В стеке выделяется память&nbsp; под формальные параметры функции;</li><li>Каждому формальному параметру присваивается значение фактического параметра, при этом проверяются соответствия типов и при необходимости выполняются их преобразования.</li><li>В стек заносятся копии значений аргументов, и операторы функции работают с этими копиями. Доступа к исходным значениям параметров у функции нет, а, следовательно, нет и возможности их изменить</li></ol></div><p></p>'],\n",
       "   ['Регистр процессора',\n",
       "    '<p dir=\"ltr\" style=\"text-align:left;\"></p><p>Регистр\\xa0процессора\\xa0— поле заданной длины во\\xa0<a href=\"https://ru.wikipedia.org/wiki/%D0%9F%D1%80%D0%BE%D1%86%D0%B5%D1%81%D1%81%D0%BE%D1%80\">внутрипроцессорной</a>\\xa0сверхбыстрой\\xa0<a href=\"https://ru.wikipedia.org/wiki/%D0%9E%D0%BF%D0%B5%D1%80%D0%B0%D1%82%D0%B8%D0%B2%D0%BD%D0%B0%D1%8F_%D0%BF%D0%B0%D0%BC%D1%8F%D1%82%D1%8C\">оперативной памяти</a>\\xa0(СОЗУ). Используется самим процессором, может быть как доступным, так и недоступным программно. Например, при выборке из памяти очередной команды она помещается в\\xa0<a href=\"https://ru.wikipedia.org/wiki/%D0%A0%D0%B5%D0%B3%D0%B8%D1%81%D1%82%D1%80_%D0%BA%D0%BE%D0%BC%D0%B0%D0%BD%D0%B4\">регистр команд</a>, обращение к которому программист прописать не может.</p><br /><p></p>'],\n",
       "   ['Языки низкого уровня',\n",
       "    '<p dir=\"ltr\" style=\"text-align:left;\">Языки программирования, ориентированные на команды процессора и учитывающие его особенности, называются\\xa0<strong>языками низкого уровня</strong><br /></p>'],\n",
       "   ['Исключение',\n",
       "    '<p dir=\"ltr\" style=\"text-align: left;\"><strong>Исключения</strong>&nbsp;– э<span>то ошибки, возникающие во время работы программы.&nbsp;</span><br></p>'],\n",
       "   ['Словесное описание алгоритма',\n",
       "    '<p dir=\"ltr\" style=\"text-align: left;\"><span><strong>Словесное описание алгоритма&nbsp;</strong></span><em>&nbsp;</em>- это последовательность пронумерованных шагов, описывающих решение задачи. Шаги могут иметь многоуровневую нумерацию, чтобы показать, что одни шаги являются частью других шагов.<br></p>'],\n",
       "   ['Блок-схема',\n",
       "    '<p dir=\"ltr\" style=\"text-align: left;\"></p><p><span><strong>Блок-схема решения задачи</strong></span><em>–</em>графическое изображение алгоритма в виде взаимосвязанных блоков. </p><img src=\"@@PLUGINFILE@@/image.png\" alt=\"\" role=\"presentation\"><br><p></p>'],\n",
       "   ['Терминал',\n",
       "    '<p dir=\"ltr\" style=\"text-align: left;\"></p><p><b>Терминалом</b>называют программу, которая эмулирует поведение \"железного\"терминала, состоящего из клавиатуры и монитора. В простейшем случае — это просто окошко с командной строкой внутри. Хорошие терминалы также умеют разделять окно на части, открывать новые терминалы во вложенных вкладках (также как в браузере), восстанавливать завершённую сессию, создавать профили под разные задачи и многое другое.</p><br><p></p>'],\n",
       "   ['Командный интерпретатор',\n",
       "    '<p dir=\"ltr\" style=\"text-align: left;\"></p><p><a name=\"_Hlk94984505\"><b>Командный интерпретатор </b></a><b>–</b>компьютерная программа, часть операционной системы, обеспечивающая базовые возможности управления компьютером посредством интерактивного ввода команд через интерфейс командной строки или последовательного исполнения пакетных командных файлов. Командный интерпретатор (или командная оболочка, или, командный процессор, или shell) запускается внутри терминала.</p><br><p></p>'],\n",
       "   ['Операция сдвига',\n",
       "    '<p dir=\"ltr\" style=\"text-align: left;\"></p><p dir=\"ltr\"><strong>Операция сдвига&nbsp;</strong>– это одновременное перемещение значений битов операнда на фиксированное количество разрядов влево или вправо.</p><p dir=\"ltr\"></p><div><ul><li>Различают три типа сдвига</li><ul><li><strong>Логический&nbsp;</strong>– освобожденные регистры заполняются нулями.</li><li><strong>Арифметический&nbsp;</strong>– выполняется с учётом знака операнда и зависит от кода числа</li><li><strong>Циклический&nbsp;</strong>– значения выдвигаемых битов записываются на место освобождаемых.</li></ul></ul></div><br><p></p>'],\n",
       "   ['Погрешность операций',\n",
       "    '<p dir=\"ltr\" style=\"text-align: left;\"></p><div><ul><li>x&nbsp;— приближённое значение некоторой величины&nbsp;x*. </li><li>|x&nbsp;–&nbsp;x*| – это абсолютная погрешность&nbsp; x</li><li>|x&nbsp;–&nbsp;x*|/|x*| – это относительная погрешность&nbsp;x,&nbsp;при условии&nbsp;x*&nbsp;≠ 0</li></ul></div><br><p></p>'],\n",
       "   ['Машинная эпсилон',\n",
       "    '<p dir=\"ltr\" style=\"text-align: left;\"></p><ul><li><strong>Машинная эпсилон –</strong>&nbsp;наибольшее положительное число&nbsp;ε, такое что,&nbsp;1⊕ε=1, где&nbsp;⊕&nbsp;- машинное сложение</li><ul><li>компьютер не различает числа&nbsp;x&nbsp;и&nbsp;y, если&nbsp;1&lt;x/y&lt;1+ε</li></ul><li><strong>Машинная эпсилон&nbsp;</strong>– числовое значение, меньше которого невозможно задавать относительную точность для любого алгоритма, возвращающего&nbsp;вещественные числа, т.е. такое минимальное ε, что 1+ε&gt;1</li><ul><li>компьютер не различает числа&nbsp;x&nbsp;и&nbsp;y, если |x-y|&lt;ε</li><li>ε = 2−23 ≈ 1.19e-07 для float в С++</li></ul></ul><br><p></p>'],\n",
       "   ['Когорта',\n",
       "    '<p dir=\"ltr\" style=\"text-align: left;\"></p><p>Когорта – совокупность представлений&nbsp;</p><p>0,01 =(-1)0×1×10-2=(-1)0×10×10-3=(-1)0×0,1×10-1</p><p></p><br><p></p>'],\n",
       "   ['Нормальная форма',\n",
       "    '<p dir=\"ltr\" style=\"text-align: left;\">Нормальная форма, если mantissa&nbsp;\\\\(  \\\\in  \\\\) [0,1)<br></p><p dir=\"ltr\" style=\"text-align: left;\"></p><p>0,01 = (-1)0×0,1×10-1 = (-1)0×0,001×102</p><br><p></p>'],\n",
       "   ['Автоматическая память',\n",
       "    '<p dir=\"ltr\" style=\"text-align: left;\"><strong>Автоматическая память</strong>&nbsp;— это область памяти, резервируемая при запуске программы до вызова главной функции (main) из свободной оперативной памяти и используемый в дальнейшем для размещения локальных данных.<br></p>'],\n",
       "   ['Препроцессор',\n",
       "    '<p dir=\"ltr\" style=\"text-align: left;\"></p><p dir=\"ltr\"><strong>Препроцессор&nbsp;</strong>– программа, осуществляющая обработку&nbsp;&nbsp; текста&nbsp;&nbsp;&nbsp; программы&nbsp;&nbsp; перед&nbsp; ее непосредственной компиляцией. Обработка осуществляется согласно специальным указаниям, называемым директивами препроцессора.<br></p><p dir=\"ltr\"><br></p><br><p></p>'],\n",
       "   ['Директива препроцессора',\n",
       "    '<p dir=\"ltr\" style=\"text-align: left;\"></p><div><p><strong>Директива препроцессора</strong>&nbsp;– это инструкция, которая включает в текст программы файл, содержащий описание множества функций, что позволяет правильно компилировать программу.<br></p></div><div><ul><li>все директивы препроцессора начинаются со знака #</li><li>после директивы препроцессора точка с запятой&nbsp;<u>не ставится</u></li></ul></div><br><p></p>'],\n",
       "   ['Макроопределение',\n",
       "    '<p dir=\"ltr\" style=\"text-align: left;\"><strong>Макросом&nbsp;</strong>или макроопределением называется идентификатор, связанный директивой #define с лексемой или последовательностью лексем<br></p>'],\n",
       "   ['Функциональная декомпозиция',\n",
       "    '<p dir=\"ltr\" style=\"text-align: left;\"><b>Функциональная декомпозиция</b>&nbsp;– это метод разработки программ, при котором задача разбивается на ряд легко решаемых подзадач, решения которых в совокупном виде дают решение исходной задачи в целом.&nbsp;<br></p>'],\n",
       "   ['Функция',\n",
       "    '<p dir=\"ltr\" style=\"text-align: left;\"><b>Функция</b>&nbsp;– это совокупность объявлений и операторов, обычно предназначенная для решения определенной задачи.&nbsp;<br></p>'],\n",
       "   ['Рекурсия',\n",
       "    '<p dir=\"ltr\" style=\"text-align: left;\"><b><i>Рекурсия</i></b>&nbsp;(от латинского recursio – возвращение) – это такой способ организации вычислений, при котором процедура или функция в ходе выполнения обращается сама к себе. Рекурсия является одной из фундаментальных концепций в математике и программировании. Рекурсия также может рассматриваться как одна из форм мышления, это мощное средство, позволяющее строить элегантные и выразительные алгоритмы.<br></p>'],\n",
       "   ['Статическая память',\n",
       "    '<p dir=\"ltr\" style=\"text-align: left;\"><strong>Статическая память</strong>&nbsp;— это область памяти, выделяемая при запуске программы до вызова главной функции (main) из свободной оперативной памяти для размещения глобальных и статических данных программы.<br></p>'],\n",
       "   ['Динамическая память',\n",
       "    '<p dir=\"ltr\" style=\"text-align: left;\"><strong>Динамическая память</strong>&nbsp;— это совокупность блоков памяти, выделяемых из доступной свободной оперативной памяти непосредственно во время выполнения программы под размещение конкретных данных<br></p>'],\n",
       "   ['Кадр стека функции',\n",
       "    '<p dir=\"ltr\" style=\"text-align: left;\"><strong>Кадр стека функции (stack frame)&nbsp;</strong>— часть стека, сформированный одним вызовом функции. Механизм передачи аргументов и выделения временной памяти с использованием&nbsp;системного стека<br><br></p>'],\n",
       "   ['Переменная',\n",
       "    '<p dir=\"ltr\" style=\"text-align: left;\"><strong>Переменная&nbsp;</strong>– это именованная область памяти.<br></p><p dir=\"ltr\" style=\"text-align: left;\">Имя переменной – это ссылка на некоторую область памяти.<br></p>'],\n",
       "   ['Область действия идентификатора',\n",
       "    '<p dir=\"ltr\" style=\"text-align: left;\"></p><div><strong>Область действия</strong>&nbsp;(ОД) идентификатора (имени) - это часть программы, в которой можно обращаться к данному имени (сфера действия&nbsp;имени в программе)<br></div><br><br><p></p>'],\n",
       "   ['Область видимости',\n",
       "    '<p dir=\"ltr\" style=\"text-align: left;\"><strong>Область видимости&nbsp;</strong>(ОВ) – это часть программы, в которой обращение к имени переменной&nbsp;позволяет обратиться к участку памяти, связанному с данной переменной:<br><br></p>'],\n",
       "   ['Отладка программы',\n",
       "    '<p dir=\"ltr\" style=\"text-align: left;\"></p><p><strong>Отладка </strong>(debug, debugging) – процесс поиска, локализации и исправления ошибок в программе.<br></p><p><br></p><br><p></p>']],\n",
       "  '46',\n",
       "  13]]"
      ]
     },
     "execution_count": 127,
     "metadata": {},
     "output_type": "execute_result"
    }
   ],
   "source": [
    "#all_files_read()\n",
    "#all_files_import()"
   ]
  }
 ],
 "metadata": {
  "colab": {
   "collapsed_sections": [
    "qHNlpN74kd3b",
    "SliYKrKskoQu"
   ],
   "provenance": []
  },
  "kernelspec": {
   "display_name": "Python 3 (ipykernel)",
   "language": "python",
   "name": "python3"
  },
  "language_info": {
   "codemirror_mode": {
    "name": "ipython",
    "version": 3
   },
   "file_extension": ".py",
   "mimetype": "text/x-python",
   "name": "python",
   "nbconvert_exporter": "python",
   "pygments_lexer": "ipython3",
   "version": "3.12.3"
  }
 },
 "nbformat": 4,
 "nbformat_minor": 4
}
