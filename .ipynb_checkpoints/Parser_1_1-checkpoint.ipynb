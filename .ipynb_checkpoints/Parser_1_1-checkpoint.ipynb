{
 "cells": [
  {
   "cell_type": "markdown",
   "metadata": {
    "id": "eTHVrO-XDbv6"
   },
   "source": [
    "# **Парсер для LMS Moodle**"
   ]
  },
  {
   "cell_type": "markdown",
   "metadata": {
    "id": "Q3rpZws1QJBf"
   },
   "source": [
    "# Функции и библиотеки"
   ]
  },
  {
   "cell_type": "code",
   "execution_count": 1,
   "metadata": {
    "id": "B1inMDi7QvMp"
   },
   "outputs": [],
   "source": [
    "import xml.etree.ElementTree as ET"
   ]
  },
  {
   "cell_type": "code",
   "execution_count": 2,
   "metadata": {
    "id": "pVdFzS18DCvo"
   },
   "outputs": [],
   "source": [
    "#функции\n",
    "\n",
    "#вывод по тегу\n",
    "def find_by_tag (file, tag):\n",
    "  tree = ET.parse(file)\n",
    "  root = tree.getroot()\n",
    "  res = \"\"\n",
    "  for text_in_root in root.iter(tag):\n",
    "    res += str(text_in_root.text)\n",
    "    res += \"\\n\"\n",
    "  listRes = list(res.split(\"\\n\"))\n",
    "  return listRes\n",
    "\n",
    "#вывод всего файла\n",
    "def read_all(file):\n",
    "  tree = ET.parse(file)\n",
    "  s = ET.dump(tree)\n",
    "  return s"
   ]
  },
  {
   "cell_type": "markdown",
   "metadata": {
    "id": "qHNlpN74kd3b",
    "jp-MarkdownHeadingCollapsed": true
   },
   "source": [
    "# course.xml"
   ]
  },
  {
   "cell_type": "code",
   "execution_count": 3,
   "metadata": {
    "colab": {
     "base_uri": "https://localhost:8080/",
     "height": 0
    },
    "id": "_yFeNX_oQaky",
    "outputId": "58f2f3f0-e215-4a85-a4af-a4b7fd594ecf"
   },
   "outputs": [
    {
     "data": {
      "text/plain": [
       "'\\n#взаимодейтсвие файлом course.xml\\n\\nfile = \"course.xml\"\\nprint(read_all(file))\\n\\n#выводим название курса\\n#print(\"Название курса:\", find_by_teg (file, \"fullname\") )\\n'"
      ]
     },
     "execution_count": 3,
     "metadata": {},
     "output_type": "execute_result"
    }
   ],
   "source": [
    "\"\"\"\n",
    "#взаимодейтсвие файлом course.xml\n",
    "\n",
    "file = \"course.xml\"\n",
    "print(read_all(file))\n",
    "\n",
    "#выводим название курса\n",
    "#print(\"Название курса:\", find_by_teg (file, \"fullname\") )\n",
    "\"\"\""
   ]
  },
  {
   "cell_type": "markdown",
   "metadata": {
    "id": "SliYKrKskoQu",
    "jp-MarkdownHeadingCollapsed": true
   },
   "source": [
    "# roles.xml"
   ]
  },
  {
   "cell_type": "code",
   "execution_count": 4,
   "metadata": {
    "colab": {
     "base_uri": "https://localhost:8080/",
     "height": 0
    },
    "id": "XM2PX1a2Qtk3",
    "outputId": "fe17d021-6fc8-40c6-a9d6-2a8e8f3ca26f"
   },
   "outputs": [
    {
     "data": {
      "text/plain": [
       "'\\n#вывод ролей из файла roles\\nfile = \"roles.xml\"\\ntag = \"shortname\"\\n\\nres = find_by_tag(file,tag)\\n\\nprint(res)\\n#print( read_all(\"roles.xml\") )\\n'"
      ]
     },
     "execution_count": 4,
     "metadata": {},
     "output_type": "execute_result"
    }
   ],
   "source": [
    "\"\"\"\n",
    "#вывод ролей из файла roles\n",
    "file = \"roles.xml\"\n",
    "tag = \"shortname\"\n",
    "\n",
    "res = find_by_tag(file,tag)\n",
    "\n",
    "print(res)\n",
    "#print( read_all(\"roles.xml\") )\n",
    "\"\"\""
   ]
  },
  {
   "cell_type": "markdown",
   "metadata": {
    "id": "2HhQi1r6k9qq"
   },
   "source": [
    "# moodle_backup.xml"
   ]
  },
  {
   "cell_type": "code",
   "execution_count": 5,
   "metadata": {
    "colab": {
     "base_uri": "https://localhost:8080/"
    },
    "id": "RGc4YPtekbx9",
    "outputId": "b8e5adcc-8022-40d1-b79b-c0ced6229189"
   },
   "outputs": [
    {
     "name": "stdout",
     "output_type": "stream",
     "text": [
      "['activities/forum_1', 'activities/page_3', 'activities/choice_4', 'activities/scheduler_5', 'activities/resource_6', 'activities/feedback_7', 'activities/survey_8', 'activities/book_9', 'activities/lesson_10', 'activities/assign_11', 'activities/quiz_12', 'sections/section_1', 'sections/section_2', 'sections/section_7', 'sections/section_3', 'sections/section_4', 'sections/section_5', 'course', '']\n"
     ]
    }
   ],
   "source": [
    "file = \"backup/moodle_backup.xml\"\n",
    "tag = \"directory\"\n",
    "\n",
    "#print(read_all(file))\n",
    "print ( find_by_tag(file,tag) )"
   ]
  }
 ],
 "metadata": {
  "colab": {
   "collapsed_sections": [
    "qHNlpN74kd3b",
    "SliYKrKskoQu"
   ],
   "provenance": []
  },
  "kernelspec": {
   "display_name": "Python 3 (ipykernel)",
   "language": "python",
   "name": "python3"
  },
  "language_info": {
   "codemirror_mode": {
    "name": "ipython",
    "version": 3
   },
   "file_extension": ".py",
   "mimetype": "text/x-python",
   "name": "python",
   "nbconvert_exporter": "python",
   "pygments_lexer": "ipython3",
   "version": "3.12.3"
  }
 },
 "nbformat": 4,
 "nbformat_minor": 4
}
